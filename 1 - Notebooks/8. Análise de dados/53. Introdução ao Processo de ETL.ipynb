{
 "cells": [
  {
   "cell_type": "code",
   "execution_count": null,
   "metadata": {},
   "outputs": [],
   "source": [
    "!pip install iso3166"
   ]
  },
  {
   "cell_type": "code",
   "execution_count": null,
   "metadata": {},
   "outputs": [],
   "source": [
    "import iso3166 as cc\n",
    "import pandas as pd\n",
    "\n",
    "\n",
    "countries = []\n",
    "for key in cc.countries_by_name.keys():\n",
    "    countries.append([\n",
    "        cc.countries_by_name[key].name, cc.countries_by_name[key].alpha2,\n",
    "        cc.countries_by_name[key].alpha3, int(cc.countries_by_name[key].numeric)])\n",
    "\n",
    "iso3166 = pd.DataFrame(countries, columns=['Country', 'Alpha2Code', 'Alpha3Code', 'NumericCode'])"
   ]
  },
  {
   "cell_type": "code",
   "execution_count": null,
   "metadata": {},
   "outputs": [],
   "source": [
    ">>> iso3166.shape"
   ]
  },
  {
   "cell_type": "code",
   "execution_count": null,
   "metadata": {},
   "outputs": [],
   "source": [
    ">>> iso3166.dtypes"
   ]
  },
  {
   "cell_type": "code",
   "execution_count": null,
   "metadata": {},
   "outputs": [],
   "source": [
    ">>> iso3166.NumericCode.dtype"
   ]
  },
  {
   "cell_type": "code",
   "execution_count": null,
   "metadata": {},
   "outputs": [],
   "source": [
    ">>> iso3166.info()"
   ]
  },
  {
   "cell_type": "code",
   "execution_count": null,
   "metadata": {},
   "outputs": [],
   "source": [
    ">>> import pandas as pd\n",
    ">>> df1 = pd.DataFrame({'A': ['A0'], 'B': ['B0'], 'C': ['C0'], 'D': ['D0']}, index=[0])\n",
    ">>> df2 = pd.DataFrame({'A': ['A4'], 'B': ['B4'], 'C': ['C4'], 'D': ['D4']}, index=[1])\n",
    ">>> df3 = pd.DataFrame({'A': ['A8'], 'B': ['B8'], 'C': ['C8'], 'D': ['D8']}, index=[2])"
   ]
  },
  {
   "cell_type": "code",
   "execution_count": null,
   "metadata": {},
   "outputs": [],
   "source": [
    ">>> # Concatenação de bases\n",
    "... \n",
    ">>> pd.concat([df1, df2, df3], axis = 1)"
   ]
  },
  {
   "cell_type": "code",
   "execution_count": null,
   "metadata": {},
   "outputs": [],
   "source": [
    ">>> # Mesclagem de bases\n",
    "...\n",
    ">>> df1.append(df2).append(df3)"
   ]
  },
  {
   "cell_type": "code",
   "execution_count": null,
   "metadata": {},
   "outputs": [],
   "source": [
    ">>> left = pd.DataFrame({'key1': ['K0', 'K0', 'K1', 'K2'],\n",
    "                         'key2': ['K0', 'K1', 'K0', 'K1'],\n",
    "                         'A': ['A0', 'A1', 'A2', 'A3'],\n",
    "                         'B': ['B0', 'B1', 'B2', 'B3']})"
   ]
  },
  {
   "cell_type": "code",
   "execution_count": null,
   "metadata": {},
   "outputs": [],
   "source": [
    ">>> right = pd.DataFrame({'key1': ['K0', 'K1', 'K1', 'K2'],\n",
    "                          'key2': ['K0', 'K0', 'K0', 'K0'],\n",
    "                          'C': ['C0', 'C1', 'C2', 'C3'],\n",
    "                          'D': ['D0', 'D1', 'D2', 'D3']})"
   ]
  },
  {
   "cell_type": "code",
   "execution_count": null,
   "metadata": {},
   "outputs": [],
   "source": [
    ">>> left"
   ]
  },
  {
   "cell_type": "code",
   "execution_count": null,
   "metadata": {},
   "outputs": [],
   "source": [
    ">>> right"
   ]
  },
  {
   "cell_type": "code",
   "execution_count": null,
   "metadata": {},
   "outputs": [],
   "source": [
    ">>> # Left Join\n",
    "...\n",
    ">>> pd.merge(left, right, how='left', on=['key1', 'key2'])"
   ]
  },
  {
   "cell_type": "code",
   "execution_count": null,
   "metadata": {},
   "outputs": [],
   "source": [
    ">>> # Right Join\n",
    "...\n",
    ">>> pd.merge(left, right, how='right', on=['key1', 'key2'])"
   ]
  },
  {
   "cell_type": "code",
   "execution_count": null,
   "metadata": {},
   "outputs": [],
   "source": [
    ">>> # Inner Join\n",
    "...\n",
    ">>> pd.merge(left, right, on=['key1', 'key2'], how='inner')"
   ]
  },
  {
   "cell_type": "code",
   "execution_count": null,
   "metadata": {},
   "outputs": [],
   "source": [
    ">>> # Outer Join\n",
    "...\n",
    ">>> pd.merge(left, right, how='outer', on=['key1', 'key2'])"
   ]
  },
  {
   "cell_type": "code",
   "execution_count": null,
   "metadata": {},
   "outputs": [],
   "source": []
  }
 ],
 "metadata": {
  "kernelspec": {
   "display_name": "Python 3",
   "language": "python",
   "name": "python3"
  },
  "language_info": {
   "codemirror_mode": {
    "name": "ipython",
    "version": 3
   },
   "file_extension": ".py",
   "mimetype": "text/x-python",
   "name": "python",
   "nbconvert_exporter": "python",
   "pygments_lexer": "ipython3",
   "version": "3.8.2"
  }
 },
 "nbformat": 4,
 "nbformat_minor": 4
}
