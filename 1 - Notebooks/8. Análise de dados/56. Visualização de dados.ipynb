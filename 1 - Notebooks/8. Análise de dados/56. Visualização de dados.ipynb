{
 "cells": [
  {
   "cell_type": "code",
   "execution_count": null,
   "metadata": {},
   "outputs": [],
   "source": [
    "# Importação do pandas\n",
    "import pandas as pd\n",
    "# URL de leitura dos dados\n",
    "url_dados = 'https://archive.ics.uci.edu/ml/machine-learning-databases/iris/iris.data'\n",
    "# Labels dos atributos do dataset\n",
    "atributos = ['comprimento_sepala', 'largura_sepala', 'comprimento_petala', 'largura_petala', 'especie']\n",
    "# Carga do dataset por meio do csv\n",
    "iris = pd.read_csv(url_dados, names=atributos)\n",
    "# Exibe as primeiras linhas do dataset\n",
    "iris.head()"
   ]
  },
  {
   "cell_type": "code",
   "execution_count": null,
   "metadata": {},
   "outputs": [],
   "source": [
    "# Importação do pyplot\n",
    "import matplotlib.pyplot as plt\n",
    "\n",
    "# Plotando o gráfico de comprimento x largura da sépala\n",
    "plt.scatter(iris['comprimento_sepala'], iris['largura_sepala'])\n",
    "\n",
    "# Incluindo título do gráfico e rótulos dos eixos\n",
    "plt.title('Iris: comprimento x largura da sépala')\n",
    "plt.xlabel('comprimento_sepala')\n",
    "plt.ylabel('largura_sepala')\n",
    "plt.show()"
   ]
  },
  {
   "cell_type": "code",
   "execution_count": null,
   "metadata": {},
   "outputs": [],
   "source": [
    "# Criando o dicionário de cores\n",
    "# Podemos referenciar as cores pela inicial de seus nomes em inglês, por\n",
    "# Exemplo: 'g' para 'green' (verde)\n",
    "cores = {'Iris-setosa':'r', 'Iris-versicolor':'g', 'Iris-virginica':'b'}\n",
    "\n",
    "# plotando cada um dos pontos de dados\n",
    "# o atributo shape retorna uma tupla com o formato (número de linhas, número # de colunas)\n",
    "for i in range(iris.shape[0]):\n",
    "    plt.scatter(\n",
    "        iris['comprimento_sepala'][i], iris['largura_sepala'][i], \n",
    "        color=cores[iris['especie'][i]])\n",
    " \n",
    "# incluindo título do gráfico e rótulos dos eixos\n",
    "plt.title('Iris: comprimento x largura da sépala')\n",
    "plt.xlabel('comprimento_sepala')\n",
    "plt.ylabel('largura_sepala')\n",
    "plt.show()"
   ]
  },
  {
   "cell_type": "code",
   "execution_count": null,
   "metadata": {},
   "outputs": [],
   "source": [
    "# Criando o dicionário de marcadores\n",
    "marcadores = {\n",
    "    'Iris-setosa':'.', 'Iris-versicolor':'+', 'Iris-virginica':'x'}\n",
    "\n",
    "# Plotando cada um dos pontos de dados\n",
    "for i in range(len(iris['comprimento_sepala'])):\n",
    "    plt.scatter(\n",
    "        iris['comprimento_sepala'][i], iris['largura_sepala'][i], \n",
    "        color='blue', marker=marcadores[iris['especie'][i]])\n",
    "\n",
    "# Incluindo título do gráfico e rótulos dos eixos\n",
    "plt.title('Iris: comprimento x largura da sépala')\n",
    "plt.xlabel('comprimento_sepala')\n",
    "plt.ylabel('largura_sepala')\n",
    "plt.show()"
   ]
  },
  {
   "cell_type": "code",
   "execution_count": null,
   "metadata": {},
   "outputs": [],
   "source": [
    "# Selecionando apenas os atributos para serem plotados\n",
    "atributos = iris.columns.drop(['especie'])\n",
    "\n",
    "# Criando o eixo x\n",
    "x_data = iris.index\n",
    "\n",
    "# Plotando cada atributo\n",
    "for atributo in atributos:\n",
    "    plt.plot(x_data, iris[atributo], label=atributo)\n",
    "  \n",
    "# Incluindo título do gráfico e legenda\n",
    "plt.title('Variação dos atributos do dataset Iris')\n",
    "plt.legend()\n",
    "plt.show()"
   ]
  },
  {
   "cell_type": "code",
   "execution_count": null,
   "metadata": {},
   "outputs": [],
   "source": [
    "# Plotando o histograma\n",
    "plt.hist(iris['comprimento_sepala'], bins=7, edgecolor='black')\n",
    "\n",
    "# Incluindo título do gráfico e legenda\n",
    "plt.title('Distribuição de comprimento da sépala')\n",
    "plt.xlabel('comprimento_sepala')\n",
    "plt.ylabel('Frequência')\n",
    "plt.show()"
   ]
  },
  {
   "cell_type": "code",
   "execution_count": null,
   "metadata": {},
   "outputs": [],
   "source": [
    "# Atribuindo os valores de x e y\n",
    "profissoes = [\n",
    "    'Engenheiro', 'Médico', 'Professor', 'Vendedor', 'Administrador', 'Outros']\n",
    "quantidade = [15, 22, 25, 28, 33, 39]\n",
    "\n",
    "# Criando o gráfico de barras\n",
    "plt.bar(profissoes, quantidade)\n",
    "\n",
    "# Incluindo título do gráfico e legenda\n",
    "plt.title(\"Profissão dos respondentes\")\n",
    "plt.xlabel(\"Profissão\")\n",
    "plt.ylabel(\"Número de respondentes\")\n",
    "plt.show()"
   ]
  },
  {
   "cell_type": "code",
   "execution_count": null,
   "metadata": {},
   "outputs": [],
   "source": [
    "# Criando o gráfico de barras\n",
    "plt.barh(profissoes, quantidade) \n",
    "\n",
    "# incluindo título do gráfico e legenda\n",
    "plt.title(\"Profissão dos respondentes\")\n",
    "plt.xlabel(\"Número de respondentes\")\n",
    "plt.ylabel(\"Profissão\")\n",
    "plt.show()"
   ]
  },
  {
   "cell_type": "code",
   "execution_count": null,
   "metadata": {},
   "outputs": [],
   "source": [
    "# criando o gráfico de pizza\n",
    "plt.pie(quantidade, labels = profissoes)\n",
    "plt.show()"
   ]
  },
  {
   "cell_type": "code",
   "execution_count": null,
   "metadata": {},
   "outputs": [],
   "source": [
    "# configurando um grupo de subplots em um grid de 1 linha e 2 colunas\n",
    "# e também o tamanho da figura\n",
    "fig, ax = plt.subplots(1,2, figsize = (12, 4))\n",
    "\n",
    "# retirando os \"ticks\" (marcações) e os rótulos dos subplots\n",
    "plt.setp(ax, xticks=[], xticklabels=[], yticks=[], yticklabels=[])\n",
    "\n",
    "# subplot1: gráfico de barras\n",
    "ax1 = fig.add_subplot(1,2,1)\n",
    "ax1.barh(profissoes, quantidade) \n",
    "\n",
    "# subplot2: gráfico de pizza\n",
    "ax2 = fig.add_subplot(1,2,2)\n",
    "ax2.pie(quantidade, labels = profissoes)\n",
    "plt.show()"
   ]
  },
  {
   "cell_type": "code",
   "execution_count": null,
   "metadata": {},
   "outputs": [],
   "source": [
    "# Configurando um grupo de subplots em um grid de 1 linha e 2 colunas\n",
    "# e também o tamanho da figura\n",
    "fig, ax = plt.subplots(2,2, figsize = (8, 8))\n",
    "\n",
    "# subplot1: histograma do comprimento_petala\n",
    "ax[0,0].hist(iris['comprimento_sepala'], bins=7, edgecolor='black')\n",
    "ax[0,0].set_title(\"comprimento_sepala\")\n",
    "\n",
    "# subplot2: histograma da largura_petala\n",
    "ax[0,1].hist(iris['largura_sepala'], bins=7, edgecolor='black')\n",
    "ax[0,1].set_title(\"largura_sepala\")\n",
    "\n",
    "# subplot3: histograma do comprimento_petala\n",
    "ax[1,0].hist(iris['comprimento_petala'], bins=7, edgecolor='black')\n",
    "ax[1,0].set_title(\"comprimento_petala\")\n",
    "\n",
    "# subplot4: histograma da largura_petala\n",
    "ax[1,1].hist(iris['largura_petala'], bins=7, edgecolor='black');\n",
    "ax[1,1].set_title(\"largura_petala\")\n",
    "plt.show()"
   ]
  },
  {
   "cell_type": "code",
   "execution_count": null,
   "metadata": {},
   "outputs": [],
   "source": [
    "# Configurando um grupo de subplots em um grid de 1 linha e 2 colunas\n",
    "# e também o tamanho da figura\n",
    "fig, ax = plt.subplots(2,2, figsize = (8, 8))\n",
    "\n",
    "# subplot1: boxplot do comprimento_petala\n",
    "ax[0,0].boxplot(iris['comprimento_sepala'])\n",
    "ax[0,0].set_title(\"comprimento_sepala\")\n",
    "\n",
    "# subplot2: boxplot da largura_petala\n",
    "ax[0,1].boxplot(iris['largura_sepala'])\n",
    "ax[0,1].set_title(\"largura_sepala\")\n",
    "\n",
    "# subplot3: boxplot do comprimento_petala\n",
    "ax[1,0].boxplot(iris['comprimento_petala'])\n",
    "ax[1,0].set_title(\"comprimento_petala\")\n",
    "\n",
    "# subplot4: boxplot da largura_petala\n",
    "ax[1,1].boxplot(iris['largura_petala'])\n",
    "ax[1,1].set_title(\"largura_petala\")\n",
    "plt.show()"
   ]
  },
  {
   "cell_type": "code",
   "execution_count": null,
   "metadata": {},
   "outputs": [],
   "source": [
    "# Plotando um scatterplot com Pandas\n",
    "iris.plot.scatter(x='comprimento_sepala', y='largura_sepala', title='Iris: comprimento x largura da sépala')\n",
    "\n",
    "# Também podemos especificar o tipo de gráfico por meio do argumento kind\n",
    "iris.plot(\n",
    "    'comprimento_sepala', 'largura_sepala', kind='scatter',\n",
    "    title='Iris: comprimento x largura da sépala')\n",
    "plt.show()"
   ]
  },
  {
   "cell_type": "code",
   "execution_count": null,
   "metadata": {},
   "outputs": [],
   "source": [
    "# Plotando um subplot de cada atributo numérico do dataset Iris\n",
    "iris.plot.hist(\n",
    "    subplots=True, layout=(2,2), figsize=(8, 8), bins=7, edgecolor='black')\n",
    "plt.show()"
   ]
  },
  {
   "cell_type": "code",
   "execution_count": null,
   "metadata": {},
   "outputs": [],
   "source": [
    "# Plotando um gráfico de pizza com as classes do dataset Iris\n",
    "iris['especie'].value_counts().plot.pie()\n",
    "plt.show()"
   ]
  },
  {
   "cell_type": "code",
   "execution_count": null,
   "metadata": {},
   "outputs": [],
   "source": [
    "# Importação da biblioteca seaborn\n",
    "import seaborn as sns\n",
    "# Configurando o estilo dos gráficos\n",
    "sns.set()"
   ]
  },
  {
   "cell_type": "code",
   "execution_count": null,
   "metadata": {},
   "outputs": [],
   "source": [
    "# Scatter plot com seaborn\n",
    "sns.scatterplot(x='comprimento_sepala', y='largura_sepala', data=iris)\n",
    "plt.show()"
   ]
  },
  {
   "cell_type": "code",
   "execution_count": null,
   "metadata": {},
   "outputs": [],
   "source": [
    "# Scatter plot com seaborn colorido por classes\n",
    "sns.scatterplot(\n",
    "    x='comprimento_sepala', y='largura_sepala', hue='especie', data=iris)\n",
    "plt.show()"
   ]
  },
  {
   "cell_type": "code",
   "execution_count": null,
   "metadata": {},
   "outputs": [],
   "source": [
    "# Histograma com seaborn\n",
    "sns.distplot(iris['comprimento_sepala'], bins=7, kde=True)\n",
    "plt.show()"
   ]
  },
  {
   "cell_type": "code",
   "execution_count": null,
   "metadata": {},
   "outputs": [],
   "source": [
    "# Matriz de correlação com seaborn\n",
    "sns.heatmap(iris.corr(), annot=True, cmap='RdBu')\n",
    "plt.show()"
   ]
  },
  {
   "cell_type": "code",
   "execution_count": null,
   "metadata": {},
   "outputs": [],
   "source": [
    "# Pair plot 1 com seaborn\n",
    "sns.pairplot(iris)\n",
    "plt.show()"
   ]
  },
  {
   "cell_type": "code",
   "execution_count": null,
   "metadata": {},
   "outputs": [],
   "source": [
    "# Pair plot 2 com seaborn\n",
    "sns.pairplot(iris, hue = \"especie\")\n",
    "plt.show()"
   ]
  },
  {
   "cell_type": "code",
   "execution_count": null,
   "metadata": {},
   "outputs": [],
   "source": [
    "# Importando o módulo express da biblioteca plotly \n",
    "import plotly.express as px\n",
    "\n",
    "# Atribuindo os valores de x e y\n",
    "profissoes = [\n",
    "    'Engenheiro', 'Médico', 'Professor', 'Vendedor', 'Administrador', 'Outros']\n",
    "quantidade = [15, 22, 25, 28, 33, 39]\n",
    "# Atribuindo os títulos do gráfico e legenda:\n",
    "title = \"Profissão dos respondentes\"\n",
    "labels = {'x': 'Profissão', 'y': \"Número de respondentes\"}\n",
    "\n",
    "# Criando e passando os dados, título e legenda\n",
    "fig = px.bar(x=profissoes, y=quantidade, labels=labels, title=title)\n",
    "fig.show()"
   ]
  },
  {
   "cell_type": "code",
   "execution_count": null,
   "metadata": {},
   "outputs": [],
   "source": [
    "# Criando e passando os dados, título e legenda\n",
    "labels = {'x': 'Profissão', 'y': \"Número de respondentes\", 'color': 'Legenda'}\n",
    "\n",
    "# Chamaremos o gráfico de \"primeiro_grafico\" e já veremos o porquê\n",
    "primeiro_grafico = px.bar(\n",
    "    x=profissoes, y=quantidade, labels=labels, title=title, color=profissoes)\n",
    "primeiro_grafico.show()"
   ]
  },
  {
   "cell_type": "code",
   "execution_count": null,
   "metadata": {},
   "outputs": [],
   "source": [
    "# Carregando o módulo graph_objects usando o alias \"go\"\n",
    "import plotly.graph_objects as go\n",
    "\n",
    "# Carregando os dados novamente, utilizando o plotly.express\n",
    "iris = px.data.iris()\n",
    "\n",
    "# Criando o mapa de correlações\n",
    "data = iris.corr()\n",
    "\n",
    "# Atribuindo o título\n",
    "title = \"Mapa de correlações do dataset Iris\"\n",
    "labels = {'color': 'Correlação'}\n",
    "\n",
    "# Criando o mapa de calor\n",
    "heatmap = go.Heatmap(\n",
    "    z=data, x=data.index, y=data.columns, \n",
    "    hoverongaps = False, colorscale=\"RdBu\")\n",
    "\n",
    "# Criando uma figura para receber o nosso gráfico\n",
    "segundo_grafico = go.Figure(heatmap)\n",
    "\n",
    "# Mudando a posição dos rótulos das colunas\n",
    "segundo_grafico.update_xaxes(side=\"top\")\n",
    "\n",
    "# Alterando as dimensões da figura\n",
    "segundo_grafico.update_layout(autosize=False, width=500, height=500)\n",
    "segundo_grafico.show()"
   ]
  },
  {
   "cell_type": "code",
   "execution_count": null,
   "metadata": {},
   "outputs": [],
   "source": [
    "# Importando o dash\n",
    "import dash\n",
    "\n",
    "# Importando demais componentes de desenvolvimento web\n",
    "import dash_core_components as dcc\n",
    "import dash_html_components as html\n",
    "\n",
    "# Criando a aplicação (nos moldes do Flask)\n",
    "app = dash.Dash()\n",
    "\n",
    "# Criando o título do nosso dashboard\n",
    "titulo = html.H1('Meu primeiro dashboard!!!')\n",
    "\n",
    "# Redimensionando o gráfico de barras\n",
    "primeiro_grafico.update_layout(autosize=False, height=400)\n",
    "\n",
    "# Gerando objetos do tipo gráfico para incluir no nosso dashboard\n",
    "first_graph = dcc.Graph(figure=primeiro_grafico)\n",
    "second_graph = dcc.Graph(figure=segundo_grafico)\n",
    "\n",
    "# Montando um documento html, que recebe uma div com nossos objetos\n",
    "app.layout = html.Div([titulo, first_graph, second_graph])\n",
    "\n",
    "# Iniciando um servidor para exibir o dashboard na porta 5000\n",
    "app.run_server(port=5000, debug=True, use_reloader=False)"
   ]
  },
  {
   "cell_type": "code",
   "execution_count": null,
   "metadata": {},
   "outputs": [],
   "source": []
  }
 ],
 "metadata": {
  "kernelspec": {
   "display_name": "Python 3",
   "language": "python",
   "name": "python3"
  },
  "language_info": {
   "codemirror_mode": {
    "name": "ipython",
    "version": 3
   },
   "file_extension": ".py",
   "mimetype": "text/x-python",
   "name": "python",
   "nbconvert_exporter": "python",
   "pygments_lexer": "ipython3",
   "version": "3.8.2"
  }
 },
 "nbformat": 4,
 "nbformat_minor": 4
}
