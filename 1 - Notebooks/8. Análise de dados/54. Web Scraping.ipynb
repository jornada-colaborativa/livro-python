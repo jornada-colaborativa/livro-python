{
 "cells": [
  {
   "cell_type": "code",
   "execution_count": null,
   "metadata": {},
   "outputs": [],
   "source": [
    "import ssl\n",
    "ssl._create_default_https_context = ssl._create_unverified_context"
   ]
  },
  {
   "cell_type": "code",
   "execution_count": null,
   "metadata": {},
   "outputs": [],
   "source": [
    ">>> from urllib.request import urlopen\n",
    ">>> if __name__ == '__main__':\n",
    "...    url_stackoverflow_questions = 'https://pt.stackoverflow.com/questions'\n",
    "...    response = urlopen(url_stackoverflow_questions)\n",
    "...    print(response.read())"
   ]
  },
  {
   "cell_type": "code",
   "execution_count": null,
   "metadata": {},
   "outputs": [],
   "source": [
    ">>> from urllib.request import urlopen\n",
    ">>> from bs4 import BeautifulSoup\n",
    ">>> url_stackoverflow_questions = 'https://pt.stackoverflow.com/questions'\n",
    ">>> response = urlopen(url_stackoverflow_questions)\n",
    ">>> html = response.read().decode('utf-8')\n",
    ">>> soup = BeautifulSoup(html, 'html.parser')\n",
    ">>> print(type(soup))"
   ]
  },
  {
   "cell_type": "code",
   "execution_count": null,
   "metadata": {},
   "outputs": [],
   "source": [
    ">>> print(soup)"
   ]
  },
  {
   "cell_type": "code",
   "execution_count": null,
   "metadata": {},
   "outputs": [],
   "source": [
    ">>> from urllib.request import urlopen\n",
    ">>> from urllib.error import HTTPError, URLError\n",
    ">>> from bs4 import BeautifulSoup\n",
    ">>> url_stackoverflow_questions = 'https://pt.stackoverflow.com/questions'\n",
    ">>> try:\n",
    "...     response = urlopen(url_stackoverflow_questions)\n",
    "...     html = response.read().decode('utf-8')\n",
    "...     soup = BeautifulSoup(html, 'html.parser')\n",
    "...     question_elem = soup.find('div', {'class': 'question-summary'}).h3\n",
    "...     tag_a = question_elem.find('a', {'class': 'question-hyperlink'})\n",
    "...     print(tag_a.get_text())\n",
    "... except HTTPError as e:\n",
    "...     print(f\"Erro: {e.reason}, STATUS: {e.reason}\")\n",
    "... except URLError as e:\n",
    "...     print(f\"Erro: {e.reason}\")\n",
    "... except Exception as e:\n",
    "...     print(f\"Tipo da exceção: {type(e)}, Erro: {e.args[0]}\")"
   ]
  },
  {
   "cell_type": "code",
   "execution_count": null,
   "metadata": {},
   "outputs": [],
   "source": [
    ">>> from urllib.request import urlopen\n",
    ">>> from urllib.error import HTTPError, URLError\n",
    ">>> from bs4 import BeautifulSoup\n",
    ">>> url_stackoverflow_questions = 'https://pt.stackoverflow.com/questions'\n",
    ">>> try:\n",
    "...     response = urlopen(url_stackoverflow_questions)\n",
    "...     html = response.read().decode('utf-8')\n",
    "...     soup = BeautifulSoup(html, 'html.parser')\n",
    "...     question_elem = soup.findAll('div', {'class': 'question-summary'})\n",
    "...     for elem in question_elem:\n",
    "...         tag_a = elem.find('h3').find('a', {'class': 'question-hyperlink'})\n",
    "...         print(tag_a.get_text())\n",
    "... except HTTPError as e:\n",
    "...     print(f\"Erro: {e.reason}, STATUS: {e.reason}\")\n",
    "... except URLError as e:\n",
    "...     print(f\"Erro: {e.reason}\")\n",
    "... except Exception as e:\n",
    "...     print(f\"Tipo da exceção: {type(e)}, Erro: {e.args[0]}\")"
   ]
  },
  {
   "cell_type": "code",
   "execution_count": null,
   "metadata": {},
   "outputs": [],
   "source": [
    ">>> from urllib.request import urlopen\n",
    ">>> from urllib.error import HTTPError, URLError\n",
    ">>> from bs4 import BeautifulSoup\n",
    ">>> url_stackoverflow_questions = 'https://pt.stackoverflow.com/questions'\n",
    ">>> dict_question = {}\n",
    ">>> list_questions = []\n",
    ">>> try:\n",
    "...     response = urlopen(url_stackoverflow_questions)\n",
    "...     html = response.read().decode('utf-8')\n",
    "...     soup = BeautifulSoup(html, 'html.parser')\n",
    "... except HTTPError as e:\n",
    "...     print(f\"Erro: {e.reason}, STATUS: {e.reason}\")\n",
    "... except URLError as e:\n",
    "...     print(f\"Erro: {e.reason}\")\n",
    "... except Exception as e:\n",
    "...     print(f\"Tipo da exceção: {type(e)}, Erro: {e.args[0]} \")\n",
    ">>> question_elem = soup.findAll('div', {'class': 'question-summary'})\n",
    ">>> for elem in question_elem:\n",
    "...     try:\n",
    "...         title_question = elem.find('h3').find('a', {\n",
    "...           'class': 'question-hyperlink'}).get_text().strip()\n",
    "...         description_question = elem.find('div', {\n",
    "...           'class': 'excerpt'}).get_text().strip()\n",
    "...         number_votes = elem.find('span', {\n",
    "...           'class': 'vote-count-post'}).get_text().strip()\n",
    "...         # Essas classes representam o status da pergunta\n",
    "...         number_answers = elem.find(class_=[\n",
    "...           'status answered', 'status unanswered',\n",
    "...           'status answered-accepted']).strong.get_text().strip()\n",
    "...         dict_question['title'] = title_question\n",
    "...         dict_question['description'] = description_question\n",
    "...         dict_question['votes'] = number_votes\n",
    "...         dict_question['answers'] = number_answers\n",
    "...         list_questions.append(dict_question.copy())\n",
    "...     except Exception as e:\n",
    "...         print(f\"ERRO: {e}\")\n",
    "...         continue"
   ]
  },
  {
   "cell_type": "code",
   "execution_count": null,
   "metadata": {},
   "outputs": [],
   "source": [
    ">>> print(dict_question)"
   ]
  },
  {
   "cell_type": "code",
   "execution_count": null,
   "metadata": {},
   "outputs": [],
   "source": [
    ">>> number_answers = elem.find(class_=[\n",
    "...     'status answered', 'status unanswered', \n",
    "...     'status answered-accepted']).strong.get_text().strip()\n",
    ">>> print(number_answers)"
   ]
  },
  {
   "cell_type": "code",
   "execution_count": null,
   "metadata": {},
   "outputs": [],
   "source": [
    ">>> from urllib.request import urlopen\n",
    ">>> from urllib.error import HTTPError, URLError\n",
    ">>> from bs4 import BeautifulSoup\n",
    ">>> url_stackoverflow_questions = 'https://pt.stackoverflow.com/questions?page='\n",
    ">>> number_of_pages = 1\n",
    ">>> dict_question = {}\n",
    ">>> list_questions = []\n",
    ">>> while True:\n",
    "...     print(f\"Número da página: {str(number_of_pages)}\")\n",
    "...     try:\n",
    "...         response = urlopen(\n",
    "...             f'{url_stackoverflow_questions}{str(number_of_pages)}')\n",
    "...         html = response.read().decode('utf-8')\n",
    "...         soup = BeautifulSoup(html, 'html.parser')\n",
    "...     except HTTPError as e:\n",
    "...         print(f\"Erro: {e.reason}, STATUS: {e.reason}\")\n",
    "...     except URLError as e:\n",
    "...         print(f\"Erro: {e.reason}\")\n",
    "...     except Exception as e:\n",
    "...         print(f\"Tipo da exceção: {type(e)}, Erro: {e.args[0]} \")\n",
    "...     question_elem = soup.findAll('div', {'class': 'question-summary'})\n",
    "...     for elem in question_elem:\n",
    "...         try:\n",
    "...             title_question = elem.find('h3').find('a', {\n",
    "...                 'class': 'question-hyperlink'}).get_text().strip()\n",
    "...             description_question = elem.find('div', {\n",
    "...                 'class': 'excerpt'}).get_text().strip()\n",
    "...             number_votes = elem.find('span', {\n",
    "...                 'class': 'vote-count-post'}).get_text().strip()\n",
    "...             number_answers = elem.find(class_=[\n",
    "...                 'status answered', 'status unanswered',\n",
    "...                 'status answered-accepted'\n",
    "...             ]).strong.get_text().strip()\n",
    "...             dict_question['title'] = title_question\n",
    "...             dict_question['description'] = description_question\n",
    "...             dict_question['votes'] = number_votes\n",
    "...             dict_question['answers'] = number_answers\n",
    "...             list_questions.append(dict_question.copy())\n",
    "...         except Exception as e:\n",
    "...             print(f\"ERRO: {e}\")\n",
    "...             continue\n",
    "...     number_of_pages += 1\n",
    "...     if number_of_pages >= 11:\n",
    "...         break\n",
    "...     print(list_questions)"
   ]
  },
  {
   "cell_type": "code",
   "execution_count": null,
   "metadata": {},
   "outputs": [],
   "source": []
  }
 ],
 "metadata": {
  "kernelspec": {
   "display_name": "Python 3",
   "language": "python",
   "name": "python3"
  },
  "language_info": {
   "codemirror_mode": {
    "name": "ipython",
    "version": 3
   },
   "file_extension": ".py",
   "mimetype": "text/x-python",
   "name": "python",
   "nbconvert_exporter": "python",
   "pygments_lexer": "ipython3",
   "version": "3.8.2"
  }
 },
 "nbformat": 4,
 "nbformat_minor": 4
}
