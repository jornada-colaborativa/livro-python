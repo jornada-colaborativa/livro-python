{
 "cells": [
  {
   "cell_type": "code",
   "execution_count": null,
   "metadata": {},
   "outputs": [],
   "source": [
    ">>> # Importando o módulo Numpy\n",
    ">>> import numpy as np"
   ]
  },
  {
   "cell_type": "code",
   "execution_count": null,
   "metadata": {},
   "outputs": [],
   "source": [
    ">>> # Criando um array unidimensional\n",
    ">>> array1 = np.array([1, 2, 3, 4, 5])\n",
    ">>> array1"
   ]
  },
  {
   "cell_type": "code",
   "execution_count": null,
   "metadata": {},
   "outputs": [],
   "source": [
    ">>> # Verificando o formato (shape) do array\n",
    ">>> array1.shape"
   ]
  },
  {
   "cell_type": "code",
   "execution_count": null,
   "metadata": {},
   "outputs": [],
   "source": [
    ">>> # Criando array com o método arange\n",
    ">>> array = np.arange(10)\n",
    ">>> array"
   ]
  },
  {
   "cell_type": "code",
   "execution_count": null,
   "metadata": {},
   "outputs": [],
   "source": [
    ">>> # Alterando o formato do array para 2 linhas e 5 colunas\n",
    ">>> array = array.reshape(2, 5)\n",
    ">>> array"
   ]
  },
  {
   "cell_type": "code",
   "execution_count": null,
   "metadata": {},
   "outputs": [],
   "source": [
    ">>> np.array_split(array, 2)"
   ]
  },
  {
   "cell_type": "code",
   "execution_count": null,
   "metadata": {},
   "outputs": [],
   "source": [
    ">>> A = np.array([[1,0],[0,1]])\n",
    ">>> B = np.array([[1,2],[3,4]])"
   ]
  },
  {
   "cell_type": "code",
   "execution_count": null,
   "metadata": {},
   "outputs": [],
   "source": [
    ">>> np.sum(B, axis=0, keepdims=True) # linhas"
   ]
  },
  {
   "cell_type": "code",
   "execution_count": null,
   "metadata": {},
   "outputs": [],
   "source": [
    ">>> np.sum(B, axis=1, keepdims=True) # colunas"
   ]
  },
  {
   "cell_type": "code",
   "execution_count": null,
   "metadata": {},
   "outputs": [],
   "source": [
    ">>> A + B"
   ]
  },
  {
   "cell_type": "code",
   "execution_count": null,
   "metadata": {},
   "outputs": [],
   "source": [
    ">>> import pandas as pd"
   ]
  },
  {
   "cell_type": "code",
   "execution_count": null,
   "metadata": {},
   "outputs": [],
   "source": [
    ">>> pd.Series(['Espirito Santo', 'Minas Gerais', 'Rio de Janeiro', 'São Paulo'])"
   ]
  },
  {
   "cell_type": "code",
   "execution_count": null,
   "metadata": {},
   "outputs": [],
   "source": [
    ">>> dados = {\n",
    "...     'col1': ['Ana','João','Fernanda','Maria'], \n",
    "...     'col2': [56.0, 76.5, 85.0, 67.0],\n",
    "...     'col3': [1.56, 1.76, 1.89, 1.66]}\n",
    ">>> df = pd.DataFrame(dados)\n",
    ">>> df"
   ]
  },
  {
   "cell_type": "code",
   "execution_count": null,
   "metadata": {},
   "outputs": [],
   "source": [
    "# >>> dataframe = pd.read_csv('meuarquivo.csv', delimiter=\",\", decimal=\".\")"
   ]
  },
  {
   "cell_type": "code",
   "execution_count": null,
   "metadata": {},
   "outputs": [],
   "source": [
    ">>> Medalhas_Rio2016 = {\n",
    "...     'País' : [\n",
    "...         'USA', 'Grã-Bretanha', 'China', 'Rússia', 'Alemanha', 'Japão', \n",
    "...         'França', 'C. do Sul', 'Itália', 'Austrália', 'Brasil'],\n",
    "...     'Ouro': [46, 27, 26, 19, 17, 12, 10, 9, 8, 8, 7],\n",
    "...     'Prata': [37, 23, 18, 18, 10, 8, 18, 3, 12, 11, 6],\n",
    "...     'Bronze': [38, 17, 26, 19, 15, 21, 14, 9, 8, 10, 6]}\n",
    ">>> olimpiadas_rio2016 = pd.DataFrame(Medalhas_Rio2016)\n",
    ">>> olimpiadas_rio2016"
   ]
  },
  {
   "cell_type": "code",
   "execution_count": null,
   "metadata": {},
   "outputs": [],
   "source": [
    ">>> # Quantidade de linhas e colunas do DataFrame\n",
    ">>> olimpiadas_rio2016.shape"
   ]
  },
  {
   "cell_type": "code",
   "execution_count": null,
   "metadata": {},
   "outputs": [],
   "source": [
    ">>> # Colunas presentes no DataFrame\n",
    ">>> olimpiadas_rio2016.columns"
   ]
  },
  {
   "cell_type": "code",
   "execution_count": null,
   "metadata": {},
   "outputs": [],
   "source": [
    ">>> olimpiadas_rio2016['Total'] = olimpiadas_rio2016['Ouro'] + \\\n",
    "...     olimpiadas_rio2016['Prata'] + olimpiadas_rio2016['Bronze']\n",
    ">>> olimpiadas_rio2016"
   ]
  },
  {
   "cell_type": "code",
   "execution_count": null,
   "metadata": {},
   "outputs": [],
   "source": [
    ">>> olimpiadas_rio2016.rename(columns={'Total':'Total_Medalhas'}, inplace=True)\n",
    ">>> olimpiadas_rio2016"
   ]
  },
  {
   "cell_type": "code",
   "execution_count": null,
   "metadata": {},
   "outputs": [],
   "source": [
    ">>> # Removendo colunas utilizando o argumento axis=1\n",
    ">>> olimpiadas_rio2016.drop(['Total_Medalhas'], inplace=True, axis=1)\n",
    ">>> olimpiadas_rio2016"
   ]
  },
  {
   "cell_type": "code",
   "execution_count": null,
   "metadata": {},
   "outputs": [],
   "source": [
    ">>> olimpiadas_rio2016[:3]"
   ]
  },
  {
   "cell_type": "code",
   "execution_count": null,
   "metadata": {},
   "outputs": [],
   "source": [
    ">>> olimpiadas_rio2016.iloc[[3,6], [1,3]]"
   ]
  },
  {
   "cell_type": "code",
   "execution_count": null,
   "metadata": {},
   "outputs": [],
   "source": [
    ">>> olimpiadas_rio2016.loc[[3, 6], ['Ouro', 'Bronze']]"
   ]
  },
  {
   "cell_type": "code",
   "execution_count": null,
   "metadata": {},
   "outputs": [],
   "source": [
    ">>> olimpiadas_rio2016.loc[0:2, ['País', 'Ouro']].apply(\n",
    "...     lambda x: print(x), axis = 1)"
   ]
  },
  {
   "cell_type": "code",
   "execution_count": null,
   "metadata": {},
   "outputs": [],
   "source": [
    ">>> olimpiadas_rio2016.loc[0:2, ['País', 'Ouro']].apply(\n",
    "...     lambda x: print(x), axis=0)"
   ]
  },
  {
   "cell_type": "code",
   "execution_count": null,
   "metadata": {},
   "outputs": [],
   "source": []
  }
 ],
 "metadata": {
  "kernelspec": {
   "display_name": "Python 3",
   "language": "python",
   "name": "python3"
  },
  "language_info": {
   "codemirror_mode": {
    "name": "ipython",
    "version": 3
   },
   "file_extension": ".py",
   "mimetype": "text/x-python",
   "name": "python",
   "nbconvert_exporter": "python",
   "pygments_lexer": "ipython3",
   "version": "3.8.2"
  }
 },
 "nbformat": 4,
 "nbformat_minor": 4
}
