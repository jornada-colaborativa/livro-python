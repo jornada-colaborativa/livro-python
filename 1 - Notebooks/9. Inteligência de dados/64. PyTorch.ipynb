{
 "cells": [
  {
   "cell_type": "code",
   "execution_count": null,
   "metadata": {},
   "outputs": [],
   "source": [
    "import torch"
   ]
  },
  {
   "cell_type": "code",
   "execution_count": null,
   "metadata": {},
   "outputs": [],
   "source": [
    "x = torch.zeros(4, 3)\n",
    "print(x)"
   ]
  },
  {
   "cell_type": "code",
   "execution_count": null,
   "metadata": {},
   "outputs": [],
   "source": [
    "x = torch.rand(4, 3)\n",
    "print(x)"
   ]
  },
  {
   "cell_type": "code",
   "execution_count": null,
   "metadata": {},
   "outputs": [],
   "source": [
    "y = torch.rand(4, 3)\n",
    "print(x + y)"
   ]
  },
  {
   "cell_type": "code",
   "execution_count": null,
   "metadata": {},
   "outputs": [],
   "source": [
    "import torch\n",
    "import torch.nn as nn\n",
    "import numpy as np\n",
    "import matplotlib.pyplot as plt"
   ]
  },
  {
   "cell_type": "code",
   "execution_count": null,
   "metadata": {},
   "outputs": [],
   "source": [
    "# Hiperparametros\n",
    "tamanho_entrada = 1\n",
    "tamanho_saida = 1\n",
    "epocas = 60\n",
    "learning_rate = 0.001"
   ]
  },
  {
   "cell_type": "code",
   "execution_count": null,
   "metadata": {},
   "outputs": [],
   "source": [
    "# Dados de exemplo\n",
    "x_train = np.array(\n",
    "    [[3.3], [4.4], [5.5], [6.71], [6.93],\n",
    "    [4.168], [9.779], [6.182], [7.59], [2.167], \n",
    "    [7.042], [10.791], [5.313], [7.997], [3.1]], dtype=np.float32)"
   ]
  },
  {
   "cell_type": "code",
   "execution_count": null,
   "metadata": {},
   "outputs": [],
   "source": [
    "y_train = np.array(\n",
    "    [[1.7], [2.76], [2.09], [3.19], [1.694],\n",
    "    [1.573], [3.366], [2.596], [2.53], [1.221],\n",
    "    [2.827], [3.465], [1.65], [2.904], [1.3]], dtype=np.float32)"
   ]
  },
  {
   "cell_type": "code",
   "execution_count": null,
   "metadata": {},
   "outputs": [],
   "source": [
    "# Modelo de Regressão linear\n",
    "model = nn.Linear(tamanho_entrada, tamanho_saida)\n",
    " \n",
    "# Perda e otimizador\n",
    "criterio = nn.MSELoss()\n",
    "otimizador = torch.optim.SGD(model.parameters(), lr=learning_rate)"
   ]
  },
  {
   "cell_type": "code",
   "execution_count": null,
   "metadata": {},
   "outputs": [],
   "source": [
    "# Treinamento do modelo\n",
    "for epoca in range(epocas):\n",
    "    # Converte os arrays numpy em tensores PyTorch\n",
    "    entradas = torch.from_numpy(x_train)\n",
    "    targets = torch.from_numpy(y_train)\n",
    " \n",
    "    # Foward na rede neural\n",
    "    saidas = model(entradas)\n",
    "    loss = criterio(saidas, targets)\n",
    "\n",
    "    # Backwards na rede neural\n",
    "    otimizador.zero_grad()\n",
    "    loss.backward()\n",
    "    otimizador.step()\n",
    "    if (epoca+1) % 5 == 0:\n",
    "        print ('Epoca [{}/{}], Perdas: {:.4f}'.format(\n",
    "            epoca+1, epocas, loss.item()\n",
    "        ))"
   ]
  },
  {
   "cell_type": "code",
   "execution_count": null,
   "metadata": {},
   "outputs": [],
   "source": [
    "# Imprime o grafico da regressão\n",
    "previsto = model(torch.from_numpy(x_train)).detach().numpy()\n",
    "plt.plot(x_train, y_train, 'ro', label='Dados Originais')\n",
    "plt.plot(x_train, previsto, label='Reta Ajustada')\n",
    "plt.title('Hello World - PyTorch')\n",
    "plt.legend()\n",
    "plt.show()"
   ]
  },
  {
   "cell_type": "code",
   "execution_count": null,
   "metadata": {},
   "outputs": [],
   "source": []
  }
 ],
 "metadata": {
  "kernelspec": {
   "display_name": "Python 3",
   "language": "python",
   "name": "python3"
  },
  "language_info": {
   "codemirror_mode": {
    "name": "ipython",
    "version": 3
   },
   "file_extension": ".py",
   "mimetype": "text/x-python",
   "name": "python",
   "nbconvert_exporter": "python",
   "pygments_lexer": "ipython3",
   "version": "3.8.2"
  }
 },
 "nbformat": 4,
 "nbformat_minor": 4
}
