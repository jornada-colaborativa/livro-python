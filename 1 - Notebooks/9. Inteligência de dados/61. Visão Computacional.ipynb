{
 "cells": [
  {
   "cell_type": "code",
   "execution_count": null,
   "metadata": {},
   "outputs": [],
   "source": [
    "# Import OpenCV\n",
    "import cv2 as cv\n",
    "\n",
    "# Check Version\n",
    "cv.__version__"
   ]
  },
  {
   "cell_type": "code",
   "execution_count": null,
   "metadata": {},
   "outputs": [],
   "source": [
    "from matplotlib import pyplot as plt\n",
    "import cv2 as cv\n",
    "import numpy as np"
   ]
  },
  {
   "cell_type": "code",
   "execution_count": null,
   "metadata": {},
   "outputs": [],
   "source": [
    "image1 = cv.imread(filename='image1.jpg', flags=cv.IMREAD_GRAYSCALE)"
   ]
  },
  {
   "cell_type": "code",
   "execution_count": null,
   "metadata": {},
   "outputs": [],
   "source": [
    "ORB = cv.ORB_create()"
   ]
  },
  {
   "cell_type": "code",
   "execution_count": null,
   "metadata": {},
   "outputs": [],
   "source": [
    "# Encontra os pontos-chave e os descritores com ORB\n",
    "keypoints1, descriptors1 = ORB.detectAndCompute (image1, None)\n",
    "\n",
    "# Imprime a quantidade de pontos-chave detectados\n",
    "print(\"Number of keypoints Detected:\", len(keypoints1), \"\\n\")\n",
    "\n",
    "# Imprime o tamanho em bytes do descritor\n",
    "print(\"Size of Descriptor:\", ORB.descriptorSize(), \"\\n\")"
   ]
  },
  {
   "cell_type": "code",
   "execution_count": null,
   "metadata": {},
   "outputs": [],
   "source": [
    "output = cv.drawKeypoints(\n",
    "    image=image1, keypoints=keypoints1[:50], \n",
    "    outImage=None, flags=cv.DRAW_MATCHES_FLAGS_DRAW_RICH_KEYPOINTS)\n",
    "\n",
    "plt.figure()\n",
    "plt.axis('off')\n",
    "plt.imshow(output)\n",
    "plt.show()"
   ]
  },
  {
   "cell_type": "code",
   "execution_count": null,
   "metadata": {},
   "outputs": [],
   "source": [
    "image2 = cv.imread(filename='image2.jpg', flags=cv.IMREAD_GRAYSCALE)"
   ]
  },
  {
   "cell_type": "code",
   "execution_count": null,
   "metadata": {},
   "outputs": [],
   "source": [
    "# Encontra os pontos-chave e os descritores com ORB\n",
    "keypoints2, descriptors2 = ORB.detectAndCompute (image2, None)\n",
    "\n",
    "# Imprime a quantidade de pontos-chave detectados\n",
    "print(\"Number of keypoints Detected (training-set image):\",\n",
    "    len(keypoints2), \"\\n\")\n",
    "\n",
    "# Imprime o tamanho em bytes do descritor\n",
    "print(\"Size of Descriptor (training-set image):\", ORB.descriptorSize(), \"\\n\")"
   ]
  },
  {
   "cell_type": "code",
   "execution_count": null,
   "metadata": {},
   "outputs": [],
   "source": [
    "BFMatcher = cv.BFMatcher(normType=cv.NORM_HAMMING, crossCheck=True)"
   ]
  },
  {
   "cell_type": "code",
   "execution_count": null,
   "metadata": {},
   "outputs": [],
   "source": [
    "matches = BFMatcher.match(queryDescriptors=descriptors1,\n",
    "                          trainDescriptors=descriptors2)"
   ]
  },
  {
   "cell_type": "code",
   "execution_count": null,
   "metadata": {},
   "outputs": [],
   "source": [
    "matches = sorted(matches, key=lambda x: x.distance)"
   ]
  },
  {
   "cell_type": "code",
   "execution_count": null,
   "metadata": {},
   "outputs": [],
   "source": [
    "output = cv.drawMatches(\n",
    "    img1=image1, keypoints1=keypoints1,\n",
    "    img2=image2, keypoints2=keypoints2,\n",
    "    matches1to2=matches[:30], outImg=None,\n",
    "    flags=cv.DrawMatchesFlags_NOT_DRAW_SINGLE_POINTS)\n",
    "\n",
    "plt.figure()\n",
    "plt.axis('off')\n",
    "plt.imshow(output)\n",
    "plt.show()"
   ]
  },
  {
   "cell_type": "code",
   "execution_count": null,
   "metadata": {},
   "outputs": [],
   "source": []
  }
 ],
 "metadata": {
  "kernelspec": {
   "display_name": "Python 3",
   "language": "python",
   "name": "python3"
  },
  "language_info": {
   "codemirror_mode": {
    "name": "ipython",
    "version": 3
   },
   "file_extension": ".py",
   "mimetype": "text/x-python",
   "name": "python",
   "nbconvert_exporter": "python",
   "pygments_lexer": "ipython3",
   "version": "3.8.2"
  }
 },
 "nbformat": 4,
 "nbformat_minor": 4
}
