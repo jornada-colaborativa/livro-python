{
 "cells": [
  {
   "cell_type": "code",
   "execution_count": null,
   "metadata": {},
   "outputs": [],
   "source": [
    "import tensorflow\n",
    "from tensorflow import keras"
   ]
  },
  {
   "cell_type": "code",
   "execution_count": null,
   "metadata": {},
   "outputs": [],
   "source": [
    "dados_originais = keras.datasets.fashion_mnist\n",
    "((imagens_treino, gabarito_treino),\n",
    " (imagens_teste, gabarito_teste)) = dados_originais.load_data()"
   ]
  },
  {
   "cell_type": "code",
   "execution_count": null,
   "metadata": {},
   "outputs": [],
   "source": [
    "classes_por_nome = ['Camiseta/Top', 'Calça', 'Suéter', 'Vestido', 'Casaco',\n",
    "                    'Sandália', 'Camisa', 'Tênis', 'Bolsa', 'Bota']"
   ]
  },
  {
   "cell_type": "code",
   "execution_count": null,
   "metadata": {},
   "outputs": [],
   "source": [
    "import matplotlib.pyplot as plt\n",
    "plt.imshow(imagens_treino[0])\n",
    "plt.title(classes_por_nome[gabarito_treino[0]])\n",
    "plt.colorbar()\n",
    "plt.show()"
   ]
  },
  {
   "cell_type": "code",
   "execution_count": null,
   "metadata": {},
   "outputs": [],
   "source": [
    "modelo = keras.Sequential([keras.layers.Flatten(input_shape=(28, 28))])"
   ]
  },
  {
   "cell_type": "code",
   "execution_count": null,
   "metadata": {},
   "outputs": [],
   "source": [
    "modelo = keras.Sequential([ \n",
    "    keras.layers.Flatten(input_shape=(28, 28)),\n",
    "    keras.layers.Dense(256, activation='relu'),\n",
    "])"
   ]
  },
  {
   "cell_type": "code",
   "execution_count": null,
   "metadata": {},
   "outputs": [],
   "source": [
    "modelo = keras.Sequential([ \n",
    "    keras.layers.Flatten(input_shape=(28, 28)),\n",
    "    keras.layers.Dense(256, activation='relu'),\n",
    "    keras.layers.Dense(10, activation='softmax')\n",
    "])"
   ]
  },
  {
   "cell_type": "code",
   "execution_count": null,
   "metadata": {},
   "outputs": [],
   "source": [
    "modelo.compile(optimizer='adam', loss='sparse_categorical_crossentropy',\n",
    "               metrics=['accuracy'])\n",
    "resultado = modelo.fit(imagens_treino, gabarito_treino)"
   ]
  },
  {
   "cell_type": "code",
   "execution_count": null,
   "metadata": {},
   "outputs": [],
   "source": [
    "resultado = modelo.fit(imagens_treino, gabarito_treino , epochs=6)"
   ]
  },
  {
   "cell_type": "code",
   "execution_count": null,
   "metadata": {},
   "outputs": [],
   "source": [
    "resultado = modelo.fit(imagens_treino, gabarito_treino,\n",
    "                       epochs=6, validation_split=0.2)"
   ]
  },
  {
   "cell_type": "code",
   "execution_count": null,
   "metadata": {},
   "outputs": [],
   "source": [
    "plt.xlabel('Época')\n",
    "plt.ylabel('Acurácia')\n",
    "plt.legend(['Treino', 'Validação'])\n",
    "plt.plot(resultado.history['accuracy'])\n",
    "plt.plot(resultado.history['val_accuracy'])\n",
    "plt.show()"
   ]
  },
  {
   "cell_type": "code",
   "execution_count": null,
   "metadata": {},
   "outputs": [],
   "source": [
    "plt.xlabel('Épocas')\n",
    "plt.ylabel('Perda')\n",
    "plt.plot(resultado.history['loss'], '--')\n",
    "plt.plot(resultado.history['val_loss'])\n",
    "plt.legend(['Treino', 'Validação'])\n",
    "plt.show()"
   ]
  },
  {
   "cell_type": "code",
   "execution_count": null,
   "metadata": {},
   "outputs": [],
   "source": [
    "import tensorflow\n",
    "from tensorflow import keras\n",
    "import matplotlib.pyplot as plt\n",
    "dados_originais = keras.datasets.fashion_mnist\n",
    "((imagens_treino, gabarito_treino),\n",
    " (imagens_teste, gabarito_teste)) = dados_originais.load_data()\n",
    "classes_por_nome = ['Camiseta/Top', 'Calça', 'Suéter', 'Vestido', 'Casaco',\n",
    "                    'Sandália', 'Camisa', 'Tênis', 'Bolsa', 'Bota']\n",
    "\n",
    "plt.imshow(imagens_treino[0])\n",
    "plt.title(classes_por_nome[gabarito_treino[0]])\n",
    "plt.colorbar()\n",
    "plt.show()\n",
    "\n",
    "imagens_treino = imagens_treino/float(255)\n",
    "modelo = keras.Sequential([ \n",
    "    keras.layers.Flatten(input_shape=(28, 28)),\n",
    "    keras.layers.Dense(256, activation='relu'),\n",
    "    keras.layers.Dense(64, activation='relu'),\n",
    "    keras.layers.Dropout(0.15),\n",
    "    keras.layers.Dense(10, activation='softmax')\n",
    "])\n",
    "modelo.compile(optimizer='adam', loss='sparse_categorical_crossentropy',\n",
    "               metrics=['accuracy'])\n",
    "resultado = modelo.fit(imagens_treino, gabarito_treino,\n",
    "                       epochs=10, validation_split=0.2)\n",
    "\n",
    "plt.xlabel('Época')\n",
    "plt.ylabel('Acurácia')\n",
    "plt.plot(resultado.history['accuracy'], '--')\n",
    "plt.plot(resultado.history['val_accuracy'])\n",
    "plt.legend(['Treino', 'Validação'])\n",
    "plt.xlabel('Épocas')\n",
    "plt.ylabel('Perda')\n",
    "plt.plot(resultado.history['loss'], '--')\n",
    "plt.plot(resultado.history['val_loss'])\n",
    "plt.legend(['Treino', 'Validação'])\n",
    "plt.show()"
   ]
  },
  {
   "cell_type": "code",
   "execution_count": null,
   "metadata": {},
   "outputs": [],
   "source": []
  }
 ],
 "metadata": {
  "kernelspec": {
   "display_name": "Python 3",
   "language": "python",
   "name": "python3"
  },
  "language_info": {
   "codemirror_mode": {
    "name": "ipython",
    "version": 3
   },
   "file_extension": ".py",
   "mimetype": "text/x-python",
   "name": "python",
   "nbconvert_exporter": "python",
   "pygments_lexer": "ipython3",
   "version": "3.8.2"
  }
 },
 "nbformat": 4,
 "nbformat_minor": 4
}
