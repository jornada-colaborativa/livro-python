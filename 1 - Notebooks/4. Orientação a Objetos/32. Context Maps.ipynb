{
 "cells": [
  {
   "cell_type": "code",
   "execution_count": null,
   "id": "0d6c72ba-71b5-49c6-a76f-2eaffb90e37b",
   "metadata": {},
   "outputs": [],
   "source": [
    "lista = range(0, 10)"
   ]
  },
  {
   "cell_type": "code",
   "execution_count": null,
   "id": "5f1e32a4-c00c-48c8-92df-f5157b1f910e",
   "metadata": {},
   "outputs": [],
   "source": [
    "def segunda_potencia(valor):\n",
    "    return valor ** 2"
   ]
  },
  {
   "cell_type": "code",
   "execution_count": null,
   "id": "fd834b23-5f05-448b-8968-0dc87ac9ba4c",
   "metadata": {},
   "outputs": [],
   "source": [
    "for i in lista:\n",
    "    print(segunda_potencia(i))"
   ]
  },
  {
   "cell_type": "code",
   "execution_count": null,
   "id": "47c7291d-4e78-4bbb-a3dd-6faf57713b50",
   "metadata": {},
   "outputs": [],
   "source": [
    "func_map = map(segunda_potencia, lista)"
   ]
  },
  {
   "cell_type": "code",
   "execution_count": null,
   "id": "ae0e5cc0-5d3c-47ee-9986-7db7fc97ee1e",
   "metadata": {},
   "outputs": [],
   "source": [
    "print(func_map)"
   ]
  },
  {
   "cell_type": "code",
   "execution_count": null,
   "id": "eb03a64e-5828-4aa7-9dd1-b234655b95be",
   "metadata": {},
   "outputs": [],
   "source": [
    "print(list(func_map))"
   ]
  },
  {
   "cell_type": "code",
   "execution_count": null,
   "id": "36d099c4-e005-4178-b366-c83cb09f6a0a",
   "metadata": {},
   "outputs": [],
   "source": []
  }
 ],
 "metadata": {
  "kernelspec": {
   "display_name": "Python 3",
   "language": "python",
   "name": "python3"
  },
  "language_info": {
   "codemirror_mode": {
    "name": "ipython",
    "version": 3
   },
   "file_extension": ".py",
   "mimetype": "text/x-python",
   "name": "python",
   "nbconvert_exporter": "python",
   "pygments_lexer": "ipython3",
   "version": "3.6.8"
  }
 },
 "nbformat": 4,
 "nbformat_minor": 5
}
