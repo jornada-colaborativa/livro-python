{
 "cells": [
  {
   "cell_type": "code",
   "execution_count": null,
   "id": "bd1df1db-1459-4abc-aa4d-887fcefd911e",
   "metadata": {},
   "outputs": [],
   "source": [
    "def listar_elementos(lista):\n",
    "    for elemento in lista:\n",
    "        return elemento"
   ]
  },
  {
   "cell_type": "code",
   "execution_count": null,
   "id": "d636be20-cc1f-4f54-a966-87a813947f22",
   "metadata": {},
   "outputs": [],
   "source": [
    "listar_elementos([1,2,3,4])"
   ]
  },
  {
   "cell_type": "code",
   "execution_count": null,
   "id": "9043568c-bad9-4067-b396-9c252a3a62da",
   "metadata": {},
   "outputs": [],
   "source": [
    "def listar_elementos(lista):\n",
    "    for elemento in lista:\n",
    "        yield elemento"
   ]
  },
  {
   "cell_type": "code",
   "execution_count": null,
   "id": "9e3682a7-bfb5-4ae7-a30b-9018ab6fba99",
   "metadata": {},
   "outputs": [],
   "source": [
    "listar_elementos([1,2,3,4])"
   ]
  },
  {
   "cell_type": "code",
   "execution_count": null,
   "id": "80173bb6-5c7e-485e-af39-7da0024ce65f",
   "metadata": {},
   "outputs": [],
   "source": [
    "list(listar_elementos([1,2,3,4]))"
   ]
  },
  {
   "cell_type": "markdown",
   "id": "67e965fe-8807-48ea-8660-d6ca2a31655d",
   "metadata": {},
   "source": [
    "Generator Pattern"
   ]
  },
  {
   "cell_type": "code",
   "execution_count": null,
   "id": "f2d10953-1a13-4d79-9144-51e4d0b6940f",
   "metadata": {},
   "outputs": [],
   "source": [
    "class ListarElementos(object):\n",
    "    def __init__(self, lista):\n",
    "        self.__lista = lista\n",
    "        self.__indice = 0\n",
    "    def __iter__(self):\n",
    "        return self\n",
    "    def __next__(self):\n",
    "        return self.__next()\n",
    "    def __next(self):\n",
    "        if self.__indice < len(self.__lista):\n",
    "            res = self.__lista[self.__indice]\n",
    "            self.__indice += 1\n",
    "            return res\n",
    "        else:\n",
    "            raise StopIteration()"
   ]
  },
  {
   "cell_type": "code",
   "execution_count": null,
   "id": "ccc1a78d-1c40-4a42-b427-8eea200b4812",
   "metadata": {},
   "outputs": [],
   "source": [
    "list(listar_elementos([1,2,3,4]))"
   ]
  },
  {
   "cell_type": "markdown",
   "id": "ef13c317-8098-4dde-ab0d-a53b8b66c04e",
   "metadata": {},
   "source": [
    "Expressão Generator"
   ]
  },
  {
   "cell_type": "code",
   "execution_count": null,
   "id": "498631b2-131e-460e-9d82-57a0cbd74590",
   "metadata": {},
   "outputs": [],
   "source": [
    "(x for x in [1,2,3,4])"
   ]
  },
  {
   "cell_type": "code",
   "execution_count": null,
   "id": "bdb2a6a4-497a-4ad2-b237-074db93fafe8",
   "metadata": {},
   "outputs": [],
   "source": [
    "list((x for x in [1,2,3,4]))"
   ]
  },
  {
   "cell_type": "code",
   "execution_count": null,
   "id": "d7d56caa-cecc-43fe-9d87-dc2a081a32c4",
   "metadata": {},
   "outputs": [],
   "source": [
    "import sys"
   ]
  },
  {
   "cell_type": "code",
   "execution_count": null,
   "id": "02d1b54d-1362-4989-a528-e49a5058af55",
   "metadata": {},
   "outputs": [],
   "source": [
    "sys.getsizeof([x for x in range(1000)])"
   ]
  },
  {
   "cell_type": "code",
   "execution_count": null,
   "id": "b6485e4e-5f5e-49bb-a3f0-5ce1bbfee22f",
   "metadata": {},
   "outputs": [],
   "source": [
    "sys.getsizeof((x for x in range(1000)))"
   ]
  },
  {
   "cell_type": "code",
   "execution_count": null,
   "id": "8d439d3b-6322-417e-94e5-6e2633c40436",
   "metadata": {},
   "outputs": [],
   "source": [
    "sys.getsizeof([x for x in [1,2,3,4]])"
   ]
  },
  {
   "cell_type": "code",
   "execution_count": null,
   "id": "e410ff78-5ce6-46ac-9fc0-7242b8488e16",
   "metadata": {},
   "outputs": [],
   "source": [
    "sys.getsizeof((x for x in [1,2,3,4]))"
   ]
  },
  {
   "cell_type": "code",
   "execution_count": null,
   "id": "f0c146a5-903e-4b88-869c-6d2569c3b48c",
   "metadata": {},
   "outputs": [],
   "source": []
  }
 ],
 "metadata": {
  "kernelspec": {
   "display_name": "Python 3",
   "language": "python",
   "name": "python3"
  },
  "language_info": {
   "codemirror_mode": {
    "name": "ipython",
    "version": 3
   },
   "file_extension": ".py",
   "mimetype": "text/x-python",
   "name": "python",
   "nbconvert_exporter": "python",
   "pygments_lexer": "ipython3",
   "version": "3.6.8"
  }
 },
 "nbformat": 4,
 "nbformat_minor": 5
}
