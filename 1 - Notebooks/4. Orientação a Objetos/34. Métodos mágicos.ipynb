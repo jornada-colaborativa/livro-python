{
 "cells": [
  {
   "cell_type": "code",
   "execution_count": null,
   "id": "e13074e2-c2a8-4965-85b6-2329a7b7b544",
   "metadata": {},
   "outputs": [],
   "source": [
    "class Suco():\n",
    "    fruta = []\n",
    "    def __init__(self, *frutas):\n",
    "        self.fruta = [*frutas]\n",
    "    def __add__(self, outro_suco):\n",
    "        resultado = Suco(*self.fruta, *outro_suco.fruta)\n",
    "        return resultado\n",
    "    def __str__(self):\n",
    "        return f\"Suco de {' e '.join(self.fruta)}\""
   ]
  },
  {
   "cell_type": "code",
   "execution_count": null,
   "id": "53dfb924-61a7-4061-972b-39dc1200bc4c",
   "metadata": {},
   "outputs": [],
   "source": [
    "suco_laranja = Suco('laranja')"
   ]
  },
  {
   "cell_type": "code",
   "execution_count": null,
   "id": "0728ffa6-1869-41a4-a65d-a6ace2972e63",
   "metadata": {},
   "outputs": [],
   "source": [
    "suco_maca = Suco('maçã')"
   ]
  },
  {
   "cell_type": "code",
   "execution_count": null,
   "id": "40ccc413-5738-46af-b550-f8dcdf5f5a19",
   "metadata": {},
   "outputs": [],
   "source": [
    "print(f\"Temos dois sucos separados: {suco_laranja} e {suco_maca}\")"
   ]
  },
  {
   "cell_type": "code",
   "execution_count": null,
   "id": "df3c2833-91f0-40ac-b525-c63c8b40ed58",
   "metadata": {},
   "outputs": [],
   "source": [
    "vitamina = suco_maca + suco_laranja"
   ]
  },
  {
   "cell_type": "code",
   "execution_count": null,
   "id": "2d69d76f-5e07-45cf-83ed-c55756156be5",
   "metadata": {},
   "outputs": [],
   "source": [
    "print(f\"Mas se juntarmos tudo em um copo só temos: {vitamina}\")"
   ]
  },
  {
   "cell_type": "code",
   "execution_count": null,
   "id": "f9e869ca-ec13-49f7-a51a-14d857e8e763",
   "metadata": {},
   "outputs": [],
   "source": [
    "dir(vitamina)"
   ]
  },
  {
   "cell_type": "code",
   "execution_count": null,
   "id": "08121410-8be6-4ba9-876d-045dc5fcea1a",
   "metadata": {},
   "outputs": [],
   "source": [
    "class meuint(int):\n",
    "    def __lt__(self, value):\n",
    "        return True\n",
    "    def __gt__(self, value):\n",
    "        return True\n",
    "    def __ge__(self, value):\n",
    "        return True\n",
    "    def __le__(self, value):\n",
    "        return True\n",
    "    def __ne__(self, value):\n",
    "        return True\n",
    "    def __eq__(self, value):\n",
    "        return True"
   ]
  },
  {
   "cell_type": "code",
   "execution_count": null,
   "id": "0d64c666-04c7-4fe5-a3d8-5ad147290069",
   "metadata": {},
   "outputs": [],
   "source": [
    "x = meuint(10)"
   ]
  },
  {
   "cell_type": "code",
   "execution_count": null,
   "id": "1d767357-1f38-4ec0-bacd-dddf801d9278",
   "metadata": {},
   "outputs": [],
   "source": [
    "y = meuint(20)"
   ]
  },
  {
   "cell_type": "code",
   "execution_count": null,
   "id": "8bf6580f-454c-4e61-9775-f261ed475b48",
   "metadata": {},
   "outputs": [],
   "source": [
    "print(x < y)"
   ]
  },
  {
   "cell_type": "code",
   "execution_count": null,
   "id": "cd05301a-9668-45ec-a44f-b0b6856df69b",
   "metadata": {},
   "outputs": [],
   "source": [
    "print(x <= y)"
   ]
  },
  {
   "cell_type": "code",
   "execution_count": null,
   "id": "d82cc4cf-30fb-4f63-a3c9-42abf614edeb",
   "metadata": {},
   "outputs": [],
   "source": [
    "print(x > y)"
   ]
  },
  {
   "cell_type": "code",
   "execution_count": null,
   "id": "da0966dc-606e-483a-a6fb-26dd50ac6cfe",
   "metadata": {},
   "outputs": [],
   "source": [
    "print(x >= y)"
   ]
  },
  {
   "cell_type": "code",
   "execution_count": null,
   "id": "4312477f-0ede-4a06-9db7-2a50cc9b8902",
   "metadata": {},
   "outputs": [],
   "source": [
    "print(x == y)"
   ]
  },
  {
   "cell_type": "code",
   "execution_count": null,
   "id": "0f5530b8-4af3-4af5-a132-4f5dcee2e2b1",
   "metadata": {},
   "outputs": [],
   "source": [
    "print(x != y)"
   ]
  },
  {
   "cell_type": "code",
   "execution_count": null,
   "id": "7151dd84-35d5-4fcd-81cd-5b8795ba466e",
   "metadata": {},
   "outputs": [],
   "source": []
  }
 ],
 "metadata": {
  "kernelspec": {
   "display_name": "Python 3",
   "language": "python",
   "name": "python3"
  },
  "language_info": {
   "codemirror_mode": {
    "name": "ipython",
    "version": 3
   },
   "file_extension": ".py",
   "mimetype": "text/x-python",
   "name": "python",
   "nbconvert_exporter": "python",
   "pygments_lexer": "ipython3",
   "version": "3.6.8"
  }
 },
 "nbformat": 4,
 "nbformat_minor": 5
}
