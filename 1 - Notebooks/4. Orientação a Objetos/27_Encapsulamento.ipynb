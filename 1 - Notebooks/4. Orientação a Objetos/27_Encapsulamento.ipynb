{
  "nbformat": 4,
  "nbformat_minor": 5,
  "metadata": {
    "kernelspec": {
      "display_name": "Python 3",
      "language": "python",
      "name": "python3"
    },
    "language_info": {
      "codemirror_mode": {
        "name": "ipython",
        "version": 3
      },
      "file_extension": ".py",
      "mimetype": "text/x-python",
      "name": "python",
      "nbconvert_exporter": "python",
      "pygments_lexer": "ipython3",
      "version": "3.6.8"
    },
    "colab": {
      "name": "27. Encapsulamento.ipynb",
      "provenance": []
    }
  },
  "cells": [
    {
      "cell_type": "code",
      "metadata": {
        "id": "9892b124-5711-43d7-91d5-3e872e43587d"
      },
      "source": [
        "class Conta:\n",
        "    def __init__(self, numero, saldo):\n",
        "        self.numero = numero\n",
        "        self.__saldo = saldo"
      ],
      "id": "9892b124-5711-43d7-91d5-3e872e43587d",
      "execution_count": null,
      "outputs": []
    },
    {
      "cell_type": "code",
      "metadata": {
        "id": "7dea37cf-b48f-4b91-97c3-c6f63ebc1224"
      },
      "source": [
        "conta1234 = Conta(1234, 750.84)"
      ],
      "id": "7dea37cf-b48f-4b91-97c3-c6f63ebc1224",
      "execution_count": null,
      "outputs": []
    },
    {
      "cell_type": "code",
      "metadata": {
        "id": "77b66417-ac80-4aa0-8e26-4b22a417c43c"
      },
      "source": [
        "conta1234.numero"
      ],
      "id": "77b66417-ac80-4aa0-8e26-4b22a417c43c",
      "execution_count": null,
      "outputs": []
    },
    {
      "cell_type": "code",
      "metadata": {
        "id": "1efecdbb-b343-4c37-86eb-fd945d15386b"
      },
      "source": [
        "(Conta.__saldo)"
      ],
      "id": "1efecdbb-b343-4c37-86eb-fd945d15386b",
      "execution_count": null,
      "outputs": []
    },
    {
      "cell_type": "code",
      "metadata": {
        "id": "3fb2e4a6-9e1d-416e-b8ea-a85cf09a1107"
      },
      "source": [
        "conta1234._Conta__saldo"
      ],
      "id": "3fb2e4a6-9e1d-416e-b8ea-a85cf09a1107",
      "execution_count": null,
      "outputs": []
    },
    {
      "cell_type": "code",
      "metadata": {
        "id": "d1ffe2c4-a262-4a6b-929d-aa7e1046e52a"
      },
      "source": [
        "dir(conta1234)"
      ],
      "id": "d1ffe2c4-a262-4a6b-929d-aa7e1046e52a",
      "execution_count": null,
      "outputs": []
    },
    {
      "cell_type": "code",
      "metadata": {
        "id": "6dc84f9a-7e90-4907-8b1b-9118bddfdb8c"
      },
      "source": [
        "conta1234.__saldo = 1000"
      ],
      "id": "6dc84f9a-7e90-4907-8b1b-9118bddfdb8c",
      "execution_count": null,
      "outputs": []
    },
    {
      "cell_type": "code",
      "metadata": {
        "id": "c57f788e-7c6e-4a40-92c2-87d4e7feb348"
      },
      "source": [
        "conta1234._Conta__saldo"
      ],
      "id": "c57f788e-7c6e-4a40-92c2-87d4e7feb348",
      "execution_count": null,
      "outputs": []
    },
    {
      "cell_type": "code",
      "metadata": {
        "id": "b1787dfe-8b3a-424d-901b-d1701e68ed0a"
      },
      "source": [
        "dir(conta1234)"
      ],
      "id": "b1787dfe-8b3a-424d-901b-d1701e68ed0a",
      "execution_count": null,
      "outputs": []
    },
    {
      "cell_type": "code",
      "metadata": {
        "id": "2c1fdf45-86cc-433b-961a-123ea6fb524e"
      },
      "source": [
        "class Conta:\n",
        "    def __init__(self, numero, saldo):\n",
        "        self.__numero = numero\n",
        "        self.__saldo = saldo\n",
        "    def consulta_saldo(self):\n",
        "        return self.__saldo"
      ],
      "id": "2c1fdf45-86cc-433b-961a-123ea6fb524e",
      "execution_count": null,
      "outputs": []
    },
    {
      "cell_type": "code",
      "metadata": {
        "id": "78d536cc-cf5f-44f5-b72b-1990e4d0026c"
      },
      "source": [
        "conta1234 = Conta(1234, 750.84)"
      ],
      "id": "78d536cc-cf5f-44f5-b72b-1990e4d0026c",
      "execution_count": null,
      "outputs": []
    },
    {
      "cell_type": "code",
      "metadata": {
        "id": "3e72b9be-ea37-4b0d-8cea-2377dc987b59"
      },
      "source": [
        "conta1234.consulta_saldo()"
      ],
      "id": "3e72b9be-ea37-4b0d-8cea-2377dc987b59",
      "execution_count": null,
      "outputs": []
    },
    {
      "cell_type": "code",
      "metadata": {
        "id": "5397feab-4003-4e0a-9c9a-0b54c9481b48"
      },
      "source": [
        ""
      ],
      "id": "5397feab-4003-4e0a-9c9a-0b54c9481b48",
      "execution_count": null,
      "outputs": []
    }
  ]
}