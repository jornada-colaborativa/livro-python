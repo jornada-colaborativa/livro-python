{
 "cells": [
  {
   "cell_type": "code",
   "execution_count": 1,
   "id": "38c868c8-4bcc-43a2-b2aa-a8f21864676e",
   "metadata": {},
   "outputs": [],
   "source": [
    "class Descriptor(object):\n",
    "    def __init__(self):\n",
    "        self.__nome = ''\n",
    "    def __get__(self, instance, owner):\n",
    "        print (self.__class__.__get__.__qualname__)\n",
    "        return self.__nome\n",
    "    def __set__(self, instance, nome):\n",
    "        print (self.__class__.__set__.__qualname__)\n",
    "        self.__nome = ' '.join([n.capitalize() for n in nome.split(' ')])\n",
    "    def __delete__(self, instance):\n",
    "        print (self.__class__.__delete__.__qualname__)\n",
    "        del self.__nome"
   ]
  },
  {
   "cell_type": "code",
   "execution_count": 2,
   "id": "6ad0e4ba-fd87-429e-abfe-1ace7d60aefa",
   "metadata": {},
   "outputs": [],
   "source": [
    "class Pessoa(object):\n",
    "    nome = Descriptor()"
   ]
  },
  {
   "cell_type": "code",
   "execution_count": 3,
   "id": "08501127-adc7-477b-b41f-420c10aee577",
   "metadata": {},
   "outputs": [],
   "source": [
    "usuario = Pessoa()"
   ]
  },
  {
   "cell_type": "code",
   "execution_count": 4,
   "id": "12b88a2c-e6d4-48fc-8d47-11be60d3f8ee",
   "metadata": {},
   "outputs": [
    {
     "name": "stdout",
     "output_type": "stream",
     "text": [
      "Descriptor.__set__\n"
     ]
    }
   ],
   "source": [
    "usuario.nome = 'pedro paulo'"
   ]
  },
  {
   "cell_type": "code",
   "execution_count": 5,
   "id": "a8dda4ac-574e-4718-b89e-fbe91915b502",
   "metadata": {},
   "outputs": [
    {
     "name": "stdout",
     "output_type": "stream",
     "text": [
      "Descriptor.__get__\n",
      "Pedro Paulo\n"
     ]
    }
   ],
   "source": [
    "print(usuario.nome)"
   ]
  },
  {
   "cell_type": "code",
   "execution_count": 6,
   "id": "b2428ce0-cb79-4218-816f-7d1b9db9aa4b",
   "metadata": {},
   "outputs": [
    {
     "name": "stdout",
     "output_type": "stream",
     "text": [
      "Descriptor.__delete__\n"
     ]
    }
   ],
   "source": [
    "del usuario.nome"
   ]
  },
  {
   "cell_type": "markdown",
   "id": "debec3f6-3127-4f03-87fb-3e17e8812f3d",
   "metadata": {},
   "source": [
    "Classe Property"
   ]
  },
  {
   "cell_type": "code",
   "execution_count": 7,
   "id": "5f0faa19-e84b-4db6-85df-2efe52686746",
   "metadata": {},
   "outputs": [
    {
     "name": "stdout",
     "output_type": "stream",
     "text": [
      "Help on class property in module builtins:\n",
      "\n",
      "class property(object)\n",
      " |  property(fget=None, fset=None, fdel=None, doc=None) -> property attribute\n",
      " |  \n",
      " |  fget is a function to be used for getting an attribute value, and likewise\n",
      " |  fset is a function for setting, and fdel a function for del'ing, an\n",
      " |  attribute.  Typical use is to define a managed attribute x:\n",
      " |  \n",
      " |  class C(object):\n",
      " |      def getx(self): return self._x\n",
      " |      def setx(self, value): self._x = value\n",
      " |      def delx(self): del self._x\n",
      " |      x = property(getx, setx, delx, \"I'm the 'x' property.\")\n",
      " |  \n",
      " |  Decorators make defining new properties or modifying existing ones easy:\n",
      " |  \n",
      " |  class C(object):\n",
      " |      @property\n",
      " |      def x(self):\n",
      " |          \"I am the 'x' property.\"\n",
      " |          return self._x\n",
      " |      @x.setter\n",
      " |      def x(self, value):\n",
      " |          self._x = value\n",
      " |      @x.deleter\n",
      " |      def x(self):\n",
      " |          del self._x\n",
      " |  \n",
      " |  Methods defined here:\n",
      " |  \n",
      " |  __delete__(self, instance, /)\n",
      " |      Delete an attribute of instance.\n",
      " |  \n",
      " |  __get__(self, instance, owner, /)\n",
      " |      Return an attribute of instance, which is of type owner.\n",
      " |  \n",
      " |  __getattribute__(self, name, /)\n",
      " |      Return getattr(self, name).\n",
      " |  \n",
      " |  __init__(self, /, *args, **kwargs)\n",
      " |      Initialize self.  See help(type(self)) for accurate signature.\n",
      " |  \n",
      " |  __new__(*args, **kwargs) from builtins.type\n",
      " |      Create and return a new object.  See help(type) for accurate signature.\n",
      " |  \n",
      " |  __set__(self, instance, value, /)\n",
      " |      Set an attribute of instance to value.\n",
      " |  \n",
      " |  deleter(...)\n",
      " |      Descriptor to change the deleter on a property.\n",
      " |  \n",
      " |  getter(...)\n",
      " |      Descriptor to change the getter on a property.\n",
      " |  \n",
      " |  setter(...)\n",
      " |      Descriptor to change the setter on a property.\n",
      " |  \n",
      " |  ----------------------------------------------------------------------\n",
      " |  Data descriptors defined here:\n",
      " |  \n",
      " |  __isabstractmethod__\n",
      " |  \n",
      " |  fdel\n",
      " |  \n",
      " |  fget\n",
      " |  \n",
      " |  fset\n",
      "\n"
     ]
    }
   ],
   "source": [
    "help(property)"
   ]
  },
  {
   "cell_type": "code",
   "execution_count": 8,
   "id": "eb29218b-73ab-4bd8-88b4-fcc8dc595d39",
   "metadata": {},
   "outputs": [],
   "source": [
    "class Pessoa(object):\n",
    "    def init(self):\n",
    "        self.__nome = ''\n",
    "    def get_prop(self):\n",
    "        print (self.__class__.get_prop.__qualname__)\n",
    "        return self.__nome\n",
    "    def set_prop(self, nome):\n",
    "        print (self.__class__.set_prop.__qualname__)\n",
    "        self.__nome = ' '.join([n.capitalize() for n in nome.split(' ')])\n",
    "    def del_prop(self):\n",
    "        print (self.__class__.del_prop.__qualname__)\n",
    "        del self.__nome\n",
    "    nome = property(get_prop, set_prop, del_prop, 'Sou uma propriedade')"
   ]
  },
  {
   "cell_type": "code",
   "execution_count": 9,
   "id": "3fa2b938-dc9e-4aea-985b-212c57a0a561",
   "metadata": {},
   "outputs": [],
   "source": [
    "usuario = Pessoa()"
   ]
  },
  {
   "cell_type": "code",
   "execution_count": 10,
   "id": "ebf8667f-7236-45d5-b577-02c604e4d02e",
   "metadata": {},
   "outputs": [
    {
     "name": "stdout",
     "output_type": "stream",
     "text": [
      "Pessoa.set_prop\n"
     ]
    }
   ],
   "source": [
    "usuario.nome = 'pedro paulo'"
   ]
  },
  {
   "cell_type": "code",
   "execution_count": 11,
   "id": "1c79f5dd-9c0e-40c6-9fcb-e2aab198fa4d",
   "metadata": {},
   "outputs": [
    {
     "name": "stdout",
     "output_type": "stream",
     "text": [
      "Pessoa.get_prop\n",
      "Pedro Paulo\n"
     ]
    }
   ],
   "source": [
    "print(usuario.nome)"
   ]
  },
  {
   "cell_type": "code",
   "execution_count": 12,
   "id": "8754582c-0e49-4263-b3b2-1c90368c9c09",
   "metadata": {},
   "outputs": [
    {
     "name": "stdout",
     "output_type": "stream",
     "text": [
      "Pessoa.del_prop\n"
     ]
    }
   ],
   "source": [
    "del usuario.nome"
   ]
  },
  {
   "cell_type": "code",
   "execution_count": 13,
   "id": "c32c8ec3-2b2c-48d6-bcc7-a4a9611e803b",
   "metadata": {},
   "outputs": [],
   "source": [
    "class Pessoa(object):\n",
    "    def init(self):\n",
    "        self.__nome = ''\n",
    "    def get_prop(self):\n",
    "        print (self.__class__.get_prop.__qualname__)\n",
    "        return self.__nome\n",
    "    def set_prop(self, nome):\n",
    "        print (self.__class__.set_prop.__qualname__)\n",
    "        self.__nome = ' '.join([n.capitalize() for n in nome.split(' ')])\n",
    "    def del_prop(self):\n",
    "        print (self.__class__.del_prop.__qualname__)\n",
    "        del self.__nome\n",
    "    nome = property(get_prop, None, del_prop, 'Sou uma propriedade')"
   ]
  },
  {
   "cell_type": "code",
   "execution_count": 14,
   "id": "4f75ca4a-e382-44b2-a104-79f4fc63a192",
   "metadata": {},
   "outputs": [],
   "source": [
    "usuario = Pessoa()"
   ]
  },
  {
   "cell_type": "code",
   "execution_count": 15,
   "id": "a7fe1e45-1379-4a5a-9a44-41e25602db7d",
   "metadata": {},
   "outputs": [
    {
     "ename": "AttributeError",
     "evalue": "can't set attribute",
     "output_type": "error",
     "traceback": [
      "\u001b[0;31m---------------------------------------------------------------------------\u001b[0m",
      "\u001b[0;31mAttributeError\u001b[0m                            Traceback (most recent call last)",
      "\u001b[0;32m<ipython-input-15-578d2a348c82>\u001b[0m in \u001b[0;36m<module>\u001b[0;34m\u001b[0m\n\u001b[0;32m----> 1\u001b[0;31m \u001b[0musuario\u001b[0m\u001b[0;34m.\u001b[0m\u001b[0mnome\u001b[0m \u001b[0;34m=\u001b[0m \u001b[0;34m'pedro paulo'\u001b[0m\u001b[0;34m\u001b[0m\u001b[0;34m\u001b[0m\u001b[0m\n\u001b[0m",
      "\u001b[0;31mAttributeError\u001b[0m: can't set attribute"
     ]
    }
   ],
   "source": [
    "usuario.nome = 'pedro paulo'"
   ]
  },
  {
   "cell_type": "markdown",
   "id": "36efffa2-f4ab-4a5a-ac40-674a113a4085",
   "metadata": {},
   "source": [
    "Decorators"
   ]
  },
  {
   "cell_type": "code",
   "execution_count": 16,
   "id": "aeee06f0-70c0-4a98-9ff1-0c87a0d9a74b",
   "metadata": {},
   "outputs": [],
   "source": [
    "class Pessoa(object):\n",
    "    def __init__(self):\n",
    "        self.__nome = ''\n",
    "    @property\n",
    "    def nome(self):\n",
    "        return self.__nome\n",
    "    @nome.setter\n",
    "    def nome(self, nome):\n",
    "        self.__nome = ' '.join([n.capitalize() for n in nome.split(' ')])"
   ]
  },
  {
   "cell_type": "code",
   "execution_count": 17,
   "id": "c4825a13-ee7c-47e6-b6f3-095d2f83b206",
   "metadata": {},
   "outputs": [],
   "source": [
    "usuario = Pessoa()"
   ]
  },
  {
   "cell_type": "code",
   "execution_count": 18,
   "id": "77379608-e25a-42f4-b757-e580a2838791",
   "metadata": {},
   "outputs": [],
   "source": [
    "usuario.nome = 'pedro paulo'"
   ]
  },
  {
   "cell_type": "code",
   "execution_count": 19,
   "id": "c5003de7-c921-4408-b2e0-61fbd382e124",
   "metadata": {},
   "outputs": [
    {
     "name": "stdout",
     "output_type": "stream",
     "text": [
      "Pedro Paulo\n"
     ]
    }
   ],
   "source": [
    "print(usuario.nome)"
   ]
  },
  {
   "cell_type": "markdown",
   "id": "01e222d1-4a64-4c1d-97d0-107e68a182dc",
   "metadata": {},
   "source": [
    "Criação dinâmica de descriptors"
   ]
  },
  {
   "cell_type": "code",
   "execution_count": 20,
   "id": "046cc40c-0341-4633-a02d-1793124d63a8",
   "metadata": {},
   "outputs": [],
   "source": [
    "class Pessoa(object):\n",
    "    def set_propriedade(self, atributo, valor):\n",
    "        setattr(self, atributo, valor)\n",
    "    def get_propriedade(self, atributo):\n",
    "        return getattr(self, atributo)"
   ]
  },
  {
   "cell_type": "code",
   "execution_count": 21,
   "id": "e42160a7-f5a2-4370-b891-157892d27753",
   "metadata": {},
   "outputs": [],
   "source": [
    "pessoa = Pessoa()"
   ]
  },
  {
   "cell_type": "code",
   "execution_count": 22,
   "id": "eeb81084-2305-4a6e-892c-840cf07a0395",
   "metadata": {},
   "outputs": [],
   "source": [
    "pessoa.set_propriedade('nome', 'Pedro Paulo')"
   ]
  },
  {
   "cell_type": "code",
   "execution_count": 23,
   "id": "31397a70-2df3-461f-a996-c3f228bb2429",
   "metadata": {},
   "outputs": [
    {
     "data": {
      "text/plain": [
       "'Pedro Paulo'"
      ]
     },
     "execution_count": 23,
     "metadata": {},
     "output_type": "execute_result"
    }
   ],
   "source": [
    "pessoa.get_propriedade('nome')"
   ]
  },
  {
   "cell_type": "code",
   "execution_count": 24,
   "id": "25321b6c-846d-4985-9c37-83716c32b791",
   "metadata": {},
   "outputs": [
    {
     "data": {
      "text/plain": [
       "'Pedro Paulo'"
      ]
     },
     "execution_count": 24,
     "metadata": {},
     "output_type": "execute_result"
    }
   ],
   "source": [
    "pessoa.nome"
   ]
  },
  {
   "cell_type": "code",
   "execution_count": 25,
   "id": "b99776a1-d907-4426-ab53-95c1a555a547",
   "metadata": {},
   "outputs": [],
   "source": [
    "pessoa.set_propriedade('idade', 25)"
   ]
  },
  {
   "cell_type": "code",
   "execution_count": 26,
   "id": "420a3ab3-509a-4c58-a16a-4d303c8526db",
   "metadata": {},
   "outputs": [
    {
     "data": {
      "text/plain": [
       "25"
      ]
     },
     "execution_count": 26,
     "metadata": {},
     "output_type": "execute_result"
    }
   ],
   "source": [
    "pessoa.idade"
   ]
  },
  {
   "cell_type": "code",
   "execution_count": null,
   "id": "47592b5e-37a7-47fe-8514-1a942a9ed848",
   "metadata": {},
   "outputs": [],
   "source": []
  }
 ],
 "metadata": {
  "kernelspec": {
   "display_name": "Python 3",
   "language": "python",
   "name": "python3"
  },
  "language_info": {
   "codemirror_mode": {
    "name": "ipython",
    "version": 3
   },
   "file_extension": ".py",
   "mimetype": "text/x-python",
   "name": "python",
   "nbconvert_exporter": "python",
   "pygments_lexer": "ipython3",
   "version": "3.6.8"
  }
 },
 "nbformat": 4,
 "nbformat_minor": 5
}
