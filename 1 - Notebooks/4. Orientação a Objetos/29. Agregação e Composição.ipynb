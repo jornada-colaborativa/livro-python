{
 "cells": [
  {
   "cell_type": "code",
   "execution_count": null,
   "id": "2850cbdd-8fa4-4cde-904f-4804a862bf3a",
   "metadata": {},
   "outputs": [],
   "source": [
    "import abc"
   ]
  },
  {
   "cell_type": "code",
   "execution_count": null,
   "id": "ee68f2d0-c1cd-4296-9aad-e3cbdc856a6c",
   "metadata": {},
   "outputs": [],
   "source": [
    "class Pessoa(abc.ABC):\n",
    "    def __init__(self, nome, login, senha):\n",
    "        self.nome = nome\n",
    "        self.login = login\n",
    "        self.senha = senha\n",
    "    @abc.abstractmethod\n",
    "    def consulta_nome(self):\n",
    "        raise NotImplementedError()"
   ]
  },
  {
   "cell_type": "code",
   "execution_count": null,
   "id": "34a35232-f4ce-4cc4-959b-8fe152a030a4",
   "metadata": {},
   "outputs": [],
   "source": [
    "class Professor(Pessoa):\n",
    "    def __init__(self, nome, login, senha, titulacao):\n",
    "        Pessoa.__init__(self, nome, login, senha)\n",
    "        self._titulacao = titulacao\n",
    "    def consulta_titulacao(self):\n",
    "        return self._titulacao\n",
    "    def consulta_nome(self):\n",
    "        return self.nome"
   ]
  },
  {
   "cell_type": "code",
   "execution_count": null,
   "id": "36899625-066e-46fc-8f35-abca2e331f81",
   "metadata": {},
   "outputs": [],
   "source": [
    "class Aluno(Pessoa):\n",
    "    def __init__(self, nome, login, senha, curso, orientador):\n",
    "        Pessoa.__init__(self, nome, login, senha)\n",
    "        self._curso = curso\n",
    "        self._orientador = orientador\n",
    "    def consulta_curso(self):\n",
    "        return self._curso\n",
    "    def consulta_orientador(self):\n",
    "        return self._orientador\n",
    "    def consulta_nome(self):\n",
    "        return self.nome"
   ]
  },
  {
   "cell_type": "code",
   "execution_count": null,
   "id": "70785d36-bf74-4df5-8fd9-56a8e3b1795e",
   "metadata": {},
   "outputs": [],
   "source": [
    "professorRubens = Professor('Rubens', 'rub', 'r123', 'Doutor')"
   ]
  },
  {
   "cell_type": "code",
   "execution_count": null,
   "id": "bf85a30c-9039-4e12-97e6-2f0ad75c9394",
   "metadata": {},
   "outputs": [],
   "source": [
    "novoAluno = Aluno('Isabela', 'isa', 'i123', 'Engenharia', professorRubens)"
   ]
  },
  {
   "cell_type": "code",
   "execution_count": null,
   "id": "124291e6-54d4-421f-b992-d5160e5a76c1",
   "metadata": {},
   "outputs": [],
   "source": [
    "import datetime"
   ]
  },
  {
   "cell_type": "code",
   "execution_count": null,
   "id": "98784ee4-7da1-4fac-8d83-ad615105b364",
   "metadata": {},
   "outputs": [],
   "source": [
    "class Historico():\n",
    "    def __init__(self):\n",
    "        self._data_matricula = datetime.datetime.today()\n",
    "        self._ocorrencias = []\n",
    "    def imprime(self):\n",
    "        print(\"Matriculado em {}\".format(self._data_matricula))\n",
    "        print(\"Ocorrências:\")\n",
    "        for o in self._ocorrencias:\n",
    "            print(\"- \", o)"
   ]
  },
  {
   "cell_type": "code",
   "execution_count": null,
   "id": "b1a709e4-2e6f-4301-88ed-17b1165ac775",
   "metadata": {},
   "outputs": [],
   "source": [
    "class Aluno(Pessoa):\n",
    "    def __init__(self, nome, login, senha, curso, orientador):\n",
    "        Pessoa.__init__(self, nome, login, senha)\n",
    "        self._curso = curso\n",
    "        self._orientador = orientador\n",
    "        self._historico = Historico()\n",
    "    def consulta_curso(self):\n",
    "        return self._curso\n",
    "    def consulta_orientador(self):\n",
    "        return self._orientador\n",
    "    def consulta_nome(self):\n",
    "        return self.nome\n",
    "    def gera_ocorrencia(self, ocorrencia):\n",
    "        self._historico._ocorrencias.append(ocorrencia)\n",
    "    def consulta_historico(self):\n",
    "        self._historico.imprime()"
   ]
  },
  {
   "cell_type": "code",
   "execution_count": null,
   "id": "7970bc94-3869-441f-90b1-f8c8f2594300",
   "metadata": {},
   "outputs": [],
   "source": [
    "novoAluno = Aluno('Isabela', 'isa', 'i123', 'Engenharia', professorRubens)"
   ]
  },
  {
   "cell_type": "code",
   "execution_count": null,
   "id": "add8ec54-b840-4040-8a04-fc6c53492393",
   "metadata": {},
   "outputs": [],
   "source": [
    "novoAluno.gera_ocorrencia(\"Matriculou-se em Calculo 1\")"
   ]
  },
  {
   "cell_type": "code",
   "execution_count": null,
   "id": "3ab01852-c442-4e9c-bf2b-0e86f8cde61e",
   "metadata": {},
   "outputs": [],
   "source": [
    "novoAluno.gera_ocorrencia(\"Nota final de Calculo 1: 9,7\")"
   ]
  },
  {
   "cell_type": "code",
   "execution_count": null,
   "id": "a3819979-5a24-42a2-99bb-510fb23a152b",
   "metadata": {},
   "outputs": [],
   "source": [
    "novoAluno.consulta_historico()"
   ]
  },
  {
   "cell_type": "code",
   "execution_count": null,
   "id": "b0498abc-091e-4520-aca6-541e673ff18b",
   "metadata": {},
   "outputs": [],
   "source": []
  }
 ],
 "metadata": {
  "kernelspec": {
   "display_name": "Python 3",
   "language": "python",
   "name": "python3"
  },
  "language_info": {
   "codemirror_mode": {
    "name": "ipython",
    "version": 3
   },
   "file_extension": ".py",
   "mimetype": "text/x-python",
   "name": "python",
   "nbconvert_exporter": "python",
   "pygments_lexer": "ipython3",
   "version": "3.6.8"
  }
 },
 "nbformat": 4,
 "nbformat_minor": 5
}
