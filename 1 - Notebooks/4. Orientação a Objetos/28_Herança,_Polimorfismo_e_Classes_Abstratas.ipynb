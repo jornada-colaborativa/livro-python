{
  "nbformat": 4,
  "nbformat_minor": 5,
  "metadata": {
    "kernelspec": {
      "display_name": "Python 3",
      "language": "python",
      "name": "python3"
    },
    "language_info": {
      "codemirror_mode": {
        "name": "ipython",
        "version": 3
      },
      "file_extension": ".py",
      "mimetype": "text/x-python",
      "name": "python",
      "nbconvert_exporter": "python",
      "pygments_lexer": "ipython3",
      "version": "3.6.8"
    },
    "colab": {
      "name": "28. Herança, Polimorfismo e Classes Abstratas.ipynb",
      "provenance": []
    }
  },
  "cells": [
    {
      "cell_type": "markdown",
      "metadata": {
        "id": "4c4d96e4-4113-4c58-80e3-f53aa6e5b45d"
      },
      "source": [
        "Herança"
      ],
      "id": "4c4d96e4-4113-4c58-80e3-f53aa6e5b45d"
    },
    {
      "cell_type": "code",
      "metadata": {
        "id": "6b3c20b9-269e-4a2e-84b2-0b29449e11e7"
      },
      "source": [
        "class Pessoa:\n",
        "    def __init__(self, nome, login, senha):\n",
        "        self.__nome = nome\n",
        "        self.__login = login\n",
        "        self.__senha = senha\n",
        "    def consulta_nome(self):\n",
        "        return self.__nome"
      ],
      "id": "6b3c20b9-269e-4a2e-84b2-0b29449e11e7",
      "execution_count": null,
      "outputs": []
    },
    {
      "cell_type": "code",
      "metadata": {
        "id": "f3ad8ace-216a-4bec-ad8e-e608fef6818c"
      },
      "source": [
        "class Aluno(Pessoa):\n",
        "    def __init__(self, nome, login, senha, curso):\n",
        "        Pessoa.__init__(self, nome, login, senha)\n",
        "        self.__curso = curso\n",
        "    def consulta_curso(self):\n",
        "        return self.__curso"
      ],
      "id": "f3ad8ace-216a-4bec-ad8e-e608fef6818c",
      "execution_count": null,
      "outputs": []
    },
    {
      "cell_type": "code",
      "metadata": {
        "id": "4c091635-2af0-43f0-83da-5c0dd204eded"
      },
      "source": [
        "class Professor(Pessoa):\n",
        "    def __init__(self, nome, login, senha, titulacao):\n",
        "        Pessoa.__init__(self, nome, login, senha)\n",
        "        self.__titulacao = titulacao\n",
        "    def consulta_titulacao(self):\n",
        "        return self.__titulacao"
      ],
      "id": "4c091635-2af0-43f0-83da-5c0dd204eded",
      "execution_count": null,
      "outputs": []
    },
    {
      "cell_type": "code",
      "metadata": {
        "id": "efaf809e-c207-479e-bb03-812e0ece3c3f"
      },
      "source": [
        "pessoa1 = Pessoa('Maria', 'mary', 'm123')"
      ],
      "id": "efaf809e-c207-479e-bb03-812e0ece3c3f",
      "execution_count": null,
      "outputs": []
    },
    {
      "cell_type": "code",
      "metadata": {
        "id": "74396f72-5e31-471c-a6cd-248c8b341ae3"
      },
      "source": [
        "print(pessoa1.consulta_nome())"
      ],
      "id": "74396f72-5e31-471c-a6cd-248c8b341ae3",
      "execution_count": null,
      "outputs": []
    },
    {
      "cell_type": "code",
      "metadata": {
        "id": "f4548d42-0aca-4231-8934-bb11b81fb266"
      },
      "source": [
        "aluna1 = Aluno('Viviane', 'vivi', 'v123', 'Informática')"
      ],
      "id": "f4548d42-0aca-4231-8934-bb11b81fb266",
      "execution_count": null,
      "outputs": []
    },
    {
      "cell_type": "code",
      "metadata": {
        "id": "5ab95e13-a4d1-4ab3-a810-2f42ef236f23"
      },
      "source": [
        "print(aluna1.consulta_nome())"
      ],
      "id": "5ab95e13-a4d1-4ab3-a810-2f42ef236f23",
      "execution_count": null,
      "outputs": []
    },
    {
      "cell_type": "code",
      "metadata": {
        "id": "c66cc2fe-c068-40fd-a930-a66c251ece6e"
      },
      "source": [
        "print(aluna1.consulta_curso())"
      ],
      "id": "c66cc2fe-c068-40fd-a930-a66c251ece6e",
      "execution_count": null,
      "outputs": []
    },
    {
      "cell_type": "code",
      "metadata": {
        "id": "5b580b04-5144-4361-9efe-80de25072bdb"
      },
      "source": [
        "prof1 = Professor('Tatiana', 'tati', 't123', 'Doutorado')"
      ],
      "id": "5b580b04-5144-4361-9efe-80de25072bdb",
      "execution_count": null,
      "outputs": []
    },
    {
      "cell_type": "code",
      "metadata": {
        "id": "fda87169-ecec-4d94-8be5-8a0bba3735a7"
      },
      "source": [
        "print(prof1.consulta_nome())"
      ],
      "id": "fda87169-ecec-4d94-8be5-8a0bba3735a7",
      "execution_count": null,
      "outputs": []
    },
    {
      "cell_type": "code",
      "metadata": {
        "id": "452f60b4-f19a-4373-af9b-db09982fc739"
      },
      "source": [
        "print(prof1.consulta_titulacao())"
      ],
      "id": "452f60b4-f19a-4373-af9b-db09982fc739",
      "execution_count": null,
      "outputs": []
    },
    {
      "cell_type": "code",
      "metadata": {
        "id": "c3d65bdb-a5be-48df-be46-ae429f8bf49b"
      },
      "source": [
        "class Quadrilatero:\n",
        "    def __init__(self, lado1, lado2, lado3, lado4):\n",
        "        self.lado1 = lado1\n",
        "        self.lado2 = lado2\n",
        "        self.lado3 = lado3\n",
        "        self.lado4 = lado4\n",
        "    def calcula_perimetro(self):\n",
        "        return lado1 + lado2 + lado3 + lado3"
      ],
      "id": "c3d65bdb-a5be-48df-be46-ae429f8bf49b",
      "execution_count": null,
      "outputs": []
    },
    {
      "cell_type": "code",
      "metadata": {
        "id": "1ca5a1b8-a788-420d-be3f-5bcba6b24de9"
      },
      "source": [
        "class Quadrado(Quadrilatero):\n",
        "    def __init__(self, lado1, lado2, lado3, lado4):\n",
        "        super().__init__(lado1, lado2, lado3, lado4)\n",
        "    def vefica_lados_iguais(self):\n",
        "        if self.lado1 == self.lado2 == self.lado3 == self.lado4:\n",
        "            print(\"Lados iguais\")\n",
        "        else:\n",
        "            print(\"Lados diferentes\")"
      ],
      "id": "1ca5a1b8-a788-420d-be3f-5bcba6b24de9",
      "execution_count": null,
      "outputs": []
    },
    {
      "cell_type": "code",
      "metadata": {
        "id": "2ca9382d-61ad-46ef-9fed-82e3985e6ea3"
      },
      "source": [
        "quadrado1 = Quadrado(12, 12, 12, 12)"
      ],
      "id": "2ca9382d-61ad-46ef-9fed-82e3985e6ea3",
      "execution_count": null,
      "outputs": []
    },
    {
      "cell_type": "code",
      "metadata": {
        "id": "18e0a12d-bbb2-4106-9d29-227432a522ad"
      },
      "source": [
        "quadrado1.vefica_lados_iguais()"
      ],
      "id": "18e0a12d-bbb2-4106-9d29-227432a522ad",
      "execution_count": null,
      "outputs": []
    },
    {
      "cell_type": "code",
      "metadata": {
        "id": "85f40570-9652-4f0d-a840-b2a965d71f8b"
      },
      "source": [
        "quadrado2 = Quadrado(10, 12, 10, 12)"
      ],
      "id": "85f40570-9652-4f0d-a840-b2a965d71f8b",
      "execution_count": null,
      "outputs": []
    },
    {
      "cell_type": "code",
      "metadata": {
        "id": "ce15a22f-413b-40d9-9a86-7cec82fb3edf"
      },
      "source": [
        "quadrado2.vefica_lados_iguais()"
      ],
      "id": "ce15a22f-413b-40d9-9a86-7cec82fb3edf",
      "execution_count": null,
      "outputs": []
    },
    {
      "cell_type": "markdown",
      "metadata": {
        "id": "e1cfb1b5-43d7-45cc-9492-26b3045467e8"
      },
      "source": [
        "Polimorfismo"
      ],
      "id": "e1cfb1b5-43d7-45cc-9492-26b3045467e8"
    },
    {
      "cell_type": "code",
      "metadata": {
        "id": "aee85bc4-aeaf-417e-b879-6ec3ae81193c"
      },
      "source": [
        "class EntradaUniversidade:\n",
        "    def __init__(self):\n",
        "        pass\n",
        "    def permite_entrada(self, pessoa):\n",
        "        print(\"Pode entrar, \" + pessoa.consulta_nome())"
      ],
      "id": "aee85bc4-aeaf-417e-b879-6ec3ae81193c",
      "execution_count": null,
      "outputs": []
    },
    {
      "cell_type": "code",
      "metadata": {
        "id": "59d7c26e-8d10-4767-9245-cbeffc5a05e9"
      },
      "source": [
        "entrada = EntradaUniversidade()"
      ],
      "id": "59d7c26e-8d10-4767-9245-cbeffc5a05e9",
      "execution_count": null,
      "outputs": []
    },
    {
      "cell_type": "code",
      "metadata": {
        "id": "bf96466f-f472-4b59-889d-f1d2461ceeca"
      },
      "source": [
        "entrada.permite_entrada(prof1)"
      ],
      "id": "bf96466f-f472-4b59-889d-f1d2461ceeca",
      "execution_count": null,
      "outputs": []
    },
    {
      "cell_type": "code",
      "metadata": {
        "id": "99a3b82d-a525-406b-af87-8b23b7652330"
      },
      "source": [
        "# Classe Coordenador\n",
        "class Coordenador(Pessoa):\n",
        "    def __init__(self, nome, login, senha):\n",
        "        Pessoa.__init__(self, nome, login, senha)"
      ],
      "id": "99a3b82d-a525-406b-af87-8b23b7652330",
      "execution_count": null,
      "outputs": []
    },
    {
      "cell_type": "code",
      "metadata": {
        "id": "737a3fa2-f967-46c6-ae37-208e4b8ceec3"
      },
      "source": [
        "coord1 = Coordenador('Rubens', 'ru', 'r123')"
      ],
      "id": "737a3fa2-f967-46c6-ae37-208e4b8ceec3",
      "execution_count": null,
      "outputs": []
    },
    {
      "cell_type": "code",
      "metadata": {
        "id": "9861da20-182b-43ff-bbe7-e0f2f24a36c3"
      },
      "source": [
        "entrada.permite_entrada(coord1)"
      ],
      "id": "9861da20-182b-43ff-bbe7-e0f2f24a36c3",
      "execution_count": null,
      "outputs": []
    },
    {
      "cell_type": "code",
      "metadata": {
        "id": "764ffc70-8176-49b9-8a3c-fd0445e43187"
      },
      "source": [
        "entrada.permite_entrada(quadrado1)"
      ],
      "id": "764ffc70-8176-49b9-8a3c-fd0445e43187",
      "execution_count": null,
      "outputs": []
    },
    {
      "cell_type": "code",
      "metadata": {
        "id": "7b5e5abc-bdb9-4626-9d68-fcded005eeb0"
      },
      "source": [
        "class EntradaUniversidade:\n",
        "    def __init__(self):\n",
        "        pass\n",
        "    def permite_entrada(self, pessoa):\n",
        "        if(hasattr(pessoa, 'consulta_nome')):\n",
        "            print(\"Pode entrar, \" + pessoa.consulta_nome())\n",
        "        else:\n",
        "            print(\"Entrada não permitida\")"
      ],
      "id": "7b5e5abc-bdb9-4626-9d68-fcded005eeb0",
      "execution_count": null,
      "outputs": []
    },
    {
      "cell_type": "code",
      "metadata": {
        "id": "78fe59df-9230-40f1-9b3a-f9ff7398d855"
      },
      "source": [
        "entrada = EntradaUniversidade()"
      ],
      "id": "78fe59df-9230-40f1-9b3a-f9ff7398d855",
      "execution_count": null,
      "outputs": []
    },
    {
      "cell_type": "code",
      "metadata": {
        "id": "96c005a4-1baa-49ef-94d0-bbe693f29be7"
      },
      "source": [
        "entrada.permite_entrada(quadrado1)"
      ],
      "id": "96c005a4-1baa-49ef-94d0-bbe693f29be7",
      "execution_count": null,
      "outputs": []
    },
    {
      "cell_type": "markdown",
      "metadata": {
        "id": "fc3f427c-f0fa-419d-a2b9-78085e78b9d7"
      },
      "source": [
        "Classes abstratas"
      ],
      "id": "fc3f427c-f0fa-419d-a2b9-78085e78b9d7"
    },
    {
      "cell_type": "code",
      "metadata": {
        "id": "645a10df-51a8-4f73-aa1b-76dfa9d240de"
      },
      "source": [
        "class Pessoa:\n",
        "    def __init__(self, nome, login, senha):\n",
        "        self.__nome = nome\n",
        "        self.__login = login\n",
        "        self.__senha = senha\n",
        "    def consulta_nome(self):\n",
        "        return self.__nome"
      ],
      "id": "645a10df-51a8-4f73-aa1b-76dfa9d240de",
      "execution_count": null,
      "outputs": []
    },
    {
      "cell_type": "code",
      "metadata": {
        "id": "4df893a4-809f-432a-ad87-8b04dae6dd3d"
      },
      "source": [
        "class Aluno(Pessoa):\n",
        "    def __init__(self, nome, login, senha, curso):\n",
        "        Pessoa.__init__(self, nome, login, senha)\n",
        "        self.__curso = curso\n",
        "    def consulta_curso(self):\n",
        "        return self.__curso"
      ],
      "id": "4df893a4-809f-432a-ad87-8b04dae6dd3d",
      "execution_count": null,
      "outputs": []
    },
    {
      "cell_type": "code",
      "metadata": {
        "id": "7d65836a-6c07-460c-b9dd-3f35ee8c9aae"
      },
      "source": [
        "class Professor(Pessoa):\n",
        "    def __init__(self, nome, login, senha, titulacao):\n",
        "        Pessoa.__init__(self, nome, login, senha)\n",
        "        self.__titulacao = titulacao\n",
        "    def consulta_titulacao(self):\n",
        "        return self.__titulacao"
      ],
      "id": "7d65836a-6c07-460c-b9dd-3f35ee8c9aae",
      "execution_count": null,
      "outputs": []
    },
    {
      "cell_type": "code",
      "metadata": {
        "id": "399999e6-914c-463e-9d55-d2c05c45b63c"
      },
      "source": [
        "class EntradaUniversidade:\n",
        "    def __init__(self):\n",
        "        pass\n",
        "    \n",
        "    def permite_entrada(self, pessoa):\n",
        "        if(hasattr(pessoa, 'consulta_nome')):\n",
        "            print(\"Pode entrar, \" + pessoa.consulta_nome())\n",
        "        else:\n",
        "            print(\"Entrada não permitida\")"
      ],
      "id": "399999e6-914c-463e-9d55-d2c05c45b63c",
      "execution_count": null,
      "outputs": []
    },
    {
      "cell_type": "code",
      "metadata": {
        "id": "5621c869-a610-496b-86ea-5578feb6216f"
      },
      "source": [
        "import abc"
      ],
      "id": "5621c869-a610-496b-86ea-5578feb6216f",
      "execution_count": null,
      "outputs": []
    },
    {
      "cell_type": "code",
      "metadata": {
        "id": "d4477846-bfb8-4449-bfd0-9428f7691d76"
      },
      "source": [
        "class Pessoa(abc.ABC):\n",
        "    def __init__(self, nome, login, senha):\n",
        "        self.nome = nome\n",
        "        self.login = login\n",
        "        self.senha = senha\n",
        "    @abc.abstractmethod\n",
        "    def consulta_nome(self):\n",
        "        raise NotImplementedError()"
      ],
      "id": "d4477846-bfb8-4449-bfd0-9428f7691d76",
      "execution_count": null,
      "outputs": []
    },
    {
      "cell_type": "code",
      "metadata": {
        "id": "98866ebf-ad55-42ea-988a-9213eb0c7b86"
      },
      "source": [
        "pessoa1 = Pessoa()"
      ],
      "id": "98866ebf-ad55-42ea-988a-9213eb0c7b86",
      "execution_count": null,
      "outputs": []
    },
    {
      "cell_type": "code",
      "metadata": {
        "id": "c27a7aee-3cc7-479e-9ea0-6416e8739c8a"
      },
      "source": [
        "class Assistente(Pessoa):\n",
        "    def __init__(self, nome, login, senha):\n",
        "        Pessoa.__init__(self, nome, login, senha)"
      ],
      "id": "c27a7aee-3cc7-479e-9ea0-6416e8739c8a",
      "execution_count": null,
      "outputs": []
    },
    {
      "cell_type": "code",
      "metadata": {
        "id": "a9ee56e4-4bae-4d12-9ccd-7c7c0bad135c"
      },
      "source": [
        "assist1 = Assistente('Muniz', 'mumu', 'm123')"
      ],
      "id": "a9ee56e4-4bae-4d12-9ccd-7c7c0bad135c",
      "execution_count": null,
      "outputs": []
    },
    {
      "cell_type": "code",
      "metadata": {
        "id": "79c47ead-eae8-4b67-8fd1-19c8d55c55d8"
      },
      "source": [
        "class Assistente(Pessoa):\n",
        "    def __init__(self, nome, login, senha):\n",
        "        Pessoa.__init__(self, nome, login, senha)\n",
        "    def consulta_nome(self):\n",
        "        return self.nome"
      ],
      "id": "79c47ead-eae8-4b67-8fd1-19c8d55c55d8",
      "execution_count": null,
      "outputs": []
    },
    {
      "cell_type": "code",
      "metadata": {
        "id": "ffa913dc-e6ab-42f7-a7db-5f209e716efd"
      },
      "source": [
        "assist1 = Assistente('Muniz', 'mumu', 'm123')"
      ],
      "id": "ffa913dc-e6ab-42f7-a7db-5f209e716efd",
      "execution_count": null,
      "outputs": []
    },
    {
      "cell_type": "code",
      "metadata": {
        "id": "ae664327-1f18-4e16-9446-680523593d2a"
      },
      "source": [
        "assist1.consulta_nome()"
      ],
      "id": "ae664327-1f18-4e16-9446-680523593d2a",
      "execution_count": null,
      "outputs": []
    },
    {
      "cell_type": "code",
      "metadata": {
        "id": "9b02c0ef-e47e-4bf4-91fa-241d99c3e275"
      },
      "source": [
        ""
      ],
      "id": "9b02c0ef-e47e-4bf4-91fa-241d99c3e275",
      "execution_count": null,
      "outputs": []
    }
  ]
}