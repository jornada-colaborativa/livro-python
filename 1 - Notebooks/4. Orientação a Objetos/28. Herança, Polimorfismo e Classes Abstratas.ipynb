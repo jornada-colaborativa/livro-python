{
 "cells": [
  {
   "cell_type": "markdown",
   "id": "4c4d96e4-4113-4c58-80e3-f53aa6e5b45d",
   "metadata": {},
   "source": [
    "Herança"
   ]
  },
  {
   "cell_type": "code",
   "execution_count": 1,
   "id": "6b3c20b9-269e-4a2e-84b2-0b29449e11e7",
   "metadata": {},
   "outputs": [],
   "source": [
    "class Pessoa:\n",
    "    def __init__(self, nome, login, senha):\n",
    "        self._nome = nome\n",
    "        self._login = login\n",
    "        self._senha = senha\n",
    "    def consulta_nome(self):\n",
    "        return self._nome"
   ]
  },
  {
   "cell_type": "code",
   "execution_count": 2,
   "id": "f3ad8ace-216a-4bec-ad8e-e608fef6818c",
   "metadata": {},
   "outputs": [],
   "source": [
    "class Aluno(Pessoa):\n",
    "    def __init__(self, nome, login, senha, curso):\n",
    "        Pessoa.__init__(self, nome, login, senha)\n",
    "        self._curso = curso\n",
    "    def consulta_curso(self):\n",
    "        return self._curso"
   ]
  },
  {
   "cell_type": "code",
   "execution_count": 3,
   "id": "4c091635-2af0-43f0-83da-5c0dd204eded",
   "metadata": {},
   "outputs": [],
   "source": [
    "class Professor(Pessoa):\n",
    "    def __init__(self, nome, login, senha, titulacao):\n",
    "        Pessoa.__init__(self, nome, login, senha)\n",
    "        self._titulacao = titulacao\n",
    "    def consulta_titulacao(self):\n",
    "        return self._titulacao"
   ]
  },
  {
   "cell_type": "code",
   "execution_count": 4,
   "id": "efaf809e-c207-479e-bb03-812e0ece3c3f",
   "metadata": {},
   "outputs": [],
   "source": [
    "pessoa1 = Pessoa('Maria', 'mary', 'm123')"
   ]
  },
  {
   "cell_type": "code",
   "execution_count": 5,
   "id": "74396f72-5e31-471c-a6cd-248c8b341ae3",
   "metadata": {},
   "outputs": [
    {
     "name": "stdout",
     "output_type": "stream",
     "text": [
      "Maria\n"
     ]
    }
   ],
   "source": [
    "print(pessoa1.consulta_nome())"
   ]
  },
  {
   "cell_type": "code",
   "execution_count": 6,
   "id": "f4548d42-0aca-4231-8934-bb11b81fb266",
   "metadata": {},
   "outputs": [],
   "source": [
    "aluna1 = Aluno('Viviane', 'vivi', 'v123', 'Informática')"
   ]
  },
  {
   "cell_type": "code",
   "execution_count": 7,
   "id": "5ab95e13-a4d1-4ab3-a810-2f42ef236f23",
   "metadata": {},
   "outputs": [
    {
     "name": "stdout",
     "output_type": "stream",
     "text": [
      "Viviane\n"
     ]
    }
   ],
   "source": [
    "print(aluna1.consulta_nome())"
   ]
  },
  {
   "cell_type": "code",
   "execution_count": 8,
   "id": "c66cc2fe-c068-40fd-a930-a66c251ece6e",
   "metadata": {},
   "outputs": [
    {
     "name": "stdout",
     "output_type": "stream",
     "text": [
      "Informática\n"
     ]
    }
   ],
   "source": [
    "print(aluna1.consulta_curso())"
   ]
  },
  {
   "cell_type": "code",
   "execution_count": 9,
   "id": "5b580b04-5144-4361-9efe-80de25072bdb",
   "metadata": {},
   "outputs": [],
   "source": [
    "prof1 = Professor('Tatiana', 'tati', 't123', 'Doutorado')"
   ]
  },
  {
   "cell_type": "code",
   "execution_count": 10,
   "id": "fda87169-ecec-4d94-8be5-8a0bba3735a7",
   "metadata": {},
   "outputs": [
    {
     "name": "stdout",
     "output_type": "stream",
     "text": [
      "Tatiana\n"
     ]
    }
   ],
   "source": [
    "print(prof1.consulta_nome())"
   ]
  },
  {
   "cell_type": "code",
   "execution_count": 11,
   "id": "452f60b4-f19a-4373-af9b-db09982fc739",
   "metadata": {},
   "outputs": [
    {
     "name": "stdout",
     "output_type": "stream",
     "text": [
      "Doutorado\n"
     ]
    }
   ],
   "source": [
    "print(prof1.consulta_titulacao())"
   ]
  },
  {
   "cell_type": "code",
   "execution_count": 12,
   "id": "c3d65bdb-a5be-48df-be46-ae429f8bf49b",
   "metadata": {},
   "outputs": [],
   "source": [
    "class Quadrilatero:\n",
    "    def __init__(self, lado1, lado2, lado3, lado4):\n",
    "        self._lado1 = lado1\n",
    "        self._lado2 = lado2\n",
    "        self._lado3 = lado3\n",
    "        self._lado4 = lado4\n",
    "    def calcula_perimetro(self):\n",
    "        return lado1 + lado2 + lado3 + lado3"
   ]
  },
  {
   "cell_type": "code",
   "execution_count": 13,
   "id": "1ca5a1b8-a788-420d-be3f-5bcba6b24de9",
   "metadata": {},
   "outputs": [],
   "source": [
    "class Quadrado(Quadrilatero):\n",
    "    def __init__(self, lado1, lado2, lado3, lado4):\n",
    "        super().__init__(lado1, lado2, lado3, lado4)\n",
    "    def vefica_lados_iguais(self):\n",
    "        if self._lado1 == self._lado2 == self._lado3 == self._lado4:\n",
    "            print(\"Lados iguais\")\n",
    "        else:\n",
    "            print(\"Lados diferentes\")"
   ]
  },
  {
   "cell_type": "code",
   "execution_count": 14,
   "id": "2ca9382d-61ad-46ef-9fed-82e3985e6ea3",
   "metadata": {},
   "outputs": [],
   "source": [
    "quadrado1 = Quadrado(12, 12, 12, 12)"
   ]
  },
  {
   "cell_type": "code",
   "execution_count": 15,
   "id": "18e0a12d-bbb2-4106-9d29-227432a522ad",
   "metadata": {},
   "outputs": [
    {
     "name": "stdout",
     "output_type": "stream",
     "text": [
      "Lados iguais\n"
     ]
    }
   ],
   "source": [
    "quadrado1.vefica_lados_iguais()"
   ]
  },
  {
   "cell_type": "code",
   "execution_count": 16,
   "id": "85f40570-9652-4f0d-a840-b2a965d71f8b",
   "metadata": {},
   "outputs": [],
   "source": [
    "quadrado2 = Quadrado(10, 12, 10, 12)"
   ]
  },
  {
   "cell_type": "code",
   "execution_count": 17,
   "id": "ce15a22f-413b-40d9-9a86-7cec82fb3edf",
   "metadata": {},
   "outputs": [
    {
     "name": "stdout",
     "output_type": "stream",
     "text": [
      "Lados diferentes\n"
     ]
    }
   ],
   "source": [
    "quadrado2.vefica_lados_iguais()"
   ]
  },
  {
   "cell_type": "markdown",
   "id": "e1cfb1b5-43d7-45cc-9492-26b3045467e8",
   "metadata": {},
   "source": [
    "Polimorfismo"
   ]
  },
  {
   "cell_type": "code",
   "execution_count": 18,
   "id": "aee85bc4-aeaf-417e-b879-6ec3ae81193c",
   "metadata": {},
   "outputs": [],
   "source": [
    "class EntradaUniversidade:\n",
    "    def __init__(self):\n",
    "        pass\n",
    "    def permite_entrada(self, pessoa):\n",
    "        print(\"Pode entrar, \" + pessoa.consulta_nome())"
   ]
  },
  {
   "cell_type": "code",
   "execution_count": 19,
   "id": "59d7c26e-8d10-4767-9245-cbeffc5a05e9",
   "metadata": {},
   "outputs": [],
   "source": [
    "entrada = EntradaUniversidade()"
   ]
  },
  {
   "cell_type": "code",
   "execution_count": 20,
   "id": "bf96466f-f472-4b59-889d-f1d2461ceeca",
   "metadata": {},
   "outputs": [
    {
     "name": "stdout",
     "output_type": "stream",
     "text": [
      "Pode entrar, Tatiana\n"
     ]
    }
   ],
   "source": [
    "entrada.permite_entrada(prof1)"
   ]
  },
  {
   "cell_type": "code",
   "execution_count": 21,
   "id": "99a3b82d-a525-406b-af87-8b23b7652330",
   "metadata": {},
   "outputs": [],
   "source": [
    "# Classe Coordenador\n",
    "class Coordenador(Pessoa):\n",
    "    def __init__(self, nome, login, senha):\n",
    "        Pessoa.__init__(self, nome, login, senha)"
   ]
  },
  {
   "cell_type": "code",
   "execution_count": 22,
   "id": "737a3fa2-f967-46c6-ae37-208e4b8ceec3",
   "metadata": {},
   "outputs": [],
   "source": [
    "coord1 = Coordenador('Rubens', 'ru', 'r123')"
   ]
  },
  {
   "cell_type": "code",
   "execution_count": 23,
   "id": "9861da20-182b-43ff-bbe7-e0f2f24a36c3",
   "metadata": {},
   "outputs": [
    {
     "name": "stdout",
     "output_type": "stream",
     "text": [
      "Pode entrar, Rubens\n"
     ]
    }
   ],
   "source": [
    "entrada.permite_entrada(coord1)"
   ]
  },
  {
   "cell_type": "code",
   "execution_count": 24,
   "id": "764ffc70-8176-49b9-8a3c-fd0445e43187",
   "metadata": {},
   "outputs": [
    {
     "ename": "AttributeError",
     "evalue": "'Quadrado' object has no attribute 'consulta_nome'",
     "output_type": "error",
     "traceback": [
      "\u001b[0;31m---------------------------------------------------------------------------\u001b[0m",
      "\u001b[0;31mAttributeError\u001b[0m                            Traceback (most recent call last)",
      "\u001b[0;32m<ipython-input-24-e149819ffbc7>\u001b[0m in \u001b[0;36m<module>\u001b[0;34m\u001b[0m\n\u001b[0;32m----> 1\u001b[0;31m \u001b[0mentrada\u001b[0m\u001b[0;34m.\u001b[0m\u001b[0mpermite_entrada\u001b[0m\u001b[0;34m(\u001b[0m\u001b[0mquadrado1\u001b[0m\u001b[0;34m)\u001b[0m\u001b[0;34m\u001b[0m\u001b[0;34m\u001b[0m\u001b[0m\n\u001b[0m",
      "\u001b[0;32m<ipython-input-18-7b015a13c627>\u001b[0m in \u001b[0;36mpermite_entrada\u001b[0;34m(self, pessoa)\u001b[0m\n\u001b[1;32m      3\u001b[0m         \u001b[0;32mpass\u001b[0m\u001b[0;34m\u001b[0m\u001b[0;34m\u001b[0m\u001b[0m\n\u001b[1;32m      4\u001b[0m     \u001b[0;32mdef\u001b[0m \u001b[0mpermite_entrada\u001b[0m\u001b[0;34m(\u001b[0m\u001b[0mself\u001b[0m\u001b[0;34m,\u001b[0m \u001b[0mpessoa\u001b[0m\u001b[0;34m)\u001b[0m\u001b[0;34m:\u001b[0m\u001b[0;34m\u001b[0m\u001b[0;34m\u001b[0m\u001b[0m\n\u001b[0;32m----> 5\u001b[0;31m         \u001b[0mprint\u001b[0m\u001b[0;34m(\u001b[0m\u001b[0;34m\"Pode entrar, \"\u001b[0m \u001b[0;34m+\u001b[0m \u001b[0mpessoa\u001b[0m\u001b[0;34m.\u001b[0m\u001b[0mconsulta_nome\u001b[0m\u001b[0;34m(\u001b[0m\u001b[0;34m)\u001b[0m\u001b[0;34m)\u001b[0m\u001b[0;34m\u001b[0m\u001b[0;34m\u001b[0m\u001b[0m\n\u001b[0m",
      "\u001b[0;31mAttributeError\u001b[0m: 'Quadrado' object has no attribute 'consulta_nome'"
     ]
    }
   ],
   "source": [
    "entrada.permite_entrada(quadrado1)"
   ]
  },
  {
   "cell_type": "code",
   "execution_count": 25,
   "id": "7b5e5abc-bdb9-4626-9d68-fcded005eeb0",
   "metadata": {},
   "outputs": [],
   "source": [
    "class EntradaUniversidade:\n",
    "    def __init__(self):\n",
    "        pass\n",
    "    def permite_entrada(self, pessoa):\n",
    "        if(hasattr(pessoa, 'consulta_nome')):\n",
    "            print(\"Pode entrar, \" + pessoa.consulta_nome())\n",
    "        else:\n",
    "            print(\"Entrada não permitida\")"
   ]
  },
  {
   "cell_type": "code",
   "execution_count": 26,
   "id": "78fe59df-9230-40f1-9b3a-f9ff7398d855",
   "metadata": {},
   "outputs": [],
   "source": [
    "entrada = EntradaUniversidade()"
   ]
  },
  {
   "cell_type": "code",
   "execution_count": 27,
   "id": "96c005a4-1baa-49ef-94d0-bbe693f29be7",
   "metadata": {},
   "outputs": [
    {
     "name": "stdout",
     "output_type": "stream",
     "text": [
      "Entrada não permitida\n"
     ]
    }
   ],
   "source": [
    "entrada.permite_entrada(quadrado1)"
   ]
  },
  {
   "cell_type": "markdown",
   "id": "fc3f427c-f0fa-419d-a2b9-78085e78b9d7",
   "metadata": {},
   "source": [
    "Classes abstratas"
   ]
  },
  {
   "cell_type": "code",
   "execution_count": 28,
   "id": "645a10df-51a8-4f73-aa1b-76dfa9d240de",
   "metadata": {},
   "outputs": [],
   "source": [
    "class Pessoa:\n",
    "    def __init__(self, nome, login, senha):\n",
    "        self._nome = nome\n",
    "        self._login = login\n",
    "        self._senha = senha\n",
    "    def consulta_nome(self):\n",
    "        return self._nome"
   ]
  },
  {
   "cell_type": "code",
   "execution_count": 29,
   "id": "4df893a4-809f-432a-ad87-8b04dae6dd3d",
   "metadata": {},
   "outputs": [],
   "source": [
    "class Aluno(Pessoa):\n",
    "    def __init__(self, nome, login, senha, curso):\n",
    "        Pessoa.__init__(self, nome, login, senha)\n",
    "        self._curso = curso\n",
    "    def consulta_curso(self):\n",
    "        return self._curso"
   ]
  },
  {
   "cell_type": "code",
   "execution_count": 30,
   "id": "7d65836a-6c07-460c-b9dd-3f35ee8c9aae",
   "metadata": {},
   "outputs": [],
   "source": [
    "class Professor(Pessoa):\n",
    "    def __init__(self, nome, login, senha, titulacao):\n",
    "        Pessoa.__init__(self, nome, login, senha)\n",
    "        self._titulacao = titulacao\n",
    "    def consulta_titulacao(self):\n",
    "        return self._titulacao"
   ]
  },
  {
   "cell_type": "code",
   "execution_count": 31,
   "id": "399999e6-914c-463e-9d55-d2c05c45b63c",
   "metadata": {},
   "outputs": [],
   "source": [
    "class EntradaUniversidade:\n",
    "    def __init__(self):\n",
    "        pass\n",
    "    \n",
    "    def permite_entrada(self, pessoa):\n",
    "        if(hasattr(pessoa, 'consulta_nome')):\n",
    "            print(\"Pode entrar, \" + pessoa.consulta_nome())\n",
    "        else:\n",
    "            print(\"Entrada não permitida\")"
   ]
  },
  {
   "cell_type": "code",
   "execution_count": 32,
   "id": "5621c869-a610-496b-86ea-5578feb6216f",
   "metadata": {},
   "outputs": [],
   "source": [
    "import abc"
   ]
  },
  {
   "cell_type": "code",
   "execution_count": 33,
   "id": "d4477846-bfb8-4449-bfd0-9428f7691d76",
   "metadata": {},
   "outputs": [],
   "source": [
    "class Pessoa(abc.ABC):\n",
    "    def __init__(self, nome, login, senha):\n",
    "        self.nome = nome\n",
    "        self.login = login\n",
    "        self.senha = senha\n",
    "    @abc.abstractmethod\n",
    "    def consulta_nome(self):\n",
    "        raise NotImplementedError()"
   ]
  },
  {
   "cell_type": "code",
   "execution_count": 34,
   "id": "98866ebf-ad55-42ea-988a-9213eb0c7b86",
   "metadata": {},
   "outputs": [
    {
     "ename": "TypeError",
     "evalue": "Can't instantiate abstract class Pessoa with abstract methods consulta_nome",
     "output_type": "error",
     "traceback": [
      "\u001b[0;31m---------------------------------------------------------------------------\u001b[0m",
      "\u001b[0;31mTypeError\u001b[0m                                 Traceback (most recent call last)",
      "\u001b[0;32m<ipython-input-34-c8c545d518e4>\u001b[0m in \u001b[0;36m<module>\u001b[0;34m\u001b[0m\n\u001b[0;32m----> 1\u001b[0;31m \u001b[0mpessoa1\u001b[0m \u001b[0;34m=\u001b[0m \u001b[0mPessoa\u001b[0m\u001b[0;34m(\u001b[0m\u001b[0;34m)\u001b[0m\u001b[0;34m\u001b[0m\u001b[0;34m\u001b[0m\u001b[0m\n\u001b[0m",
      "\u001b[0;31mTypeError\u001b[0m: Can't instantiate abstract class Pessoa with abstract methods consulta_nome"
     ]
    }
   ],
   "source": [
    "pessoa1 = Pessoa()"
   ]
  },
  {
   "cell_type": "code",
   "execution_count": 35,
   "id": "c27a7aee-3cc7-479e-9ea0-6416e8739c8a",
   "metadata": {},
   "outputs": [],
   "source": [
    "class Assistente(Pessoa):\n",
    "    def __init__(self, nome, login, senha):\n",
    "        Pessoa.__init__(self, nome, login, senha)"
   ]
  },
  {
   "cell_type": "code",
   "execution_count": 36,
   "id": "a9ee56e4-4bae-4d12-9ccd-7c7c0bad135c",
   "metadata": {},
   "outputs": [
    {
     "ename": "TypeError",
     "evalue": "Can't instantiate abstract class Assistente with abstract methods consulta_nome",
     "output_type": "error",
     "traceback": [
      "\u001b[0;31m---------------------------------------------------------------------------\u001b[0m",
      "\u001b[0;31mTypeError\u001b[0m                                 Traceback (most recent call last)",
      "\u001b[0;32m<ipython-input-36-aac32137541a>\u001b[0m in \u001b[0;36m<module>\u001b[0;34m\u001b[0m\n\u001b[0;32m----> 1\u001b[0;31m \u001b[0massist1\u001b[0m \u001b[0;34m=\u001b[0m \u001b[0mAssistente\u001b[0m\u001b[0;34m(\u001b[0m\u001b[0;34m'Muniz'\u001b[0m\u001b[0;34m,\u001b[0m \u001b[0;34m'mumu'\u001b[0m\u001b[0;34m,\u001b[0m \u001b[0;34m'm123'\u001b[0m\u001b[0;34m)\u001b[0m\u001b[0;34m\u001b[0m\u001b[0;34m\u001b[0m\u001b[0m\n\u001b[0m",
      "\u001b[0;31mTypeError\u001b[0m: Can't instantiate abstract class Assistente with abstract methods consulta_nome"
     ]
    }
   ],
   "source": [
    "assist1 = Assistente('Muniz', 'mumu', 'm123')"
   ]
  },
  {
   "cell_type": "code",
   "execution_count": 37,
   "id": "79c47ead-eae8-4b67-8fd1-19c8d55c55d8",
   "metadata": {},
   "outputs": [],
   "source": [
    "class Assistente(Pessoa):\n",
    "    def __init__(self, nome, login, senha):\n",
    "        Pessoa.__init__(self, nome, login, senha)\n",
    "    def consulta_nome(self):\n",
    "        return self.nome"
   ]
  },
  {
   "cell_type": "code",
   "execution_count": 38,
   "id": "ffa913dc-e6ab-42f7-a7db-5f209e716efd",
   "metadata": {},
   "outputs": [],
   "source": [
    "assist1 = Assistente('Muniz', 'mumu', 'm123')"
   ]
  },
  {
   "cell_type": "code",
   "execution_count": 39,
   "id": "ae664327-1f18-4e16-9446-680523593d2a",
   "metadata": {},
   "outputs": [
    {
     "data": {
      "text/plain": [
       "'Muniz'"
      ]
     },
     "execution_count": 39,
     "metadata": {},
     "output_type": "execute_result"
    }
   ],
   "source": [
    "assist1.consulta_nome()"
   ]
  },
  {
   "cell_type": "code",
   "execution_count": null,
   "id": "9b02c0ef-e47e-4bf4-91fa-241d99c3e275",
   "metadata": {},
   "outputs": [],
   "source": []
  }
 ],
 "metadata": {
  "kernelspec": {
   "display_name": "Python 3",
   "language": "python",
   "name": "python3"
  },
  "language_info": {
   "codemirror_mode": {
    "name": "ipython",
    "version": 3
   },
   "file_extension": ".py",
   "mimetype": "text/x-python",
   "name": "python",
   "nbconvert_exporter": "python",
   "pygments_lexer": "ipython3",
   "version": "3.6.8"
  }
 },
 "nbformat": 4,
 "nbformat_minor": 5
}
