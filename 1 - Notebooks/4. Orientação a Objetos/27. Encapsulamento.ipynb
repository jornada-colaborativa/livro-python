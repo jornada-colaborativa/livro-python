{
 "cells": [
  {
   "cell_type": "code",
   "execution_count": 1,
   "id": "9892b124-5711-43d7-91d5-3e872e43587d",
   "metadata": {},
   "outputs": [],
   "source": [
    "class Conta:\n",
    "    def __init__(self, numero, saldo):\n",
    "        self.numero = numero\n",
    "        self.__saldo = saldo"
   ]
  },
  {
   "cell_type": "code",
   "execution_count": 2,
   "id": "7dea37cf-b48f-4b91-97c3-c6f63ebc1224",
   "metadata": {},
   "outputs": [],
   "source": [
    "conta1234 = Conta(1234, 750.84)"
   ]
  },
  {
   "cell_type": "code",
   "execution_count": 3,
   "id": "77b66417-ac80-4aa0-8e26-4b22a417c43c",
   "metadata": {},
   "outputs": [
    {
     "data": {
      "text/plain": [
       "1234"
      ]
     },
     "execution_count": 3,
     "metadata": {},
     "output_type": "execute_result"
    }
   ],
   "source": [
    "conta1234.numero"
   ]
  },
  {
   "cell_type": "code",
   "execution_count": 4,
   "id": "1efecdbb-b343-4c37-86eb-fd945d15386b",
   "metadata": {},
   "outputs": [
    {
     "ename": "AttributeError",
     "evalue": "type object 'Conta' has no attribute '__saldo'",
     "output_type": "error",
     "traceback": [
      "\u001b[0;31m---------------------------------------------------------------------------\u001b[0m",
      "\u001b[0;31mAttributeError\u001b[0m                            Traceback (most recent call last)",
      "\u001b[0;32m<ipython-input-4-2ed1a32080f7>\u001b[0m in \u001b[0;36m<module>\u001b[0;34m\u001b[0m\n\u001b[0;32m----> 1\u001b[0;31m \u001b[0;34m(\u001b[0m\u001b[0mConta\u001b[0m\u001b[0;34m.\u001b[0m\u001b[0m__saldo\u001b[0m\u001b[0;34m)\u001b[0m\u001b[0;34m\u001b[0m\u001b[0;34m\u001b[0m\u001b[0m\n\u001b[0m",
      "\u001b[0;31mAttributeError\u001b[0m: type object 'Conta' has no attribute '__saldo'"
     ]
    }
   ],
   "source": [
    "(Conta.__saldo)"
   ]
  },
  {
   "cell_type": "code",
   "execution_count": 5,
   "id": "3fb2e4a6-9e1d-416e-b8ea-a85cf09a1107",
   "metadata": {},
   "outputs": [
    {
     "data": {
      "text/plain": [
       "750.84"
      ]
     },
     "execution_count": 5,
     "metadata": {},
     "output_type": "execute_result"
    }
   ],
   "source": [
    "conta1234._Conta__saldo"
   ]
  },
  {
   "cell_type": "code",
   "execution_count": 6,
   "id": "d1ffe2c4-a262-4a6b-929d-aa7e1046e52a",
   "metadata": {},
   "outputs": [
    {
     "data": {
      "text/plain": [
       "['_Conta__saldo',\n",
       " '__class__',\n",
       " '__delattr__',\n",
       " '__dict__',\n",
       " '__dir__',\n",
       " '__doc__',\n",
       " '__eq__',\n",
       " '__format__',\n",
       " '__ge__',\n",
       " '__getattribute__',\n",
       " '__gt__',\n",
       " '__hash__',\n",
       " '__init__',\n",
       " '__init_subclass__',\n",
       " '__le__',\n",
       " '__lt__',\n",
       " '__module__',\n",
       " '__ne__',\n",
       " '__new__',\n",
       " '__reduce__',\n",
       " '__reduce_ex__',\n",
       " '__repr__',\n",
       " '__setattr__',\n",
       " '__sizeof__',\n",
       " '__str__',\n",
       " '__subclasshook__',\n",
       " '__weakref__',\n",
       " 'numero']"
      ]
     },
     "execution_count": 6,
     "metadata": {},
     "output_type": "execute_result"
    }
   ],
   "source": [
    "dir(conta1234)"
   ]
  },
  {
   "cell_type": "code",
   "execution_count": 7,
   "id": "6dc84f9a-7e90-4907-8b1b-9118bddfdb8c",
   "metadata": {},
   "outputs": [],
   "source": [
    "conta1234.__saldo = 1000"
   ]
  },
  {
   "cell_type": "code",
   "execution_count": 8,
   "id": "c57f788e-7c6e-4a40-92c2-87d4e7feb348",
   "metadata": {},
   "outputs": [
    {
     "data": {
      "text/plain": [
       "750.84"
      ]
     },
     "execution_count": 8,
     "metadata": {},
     "output_type": "execute_result"
    }
   ],
   "source": [
    "conta1234._Conta__saldo"
   ]
  },
  {
   "cell_type": "code",
   "execution_count": 9,
   "id": "b1787dfe-8b3a-424d-901b-d1701e68ed0a",
   "metadata": {},
   "outputs": [
    {
     "data": {
      "text/plain": [
       "['_Conta__saldo',\n",
       " '__class__',\n",
       " '__delattr__',\n",
       " '__dict__',\n",
       " '__dir__',\n",
       " '__doc__',\n",
       " '__eq__',\n",
       " '__format__',\n",
       " '__ge__',\n",
       " '__getattribute__',\n",
       " '__gt__',\n",
       " '__hash__',\n",
       " '__init__',\n",
       " '__init_subclass__',\n",
       " '__le__',\n",
       " '__lt__',\n",
       " '__module__',\n",
       " '__ne__',\n",
       " '__new__',\n",
       " '__reduce__',\n",
       " '__reduce_ex__',\n",
       " '__repr__',\n",
       " '__saldo',\n",
       " '__setattr__',\n",
       " '__sizeof__',\n",
       " '__str__',\n",
       " '__subclasshook__',\n",
       " '__weakref__',\n",
       " 'numero']"
      ]
     },
     "execution_count": 9,
     "metadata": {},
     "output_type": "execute_result"
    }
   ],
   "source": [
    "dir(conta1234)"
   ]
  },
  {
   "cell_type": "code",
   "execution_count": 10,
   "id": "2c1fdf45-86cc-433b-961a-123ea6fb524e",
   "metadata": {},
   "outputs": [],
   "source": [
    "class Conta:\n",
    "    def __init__(self, numero, saldo):\n",
    "        self._numero = numero\n",
    "        self._saldo = saldo\n",
    "    def consulta_saldo(self):\n",
    "        return self._saldo"
   ]
  },
  {
   "cell_type": "code",
   "execution_count": 11,
   "id": "78d536cc-cf5f-44f5-b72b-1990e4d0026c",
   "metadata": {},
   "outputs": [],
   "source": [
    "conta1234 = Conta(1234, 750.84)"
   ]
  },
  {
   "cell_type": "code",
   "execution_count": 12,
   "id": "3e72b9be-ea37-4b0d-8cea-2377dc987b59",
   "metadata": {},
   "outputs": [
    {
     "data": {
      "text/plain": [
       "750.84"
      ]
     },
     "execution_count": 12,
     "metadata": {},
     "output_type": "execute_result"
    }
   ],
   "source": [
    "conta1234.consulta_saldo()"
   ]
  },
  {
   "cell_type": "code",
   "execution_count": null,
   "id": "5397feab-4003-4e0a-9c9a-0b54c9481b48",
   "metadata": {},
   "outputs": [],
   "source": []
  }
 ],
 "metadata": {
  "kernelspec": {
   "display_name": "Python 3",
   "language": "python",
   "name": "python3"
  },
  "language_info": {
   "codemirror_mode": {
    "name": "ipython",
    "version": 3
   },
   "file_extension": ".py",
   "mimetype": "text/x-python",
   "name": "python",
   "nbconvert_exporter": "python",
   "pygments_lexer": "ipython3",
   "version": "3.6.8"
  }
 },
 "nbformat": 4,
 "nbformat_minor": 5
}
