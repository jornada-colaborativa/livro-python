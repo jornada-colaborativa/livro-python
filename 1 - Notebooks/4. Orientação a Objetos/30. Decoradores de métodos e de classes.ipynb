{
 "cells": [
  {
   "cell_type": "markdown",
   "id": "b5758052-d1ff-4a74-87c5-1849038db5cf",
   "metadata": {},
   "source": [
    "Métodos estáticos"
   ]
  },
  {
   "cell_type": "code",
   "execution_count": null,
   "id": "184bf80d-420e-4b1b-a0f4-6b202287fc0a",
   "metadata": {},
   "outputs": [],
   "source": [
    "class Calculadora:\n",
    "    @staticmethod\n",
    "    def soma(a, b):\n",
    "        return a+b\n",
    "    def subtracao(self, a, b):\n",
    "        return a-b"
   ]
  },
  {
   "cell_type": "code",
   "execution_count": null,
   "id": "8aae95f1-a73d-4223-97fb-66d161787357",
   "metadata": {},
   "outputs": [],
   "source": [
    "Calculadora.soma(2,5)"
   ]
  },
  {
   "cell_type": "code",
   "execution_count": null,
   "id": "42a4e9b3-6a30-42bd-a3e5-feb6dacfe71b",
   "metadata": {},
   "outputs": [],
   "source": [
    "Calculadora.subtracao(2,5)  # objeto não instanciado"
   ]
  },
  {
   "cell_type": "code",
   "execution_count": null,
   "id": "f72a3363-ed04-4894-b53d-cfdff568f994",
   "metadata": {},
   "outputs": [],
   "source": [
    "Calculadora().subtracao(2,5)  # objeto instanciado"
   ]
  },
  {
   "cell_type": "markdown",
   "id": "d9669bca-2910-445e-9089-ad917d7c3018",
   "metadata": {},
   "source": [
    "Métodos de classe"
   ]
  },
  {
   "cell_type": "code",
   "execution_count": null,
   "id": "68342f40-c755-4050-9a6a-120aad4098fd",
   "metadata": {},
   "outputs": [],
   "source": [
    "class Ambiente:\n",
    "    def __init__(self, pressao, temperatura, volume):\n",
    "        self.pressao = float(pressao)\n",
    "        self.temperatura = float(temperatura)\n",
    "        self.volume = float(volume)\n",
    "    def __str__(self):\n",
    "        return f\"{self.pressao}atm {self.temperatura}C {self.volume}L\"\n",
    "    @classmethod\n",
    "    def deFahrenheit(cls, pressao, temperatura, volume):\n",
    "        return cls(pressao, (temperatura - 32)/1.8, volume)"
   ]
  },
  {
   "cell_type": "code",
   "execution_count": null,
   "id": "b0a2a012-893f-4150-8fc9-cc4dad8657c3",
   "metadata": {},
   "outputs": [],
   "source": [
    "ambiente_1 = Ambiente(1, 30, 40)"
   ]
  },
  {
   "cell_type": "code",
   "execution_count": null,
   "id": "8d1c1aa9-6780-4d88-b938-af432eb16fdb",
   "metadata": {},
   "outputs": [],
   "source": [
    "print(ambiente_1)"
   ]
  },
  {
   "cell_type": "code",
   "execution_count": null,
   "id": "99c57580-cc61-4542-81e7-b5eb5bd5862d",
   "metadata": {},
   "outputs": [],
   "source": [
    "ambiente_2 = Ambiente.deFahrenheit(1, 86, 40)"
   ]
  },
  {
   "cell_type": "code",
   "execution_count": null,
   "id": "db414416-13df-4b67-9b63-da86190368a6",
   "metadata": {},
   "outputs": [],
   "source": [
    "print(ambiente_2)"
   ]
  },
  {
   "cell_type": "markdown",
   "id": "27a3ee3d-21ce-4a75-af34-cadc9e1eacc6",
   "metadata": {},
   "source": [
    "Propriedades"
   ]
  },
  {
   "cell_type": "code",
   "execution_count": null,
   "id": "56bbb94a-c0e7-40ac-862c-8970b0afb4fa",
   "metadata": {},
   "outputs": [],
   "source": [
    "class Pessoa:\n",
    "    def __init__(self, nome, num_cpf):\n",
    "        self.__nome = nome\n",
    "        self.__cpf = num_cpf\n",
    "    def __str__(self):\n",
    "        return f\"{self.__nome} {self.__cpf}\"\n",
    "    @property\n",
    "    def cpf(self):\n",
    "        cpf = self.__cpf\n",
    "        return f\"{cpf[:3]}.{cpf[3:6]}.{cpf[6:9]}-{cpf[9:]}\"\n",
    "    @cpf.setter\n",
    "    def cpf(self, num_cpf):\n",
    "        self.__cpf = ''.join([x for x in num_cpf if x.isnumeric()])"
   ]
  },
  {
   "cell_type": "code",
   "execution_count": null,
   "id": "95b5775d-f89e-4739-8b54-f9be8c459a44",
   "metadata": {},
   "outputs": [],
   "source": [
    "pessoa = Pessoa(\"João\",\"123-456-789-12\")"
   ]
  },
  {
   "cell_type": "code",
   "execution_count": null,
   "id": "5f2516ca-3d74-47dd-89e3-ca23e65fd35b",
   "metadata": {},
   "outputs": [],
   "source": [
    "print(pessoa)"
   ]
  },
  {
   "cell_type": "code",
   "execution_count": null,
   "id": "03e4d59c-3300-41d3-b4ed-1495fdc72e9b",
   "metadata": {},
   "outputs": [],
   "source": [
    "# executa o setter que remove espaço\n",
    "pessoa.cpf = \"123.456.789.12\""
   ]
  },
  {
   "cell_type": "code",
   "execution_count": null,
   "id": "d4fa60b8-9604-48e4-8ed4-f90a16edf3c5",
   "metadata": {},
   "outputs": [],
   "source": [
    "print(pessoa)"
   ]
  },
  {
   "cell_type": "code",
   "execution_count": null,
   "id": "777f679f-ee7d-4de9-937c-34fdb38e73c1",
   "metadata": {},
   "outputs": [],
   "source": [
    "# executa o property que formata para padrão cpf\n",
    "print(pessoa.cpf) "
   ]
  },
  {
   "cell_type": "code",
   "execution_count": null,
   "id": "36adbd82-9756-40ab-9aa9-c5f55d7a6859",
   "metadata": {},
   "outputs": [],
   "source": [
    "class Pessoa:\n",
    "    def __init__(self, nome, num_cpf):\n",
    "        self.__nome = nome\n",
    "        self.__cpf = num_cpf\n",
    "    def __str__(self):\n",
    "        return f\"{self.__nome} {self.__cpf}\"\n",
    "    @cpf.setter\n",
    "    def cpf(self, num_cpf):\n",
    "        self.__cpf = ''.join([x for x in num_cpf if x.isnumeric()])\n",
    "    @property\n",
    "    def cpf(self):\n",
    "        cpf = self.__cpf\n",
    "        return f\"{cpf[:3]}.{cpf[3:6]}.{cpf[6:9]}-{cpf[9:]}\""
   ]
  },
  {
   "cell_type": "code",
   "execution_count": null,
   "id": "04050b1e-7034-4bb4-86cb-ba4c08680406",
   "metadata": {},
   "outputs": [],
   "source": []
  }
 ],
 "metadata": {
  "kernelspec": {
   "display_name": "Python 3",
   "language": "python",
   "name": "python3"
  },
  "language_info": {
   "codemirror_mode": {
    "name": "ipython",
    "version": 3
   },
   "file_extension": ".py",
   "mimetype": "text/x-python",
   "name": "python",
   "nbconvert_exporter": "python",
   "pygments_lexer": "ipython3",
   "version": "3.6.8"
  }
 },
 "nbformat": 4,
 "nbformat_minor": 5
}
