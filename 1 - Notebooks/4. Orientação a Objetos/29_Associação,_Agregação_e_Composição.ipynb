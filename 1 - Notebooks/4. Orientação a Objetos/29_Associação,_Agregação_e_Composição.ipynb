{
  "nbformat": 4,
  "nbformat_minor": 5,
  "metadata": {
    "kernelspec": {
      "display_name": "Python 3",
      "language": "python",
      "name": "python3"
    },
    "language_info": {
      "codemirror_mode": {
        "name": "ipython",
        "version": 3
      },
      "file_extension": ".py",
      "mimetype": "text/x-python",
      "name": "python",
      "nbconvert_exporter": "python",
      "pygments_lexer": "ipython3",
      "version": "3.6.8"
    },
    "colab": {
      "name": "29. Associação, Agregação e Composição.ipynb",
      "provenance": []
    }
  },
  "cells": [
    {
      "cell_type": "code",
      "metadata": {
        "id": "2850cbdd-8fa4-4cde-904f-4804a862bf3a"
      },
      "source": [
        "import abc"
      ],
      "id": "2850cbdd-8fa4-4cde-904f-4804a862bf3a",
      "execution_count": null,
      "outputs": []
    },
    {
      "cell_type": "code",
      "metadata": {
        "id": "ee68f2d0-c1cd-4296-9aad-e3cbdc856a6c"
      },
      "source": [
        "class Pessoa(abc.ABC):\n",
        "    def __init__(self, nome, login, senha):\n",
        "        self.__nome = nome\n",
        "        self.__login = login\n",
        "        self.__senha = senha\n",
        "    @abc.abstractmethod\n",
        "    def consulta_nome(self):\n",
        "        raise NotImplementedError()"
      ],
      "id": "ee68f2d0-c1cd-4296-9aad-e3cbdc856a6c",
      "execution_count": null,
      "outputs": []
    },
    {
      "cell_type": "code",
      "metadata": {
        "id": "34a35232-f4ce-4cc4-959b-8fe152a030a4"
      },
      "source": [
        "class Professor(Pessoa):\n",
        "    def __init__(self, nome, login, senha, titulacao):\n",
        "        Pessoa.__init__(self, nome, login, senha)\n",
        "        self.__titulacao = titulacao\n",
        "    def consulta_titulacao(self):\n",
        "        return self.__titulacao\n",
        "    def consulta_nome(self):\n",
        "        return self.__nome"
      ],
      "id": "34a35232-f4ce-4cc4-959b-8fe152a030a4",
      "execution_count": null,
      "outputs": []
    },
    {
      "cell_type": "code",
      "metadata": {
        "id": "36899625-066e-46fc-8f35-abca2e331f81"
      },
      "source": [
        "class Aluno(Pessoa):\n",
        "    def __init__(self, nome, login, senha, curso, orientador):\n",
        "        Pessoa.__init__(self, nome, login, senha)\n",
        "        self.__curso = curso\n",
        "        self.__orientador = orientador\n",
        "    def consulta_curso(self):\n",
        "        return self.__curso\n",
        "    def consulta_orientador(self):\n",
        "        return self.__orientador\n",
        "    def consulta_nome(self):\n",
        "        return self.__nome"
      ],
      "id": "36899625-066e-46fc-8f35-abca2e331f81",
      "execution_count": null,
      "outputs": []
    },
    {
      "cell_type": "code",
      "metadata": {
        "id": "70785d36-bf74-4df5-8fd9-56a8e3b1795e"
      },
      "source": [
        "professorRubens = Professor('Rubens', 'rub', 'r123', 'Doutor')"
      ],
      "id": "70785d36-bf74-4df5-8fd9-56a8e3b1795e",
      "execution_count": null,
      "outputs": []
    },
    {
      "cell_type": "code",
      "metadata": {
        "id": "bf85a30c-9039-4e12-97e6-2f0ad75c9394"
      },
      "source": [
        "novoAluno = Aluno('Isabela', 'isa', 'i123', 'Engenharia', professorRubens)"
      ],
      "id": "bf85a30c-9039-4e12-97e6-2f0ad75c9394",
      "execution_count": null,
      "outputs": []
    },
    {
      "cell_type": "code",
      "metadata": {
        "id": "124291e6-54d4-421f-b992-d5160e5a76c1"
      },
      "source": [
        "import datetime"
      ],
      "id": "124291e6-54d4-421f-b992-d5160e5a76c1",
      "execution_count": null,
      "outputs": []
    },
    {
      "cell_type": "code",
      "metadata": {
        "id": "98784ee4-7da1-4fac-8d83-ad615105b364"
      },
      "source": [
        "class Historico():\n",
        "    def __init__(self):\n",
        "        self.__data_matricula = datetime.datetime.today()\n",
        "        self.__ocorrencias = []\n",
        "    def imprime(self):\n",
        "        print(\"Matriculado em {}\".format(self.__data_matricula))\n",
        "        print(\"Ocorrências:\")\n",
        "        for o in self.__ocorrencias:\n",
        "            print(\"- \", o)\n",
        "    def add_ocorrencia(self, ocorrencia):\n",
        "        self.__ocorrencias.append(ocorrencia)"
      ],
      "id": "98784ee4-7da1-4fac-8d83-ad615105b364",
      "execution_count": null,
      "outputs": []
    },
    {
      "cell_type": "code",
      "metadata": {
        "id": "b1a709e4-2e6f-4301-88ed-17b1165ac775"
      },
      "source": [
        "class Aluno(Pessoa):\n",
        "    def __init__(self, nome, login, senha, curso, orientador):\n",
        "        Pessoa.__init__(self, nome, login, senha)\n",
        "        self.__curso = curso\n",
        "        self.__orientador = orientador\n",
        "        self.__historico = Historico()\n",
        "    def consulta_curso(self):\n",
        "        return self.__curso\n",
        "    def consulta_orientador(self):\n",
        "        return self.__orientador\n",
        "    def consulta_nome(self):\n",
        "        return self.__nome\n",
        "    def gera_ocorrencia(self, ocorrencia):\n",
        "        self.__historico.add_ocorrencia(ocorrencia)\n",
        "    def consulta_historico(self):\n",
        "        self.__historico.imprime()"
      ],
      "id": "b1a709e4-2e6f-4301-88ed-17b1165ac775",
      "execution_count": null,
      "outputs": []
    },
    {
      "cell_type": "code",
      "metadata": {
        "id": "7970bc94-3869-441f-90b1-f8c8f2594300"
      },
      "source": [
        "novoAluno = Aluno('Isabela', 'isa', 'i123', 'Engenharia', professorRubens)"
      ],
      "id": "7970bc94-3869-441f-90b1-f8c8f2594300",
      "execution_count": null,
      "outputs": []
    },
    {
      "cell_type": "code",
      "metadata": {
        "id": "add8ec54-b840-4040-8a04-fc6c53492393"
      },
      "source": [
        "novoAluno.gera_ocorrencia(\"Matriculou-se em Calculo 1\")"
      ],
      "id": "add8ec54-b840-4040-8a04-fc6c53492393",
      "execution_count": null,
      "outputs": []
    },
    {
      "cell_type": "code",
      "metadata": {
        "id": "3ab01852-c442-4e9c-bf2b-0e86f8cde61e"
      },
      "source": [
        "novoAluno.gera_ocorrencia(\"Nota final de Calculo 1: 9,7\")"
      ],
      "id": "3ab01852-c442-4e9c-bf2b-0e86f8cde61e",
      "execution_count": null,
      "outputs": []
    },
    {
      "cell_type": "code",
      "metadata": {
        "id": "a3819979-5a24-42a2-99bb-510fb23a152b"
      },
      "source": [
        "novoAluno.consulta_historico()"
      ],
      "id": "a3819979-5a24-42a2-99bb-510fb23a152b",
      "execution_count": null,
      "outputs": []
    }
  ]
}