{
 "cells": [
  {
   "cell_type": "markdown",
   "id": "245be775-1cb2-42e0-96eb-94352b225e07",
   "metadata": {},
   "source": [
    "Definição"
   ]
  },
  {
   "cell_type": "code",
   "execution_count": 1,
   "id": "4473a8cd-b106-4d80-a2b9-dc707d13ed5f",
   "metadata": {},
   "outputs": [
    {
     "name": "stdout",
     "output_type": "stream",
     "text": [
      "Help on class int in module builtins:\n",
      "\n",
      "class int(object)\n",
      " |  int(x=0) -> integer\n",
      " |  int(x, base=10) -> integer\n",
      " |  \n",
      " |  Convert a number or string to an integer, or return 0 if no arguments\n",
      " |  are given.  If x is a number, return x.__int__().  For floating point\n",
      " |  numbers, this truncates towards zero.\n",
      " |  \n",
      " |  If x is not a number or if base is given, then x must be a string,\n",
      " |  bytes, or bytearray instance representing an integer literal in the\n",
      " |  given base.  The literal can be preceded by '+' or '-' and be surrounded\n",
      " |  by whitespace.  The base defaults to 10.  Valid bases are 0 and 2-36.\n",
      " |  Base 0 means to interpret the base from the string as an integer literal.\n",
      " |  >>> int('0b100', base=0)\n",
      " |  4\n",
      " |  \n",
      " |  Methods defined here:\n",
      " |  \n",
      " |  __abs__(self, /)\n",
      " |      abs(self)\n",
      " |  \n",
      " |  __add__(self, value, /)\n",
      " |      Return self+value.\n",
      " |  \n",
      " |  __and__(self, value, /)\n",
      " |      Return self&value.\n",
      " |  \n",
      " |  __bool__(self, /)\n",
      " |      self != 0\n",
      " |  \n",
      " |  __ceil__(...)\n",
      " |      Ceiling of an Integral returns itself.\n",
      " |  \n",
      " |  __divmod__(self, value, /)\n",
      " |      Return divmod(self, value).\n",
      " |  \n",
      " |  __eq__(self, value, /)\n",
      " |      Return self==value.\n",
      " |  \n",
      " |  __float__(self, /)\n",
      " |      float(self)\n",
      " |  \n",
      " |  __floor__(...)\n",
      " |      Flooring an Integral returns itself.\n",
      " |  \n",
      " |  __floordiv__(self, value, /)\n",
      " |      Return self//value.\n",
      " |  \n",
      " |  __format__(...)\n",
      " |      default object formatter\n",
      " |  \n",
      " |  __ge__(self, value, /)\n",
      " |      Return self>=value.\n",
      " |  \n",
      " |  __getattribute__(self, name, /)\n",
      " |      Return getattr(self, name).\n",
      " |  \n",
      " |  __getnewargs__(...)\n",
      " |  \n",
      " |  __gt__(self, value, /)\n",
      " |      Return self>value.\n",
      " |  \n",
      " |  __hash__(self, /)\n",
      " |      Return hash(self).\n",
      " |  \n",
      " |  __index__(self, /)\n",
      " |      Return self converted to an integer, if self is suitable for use as an index into a list.\n",
      " |  \n",
      " |  __int__(self, /)\n",
      " |      int(self)\n",
      " |  \n",
      " |  __invert__(self, /)\n",
      " |      ~self\n",
      " |  \n",
      " |  __le__(self, value, /)\n",
      " |      Return self<=value.\n",
      " |  \n",
      " |  __lshift__(self, value, /)\n",
      " |      Return self<<value.\n",
      " |  \n",
      " |  __lt__(self, value, /)\n",
      " |      Return self<value.\n",
      " |  \n",
      " |  __mod__(self, value, /)\n",
      " |      Return self%value.\n",
      " |  \n",
      " |  __mul__(self, value, /)\n",
      " |      Return self*value.\n",
      " |  \n",
      " |  __ne__(self, value, /)\n",
      " |      Return self!=value.\n",
      " |  \n",
      " |  __neg__(self, /)\n",
      " |      -self\n",
      " |  \n",
      " |  __new__(*args, **kwargs) from builtins.type\n",
      " |      Create and return a new object.  See help(type) for accurate signature.\n",
      " |  \n",
      " |  __or__(self, value, /)\n",
      " |      Return self|value.\n",
      " |  \n",
      " |  __pos__(self, /)\n",
      " |      +self\n",
      " |  \n",
      " |  __pow__(self, value, mod=None, /)\n",
      " |      Return pow(self, value, mod).\n",
      " |  \n",
      " |  __radd__(self, value, /)\n",
      " |      Return value+self.\n",
      " |  \n",
      " |  __rand__(self, value, /)\n",
      " |      Return value&self.\n",
      " |  \n",
      " |  __rdivmod__(self, value, /)\n",
      " |      Return divmod(value, self).\n",
      " |  \n",
      " |  __repr__(self, /)\n",
      " |      Return repr(self).\n",
      " |  \n",
      " |  __rfloordiv__(self, value, /)\n",
      " |      Return value//self.\n",
      " |  \n",
      " |  __rlshift__(self, value, /)\n",
      " |      Return value<<self.\n",
      " |  \n",
      " |  __rmod__(self, value, /)\n",
      " |      Return value%self.\n",
      " |  \n",
      " |  __rmul__(self, value, /)\n",
      " |      Return value*self.\n",
      " |  \n",
      " |  __ror__(self, value, /)\n",
      " |      Return value|self.\n",
      " |  \n",
      " |  __round__(...)\n",
      " |      Rounding an Integral returns itself.\n",
      " |      Rounding with an ndigits argument also returns an integer.\n",
      " |  \n",
      " |  __rpow__(self, value, mod=None, /)\n",
      " |      Return pow(value, self, mod).\n",
      " |  \n",
      " |  __rrshift__(self, value, /)\n",
      " |      Return value>>self.\n",
      " |  \n",
      " |  __rshift__(self, value, /)\n",
      " |      Return self>>value.\n",
      " |  \n",
      " |  __rsub__(self, value, /)\n",
      " |      Return value-self.\n",
      " |  \n",
      " |  __rtruediv__(self, value, /)\n",
      " |      Return value/self.\n",
      " |  \n",
      " |  __rxor__(self, value, /)\n",
      " |      Return value^self.\n",
      " |  \n",
      " |  __sizeof__(...)\n",
      " |      Returns size in memory, in bytes\n",
      " |  \n",
      " |  __str__(self, /)\n",
      " |      Return str(self).\n",
      " |  \n",
      " |  __sub__(self, value, /)\n",
      " |      Return self-value.\n",
      " |  \n",
      " |  __truediv__(self, value, /)\n",
      " |      Return self/value.\n",
      " |  \n",
      " |  __trunc__(...)\n",
      " |      Truncating an Integral returns itself.\n",
      " |  \n",
      " |  __xor__(self, value, /)\n",
      " |      Return self^value.\n",
      " |  \n",
      " |  bit_length(...)\n",
      " |      int.bit_length() -> int\n",
      " |      \n",
      " |      Number of bits necessary to represent self in binary.\n",
      " |      >>> bin(37)\n",
      " |      '0b100101'\n",
      " |      >>> (37).bit_length()\n",
      " |      6\n",
      " |  \n",
      " |  conjugate(...)\n",
      " |      Returns self, the complex conjugate of any int.\n",
      " |  \n",
      " |  from_bytes(...) from builtins.type\n",
      " |      int.from_bytes(bytes, byteorder, *, signed=False) -> int\n",
      " |      \n",
      " |      Return the integer represented by the given array of bytes.\n",
      " |      \n",
      " |      The bytes argument must be a bytes-like object (e.g. bytes or bytearray).\n",
      " |      \n",
      " |      The byteorder argument determines the byte order used to represent the\n",
      " |      integer.  If byteorder is 'big', the most significant byte is at the\n",
      " |      beginning of the byte array.  If byteorder is 'little', the most\n",
      " |      significant byte is at the end of the byte array.  To request the native\n",
      " |      byte order of the host system, use `sys.byteorder' as the byte order value.\n",
      " |      \n",
      " |      The signed keyword-only argument indicates whether two's complement is\n",
      " |      used to represent the integer.\n",
      " |  \n",
      " |  to_bytes(...)\n",
      " |      int.to_bytes(length, byteorder, *, signed=False) -> bytes\n",
      " |      \n",
      " |      Return an array of bytes representing an integer.\n",
      " |      \n",
      " |      The integer is represented using length bytes.  An OverflowError is\n",
      " |      raised if the integer is not representable with the given number of\n",
      " |      bytes.\n",
      " |      \n",
      " |      The byteorder argument determines the byte order used to represent the\n",
      " |      integer.  If byteorder is 'big', the most significant byte is at the\n",
      " |      beginning of the byte array.  If byteorder is 'little', the most\n",
      " |      significant byte is at the end of the byte array.  To request the native\n",
      " |      byte order of the host system, use `sys.byteorder' as the byte order value.\n",
      " |      \n",
      " |      The signed keyword-only argument determines whether two's complement is\n",
      " |      used to represent the integer.  If signed is False and a negative integer\n",
      " |      is given, an OverflowError is raised.\n",
      " |  \n",
      " |  ----------------------------------------------------------------------\n",
      " |  Data descriptors defined here:\n",
      " |  \n",
      " |  denominator\n",
      " |      the denominator of a rational number in lowest terms\n",
      " |  \n",
      " |  imag\n",
      " |      the imaginary part of a complex number\n",
      " |  \n",
      " |  numerator\n",
      " |      the numerator of a rational number in lowest terms\n",
      " |  \n",
      " |  real\n",
      " |      the real part of a complex number\n",
      "\n"
     ]
    }
   ],
   "source": [
    "help(int)"
   ]
  },
  {
   "cell_type": "markdown",
   "id": "d52cdacf-921a-45ae-a061-b7507bbf12ce",
   "metadata": {},
   "source": [
    "Objetos e Instâncias"
   ]
  },
  {
   "cell_type": "code",
   "execution_count": 2,
   "id": "bab9fa02-4ca0-408e-bec4-9a3f878ed372",
   "metadata": {},
   "outputs": [],
   "source": [
    "class PersonagemDeRPG:\n",
    "    pass"
   ]
  },
  {
   "cell_type": "code",
   "execution_count": 3,
   "id": "e03558ad-4f1f-4043-814f-12575da1ae48",
   "metadata": {},
   "outputs": [],
   "source": [
    "class Pessoa:\n",
    "    def __init__(self, nome):\n",
    "        self.nome = nome\n",
    "    def __str__(self):\n",
    "        return self.nome"
   ]
  },
  {
   "cell_type": "code",
   "execution_count": 4,
   "id": "0be45f09-cc9d-4caf-9ada-bcef3b4e9f43",
   "metadata": {},
   "outputs": [],
   "source": [
    "pessoa_1 = Pessoa(\"João\")"
   ]
  },
  {
   "cell_type": "code",
   "execution_count": 5,
   "id": "c0361f4f-21c6-4c58-9258-09e51e71b3b5",
   "metadata": {},
   "outputs": [
    {
     "name": "stdout",
     "output_type": "stream",
     "text": [
      "João\n"
     ]
    }
   ],
   "source": [
    "print(pessoa_1)"
   ]
  },
  {
   "cell_type": "code",
   "execution_count": 6,
   "id": "4be1a07c-64d0-414f-a3e4-c2b4c758f33b",
   "metadata": {},
   "outputs": [],
   "source": [
    "pessoa_2 = Pessoa(\"Maria\")"
   ]
  },
  {
   "cell_type": "code",
   "execution_count": 7,
   "id": "42e57510-11b7-4c40-bbd4-1951476d07a4",
   "metadata": {},
   "outputs": [
    {
     "name": "stdout",
     "output_type": "stream",
     "text": [
      "Maria\n"
     ]
    }
   ],
   "source": [
    "print(pessoa_2)"
   ]
  },
  {
   "cell_type": "code",
   "execution_count": 8,
   "id": "2d28c12c-2ecd-4fef-8907-dbf28def494d",
   "metadata": {},
   "outputs": [],
   "source": [
    "class Pessoa:\n",
    "    def __init__(self, nome):\n",
    "        self.nome = nome"
   ]
  },
  {
   "cell_type": "code",
   "execution_count": 9,
   "id": "1cd06762-50b7-44fe-ae74-35dcd25aa3f2",
   "metadata": {},
   "outputs": [],
   "source": [
    "pessoa_1 = Pessoa(\"João\")"
   ]
  },
  {
   "cell_type": "code",
   "execution_count": 10,
   "id": "833dc194-d8bb-4eaa-a458-f0616eb8cf90",
   "metadata": {},
   "outputs": [
    {
     "name": "stdout",
     "output_type": "stream",
     "text": [
      "<__main__.Pessoa object at 0x2ad637e82e10>\n"
     ]
    }
   ],
   "source": [
    "print(pessoa_1)"
   ]
  },
  {
   "cell_type": "markdown",
   "id": "9520aee6-a994-4a61-aec0-9aaedc3c6395",
   "metadata": {},
   "source": [
    "Métodos"
   ]
  },
  {
   "cell_type": "code",
   "execution_count": 11,
   "id": "296888c8-c07d-4241-9a4c-7f2e2a7e7e2c",
   "metadata": {},
   "outputs": [],
   "source": [
    "class Pessoa:\n",
    "    def __init__(individuo, nome):\n",
    "        individuo.nome = nome\n",
    "    def __str__(individuo):\n",
    "        return individuo.nome"
   ]
  },
  {
   "cell_type": "code",
   "execution_count": 12,
   "id": "4c79a862-0131-466e-9c2c-105bff77833d",
   "metadata": {},
   "outputs": [],
   "source": [
    "pessoa_1 = Pessoa(\"João\")"
   ]
  },
  {
   "cell_type": "code",
   "execution_count": 13,
   "id": "cd61da6b-6139-4db9-962a-25b74cea18a6",
   "metadata": {},
   "outputs": [
    {
     "name": "stdout",
     "output_type": "stream",
     "text": [
      "João\n"
     ]
    }
   ],
   "source": [
    "print(pessoa_1)"
   ]
  },
  {
   "cell_type": "code",
   "execution_count": 14,
   "id": "a2a822ba-b951-4d79-b25f-59b40b4f22be",
   "metadata": {},
   "outputs": [],
   "source": [
    "pessoa_2 = Pessoa(\"Maria\")"
   ]
  },
  {
   "cell_type": "code",
   "execution_count": 15,
   "id": "f422f54b-a4b2-4b52-be60-09cb0ff3531d",
   "metadata": {},
   "outputs": [
    {
     "name": "stdout",
     "output_type": "stream",
     "text": [
      "Maria\n"
     ]
    }
   ],
   "source": [
    "print(pessoa_2)"
   ]
  },
  {
   "cell_type": "code",
   "execution_count": 16,
   "id": "d50fc965-222f-4c81-a089-bfc8241e509e",
   "metadata": {},
   "outputs": [],
   "source": [
    "class ListaDeNumeros:\n",
    "    def __init__(self, numeros):\n",
    "        self.numeros = numeros\n",
    "    def __str__(self):\n",
    "        return \", \".join([str(n) for n in self.numeros])\n",
    "    def soma(self):\n",
    "        return sum(self.numeros)\n",
    "    def media(self):\n",
    "        return self.soma()/len(self.numeros)"
   ]
  },
  {
   "cell_type": "code",
   "execution_count": 17,
   "id": "a1638d01-7633-43ed-978b-6b2725f40403",
   "metadata": {},
   "outputs": [],
   "source": [
    "minha_lista = ListaDeNumeros([1,3,5,7,9])"
   ]
  },
  {
   "cell_type": "code",
   "execution_count": 18,
   "id": "25355ace-7b51-46ba-9371-7cdba962e4b1",
   "metadata": {},
   "outputs": [
    {
     "name": "stdout",
     "output_type": "stream",
     "text": [
      "A soma de 1, 3, 5, 7, 9 é 25\n"
     ]
    }
   ],
   "source": [
    "print(f\"A soma de {minha_lista} é {minha_lista.soma()}\")"
   ]
  },
  {
   "cell_type": "code",
   "execution_count": 19,
   "id": "d0951d3c-9fea-4f11-8f12-b1ab7337ca19",
   "metadata": {},
   "outputs": [
    {
     "name": "stdout",
     "output_type": "stream",
     "text": [
      "A média de 1, 3, 5, 7, 9 é 5.0\n"
     ]
    }
   ],
   "source": [
    "print(f\"A média de {minha_lista} é {minha_lista.media()}\")"
   ]
  },
  {
   "cell_type": "markdown",
   "id": "0ca3bc0a-8230-4df8-b1f1-3737ee761d63",
   "metadata": {},
   "source": [
    "Atributos"
   ]
  },
  {
   "cell_type": "code",
   "execution_count": 20,
   "id": "345ee2dc-22bd-4121-84dc-90782f89a806",
   "metadata": {},
   "outputs": [],
   "source": [
    "class Pessoa:\n",
    "    num_pessoas = 0\n",
    "    def __init__(self, nome):\n",
    "        self.nome = nome\n",
    "        Pessoa.num_pessoas += 1"
   ]
  },
  {
   "cell_type": "code",
   "execution_count": 21,
   "id": "4dcdcea4-3a11-454a-8b8f-28229822f0cf",
   "metadata": {},
   "outputs": [],
   "source": [
    "nomes = ['João', 'Paulo', 'George', 'Ringo']"
   ]
  },
  {
   "cell_type": "code",
   "execution_count": 22,
   "id": "1bc558e5-a2ac-4027-8611-90941e321135",
   "metadata": {},
   "outputs": [],
   "source": [
    "pessoas = [Pessoa(nome) for nome in nomes]"
   ]
  },
  {
   "cell_type": "code",
   "execution_count": 23,
   "id": "e9a3cc01-9f37-4505-a62a-c0a1a8f3eeb5",
   "metadata": {},
   "outputs": [
    {
     "data": {
      "text/plain": [
       "4"
      ]
     },
     "execution_count": 23,
     "metadata": {},
     "output_type": "execute_result"
    }
   ],
   "source": [
    "Pessoa.num_pessoas"
   ]
  },
  {
   "cell_type": "code",
   "execution_count": 24,
   "id": "388dcc6c-a9fc-421f-95b7-b4192c8e95ff",
   "metadata": {},
   "outputs": [
    {
     "data": {
      "text/plain": [
       "'João'"
      ]
     },
     "execution_count": 24,
     "metadata": {},
     "output_type": "execute_result"
    }
   ],
   "source": [
    "pessoas[0].nome"
   ]
  },
  {
   "cell_type": "code",
   "execution_count": 25,
   "id": "5815615e-7d0c-44b2-8ee1-3b131151a987",
   "metadata": {},
   "outputs": [
    {
     "data": {
      "text/plain": [
       "{'nome': 'João'}"
      ]
     },
     "execution_count": 25,
     "metadata": {},
     "output_type": "execute_result"
    }
   ],
   "source": [
    "pessoas[0].__dict__"
   ]
  },
  {
   "cell_type": "code",
   "execution_count": 26,
   "id": "db560aab-abf9-4039-9235-5b42fdffe22e",
   "metadata": {},
   "outputs": [
    {
     "data": {
      "text/plain": [
       "mappingproxy({'__module__': '__main__',\n",
       "              'num_pessoas': 4,\n",
       "              '__init__': <function __main__.Pessoa.__init__(self, nome)>,\n",
       "              '__dict__': <attribute '__dict__' of 'Pessoa' objects>,\n",
       "              '__weakref__': <attribute '__weakref__' of 'Pessoa' objects>,\n",
       "              '__doc__': None})"
      ]
     },
     "execution_count": 26,
     "metadata": {},
     "output_type": "execute_result"
    }
   ],
   "source": [
    "pessoas[0].__class__.__dict__"
   ]
  },
  {
   "cell_type": "code",
   "execution_count": 27,
   "id": "1db7aaac-6bd5-4643-9f4c-77a2808f62cc",
   "metadata": {},
   "outputs": [
    {
     "data": {
      "text/plain": [
       "{'nome': 'George'}"
      ]
     },
     "execution_count": 27,
     "metadata": {},
     "output_type": "execute_result"
    }
   ],
   "source": [
    "pessoas[2].__dict__"
   ]
  },
  {
   "cell_type": "code",
   "execution_count": 28,
   "id": "9e8a7630-529e-4aca-812b-1196b0bcabbf",
   "metadata": {},
   "outputs": [
    {
     "data": {
      "text/plain": [
       "mappingproxy({'__module__': '__main__',\n",
       "              'num_pessoas': 4,\n",
       "              '__init__': <function __main__.Pessoa.__init__(self, nome)>,\n",
       "              '__dict__': <attribute '__dict__' of 'Pessoa' objects>,\n",
       "              '__weakref__': <attribute '__weakref__' of 'Pessoa' objects>,\n",
       "              '__doc__': None})"
      ]
     },
     "execution_count": 28,
     "metadata": {},
     "output_type": "execute_result"
    }
   ],
   "source": [
    "pessoas[2].__class__.__dict__"
   ]
  },
  {
   "cell_type": "code",
   "execution_count": 29,
   "id": "90171134-beb3-46ab-a300-5ccc107f395d",
   "metadata": {},
   "outputs": [
    {
     "data": {
      "text/plain": [
       "mappingproxy({'__module__': '__main__',\n",
       "              'num_pessoas': 4,\n",
       "              '__init__': <function __main__.Pessoa.__init__(self, nome)>,\n",
       "              '__dict__': <attribute '__dict__' of 'Pessoa' objects>,\n",
       "              '__weakref__': <attribute '__weakref__' of 'Pessoa' objects>,\n",
       "              '__doc__': None})"
      ]
     },
     "execution_count": 29,
     "metadata": {},
     "output_type": "execute_result"
    }
   ],
   "source": [
    "Pessoa.__dict__"
   ]
  },
  {
   "cell_type": "code",
   "execution_count": 30,
   "id": "1d650468-8309-44df-9684-9a6ef80c1bf7",
   "metadata": {},
   "outputs": [],
   "source": [
    "class Calculadora:\n",
    "    def soma(self, a, b):\n",
    "        res = a + b\n",
    "        return res"
   ]
  },
  {
   "cell_type": "code",
   "execution_count": 31,
   "id": "967e736b-5fe2-4484-af3d-bab46953046e",
   "metadata": {},
   "outputs": [],
   "source": [
    "calculadora = Calculadora()"
   ]
  },
  {
   "cell_type": "code",
   "execution_count": 32,
   "id": "96d9e017-0684-4b51-963a-c28f402411e0",
   "metadata": {},
   "outputs": [
    {
     "data": {
      "text/plain": [
       "5"
      ]
     },
     "execution_count": 32,
     "metadata": {},
     "output_type": "execute_result"
    }
   ],
   "source": [
    "calculadora.soma(2,3)"
   ]
  },
  {
   "cell_type": "code",
   "execution_count": 33,
   "id": "275cc1be-466f-455f-a716-375cf79a74c7",
   "metadata": {},
   "outputs": [
    {
     "data": {
      "text/plain": [
       "{}"
      ]
     },
     "execution_count": 33,
     "metadata": {},
     "output_type": "execute_result"
    }
   ],
   "source": [
    "calculadora.__dict__"
   ]
  },
  {
   "cell_type": "code",
   "execution_count": 34,
   "id": "1c16a18d-f29a-4b92-a773-549d1c112e0e",
   "metadata": {},
   "outputs": [
    {
     "data": {
      "text/plain": [
       "mappingproxy({'__module__': '__main__',\n",
       "              'soma': <function __main__.Calculadora.soma(self, a, b)>,\n",
       "              '__dict__': <attribute '__dict__' of 'Calculadora' objects>,\n",
       "              '__weakref__': <attribute '__weakref__' of 'Calculadora' objects>,\n",
       "              '__doc__': None})"
      ]
     },
     "execution_count": 34,
     "metadata": {},
     "output_type": "execute_result"
    }
   ],
   "source": [
    "calculadora.__class__.__dict__"
   ]
  },
  {
   "cell_type": "code",
   "execution_count": null,
   "id": "d54b8256-2dde-49c0-85a7-40a1bdc7845d",
   "metadata": {},
   "outputs": [],
   "source": []
  }
 ],
 "metadata": {
  "kernelspec": {
   "display_name": "Python 3",
   "language": "python",
   "name": "python3"
  },
  "language_info": {
   "codemirror_mode": {
    "name": "ipython",
    "version": 3
   },
   "file_extension": ".py",
   "mimetype": "text/x-python",
   "name": "python",
   "nbconvert_exporter": "python",
   "pygments_lexer": "ipython3",
   "version": "3.6.8"
  }
 },
 "nbformat": 4,
 "nbformat_minor": 5
}
