{
 "cells": [
  {
   "cell_type": "markdown",
   "id": "245be775-1cb2-42e0-96eb-94352b225e07",
   "metadata": {},
   "source": [
    "Definição"
   ]
  },
  {
   "cell_type": "code",
   "execution_count": null,
   "id": "4473a8cd-b106-4d80-a2b9-dc707d13ed5f",
   "metadata": {},
   "outputs": [],
   "source": [
    "help(int)"
   ]
  },
  {
   "cell_type": "markdown",
   "id": "d52cdacf-921a-45ae-a061-b7507bbf12ce",
   "metadata": {},
   "source": [
    "Objetos e Instâncias"
   ]
  },
  {
   "cell_type": "code",
   "execution_count": null,
   "id": "bab9fa02-4ca0-408e-bec4-9a3f878ed372",
   "metadata": {},
   "outputs": [],
   "source": [
    "class PersonagemDeRPG:\n",
    "    pass"
   ]
  },
  {
   "cell_type": "code",
   "execution_count": null,
   "id": "e03558ad-4f1f-4043-814f-12575da1ae48",
   "metadata": {},
   "outputs": [],
   "source": [
    "class Pessoa:\n",
    "    def __init__(self, nome):\n",
    "        self.nome = nome\n",
    "    def __str__(self):\n",
    "        return self.nome"
   ]
  },
  {
   "cell_type": "code",
   "execution_count": null,
   "id": "0be45f09-cc9d-4caf-9ada-bcef3b4e9f43",
   "metadata": {},
   "outputs": [],
   "source": [
    "pessoa_1 = Pessoa(\"João\")"
   ]
  },
  {
   "cell_type": "code",
   "execution_count": null,
   "id": "c0361f4f-21c6-4c58-9258-09e51e71b3b5",
   "metadata": {},
   "outputs": [],
   "source": [
    "print(pessoa_1)"
   ]
  },
  {
   "cell_type": "code",
   "execution_count": null,
   "id": "4be1a07c-64d0-414f-a3e4-c2b4c758f33b",
   "metadata": {},
   "outputs": [],
   "source": [
    "pessoa_2 = Pessoa(\"Maria\")"
   ]
  },
  {
   "cell_type": "code",
   "execution_count": null,
   "id": "42e57510-11b7-4c40-bbd4-1951476d07a4",
   "metadata": {},
   "outputs": [],
   "source": [
    "print(pessoa_2)"
   ]
  },
  {
   "cell_type": "code",
   "execution_count": null,
   "id": "2d28c12c-2ecd-4fef-8907-dbf28def494d",
   "metadata": {},
   "outputs": [],
   "source": [
    "class Pessoa:\n",
    "    def __init__(self, nome):\n",
    "        self.nome = nome"
   ]
  },
  {
   "cell_type": "code",
   "execution_count": null,
   "id": "1cd06762-50b7-44fe-ae74-35dcd25aa3f2",
   "metadata": {},
   "outputs": [],
   "source": [
    "pessoa_1 = Pessoa(\"João\")"
   ]
  },
  {
   "cell_type": "code",
   "execution_count": null,
   "id": "833dc194-d8bb-4eaa-a458-f0616eb8cf90",
   "metadata": {},
   "outputs": [],
   "source": [
    "print(pessoa_1)"
   ]
  },
  {
   "cell_type": "markdown",
   "id": "9520aee6-a994-4a61-aec0-9aaedc3c6395",
   "metadata": {},
   "source": [
    "Métodos"
   ]
  },
  {
   "cell_type": "code",
   "execution_count": null,
   "id": "296888c8-c07d-4241-9a4c-7f2e2a7e7e2c",
   "metadata": {},
   "outputs": [],
   "source": [
    "class Pessoa:\n",
    "    def __init__(individuo, nome):\n",
    "        individuo.nome = nome\n",
    "    def __str__(individuo):\n",
    "        return individuo.nome"
   ]
  },
  {
   "cell_type": "code",
   "execution_count": null,
   "id": "4c79a862-0131-466e-9c2c-105bff77833d",
   "metadata": {},
   "outputs": [],
   "source": [
    "pessoa_1 = Pessoa(\"João\")"
   ]
  },
  {
   "cell_type": "code",
   "execution_count": null,
   "id": "cd61da6b-6139-4db9-962a-25b74cea18a6",
   "metadata": {},
   "outputs": [],
   "source": [
    "print(pessoa_1)"
   ]
  },
  {
   "cell_type": "code",
   "execution_count": null,
   "id": "a2a822ba-b951-4d79-b25f-59b40b4f22be",
   "metadata": {},
   "outputs": [],
   "source": [
    "pessoa_2 = Pessoa(\"Maria\")"
   ]
  },
  {
   "cell_type": "code",
   "execution_count": null,
   "id": "f422f54b-a4b2-4b52-be60-09cb0ff3531d",
   "metadata": {},
   "outputs": [],
   "source": [
    "print(pessoa_2)"
   ]
  },
  {
   "cell_type": "code",
   "execution_count": null,
   "id": "d50fc965-222f-4c81-a089-bfc8241e509e",
   "metadata": {},
   "outputs": [],
   "source": [
    "class ListaDeNumeros:\n",
    "    def __init__(self, numeros):\n",
    "        self.numeros = numeros\n",
    "    def __str__(self):\n",
    "        return \", \".join([str(n) for n in self.numeros])\n",
    "    def soma(self):\n",
    "        return sum(self.numeros)\n",
    "    def media(self):\n",
    "        return self.soma()/len(self.numeros)"
   ]
  },
  {
   "cell_type": "code",
   "execution_count": null,
   "id": "a1638d01-7633-43ed-978b-6b2725f40403",
   "metadata": {},
   "outputs": [],
   "source": [
    "minha_lista = ListaDeNumeros([1,3,5,7,9])"
   ]
  },
  {
   "cell_type": "code",
   "execution_count": null,
   "id": "25355ace-7b51-46ba-9371-7cdba962e4b1",
   "metadata": {},
   "outputs": [],
   "source": [
    "print(f\"A soma de {minha_lista} é {minha_lista.soma()}\")"
   ]
  },
  {
   "cell_type": "code",
   "execution_count": null,
   "id": "d0951d3c-9fea-4f11-8f12-b1ab7337ca19",
   "metadata": {},
   "outputs": [],
   "source": [
    "print(f\"A média de {minha_lista} é {minha_lista.media()}\")"
   ]
  },
  {
   "cell_type": "markdown",
   "id": "0ca3bc0a-8230-4df8-b1f1-3737ee761d63",
   "metadata": {},
   "source": [
    "Atributos"
   ]
  },
  {
   "cell_type": "code",
   "execution_count": null,
   "id": "345ee2dc-22bd-4121-84dc-90782f89a806",
   "metadata": {},
   "outputs": [],
   "source": [
    "class Pessoa:\n",
    "    num_pessoas = 0\n",
    "    def __init__(self, nome):\n",
    "        self.nome = nome\n",
    "        Pessoa.num_pessoas += 1"
   ]
  },
  {
   "cell_type": "code",
   "execution_count": null,
   "id": "4dcdcea4-3a11-454a-8b8f-28229822f0cf",
   "metadata": {},
   "outputs": [],
   "source": [
    "nomes = ['João', 'Paulo', 'George', 'Ringo']"
   ]
  },
  {
   "cell_type": "code",
   "execution_count": null,
   "id": "1bc558e5-a2ac-4027-8611-90941e321135",
   "metadata": {},
   "outputs": [],
   "source": [
    "pessoas = [Pessoa(nome) for nome in nomes]"
   ]
  },
  {
   "cell_type": "code",
   "execution_count": null,
   "id": "e9a3cc01-9f37-4505-a62a-c0a1a8f3eeb5",
   "metadata": {},
   "outputs": [],
   "source": [
    "Pessoa.num_pessoas"
   ]
  },
  {
   "cell_type": "code",
   "execution_count": null,
   "id": "388dcc6c-a9fc-421f-95b7-b4192c8e95ff",
   "metadata": {},
   "outputs": [],
   "source": [
    "pessoas[0].nome"
   ]
  },
  {
   "cell_type": "code",
   "execution_count": null,
   "id": "5815615e-7d0c-44b2-8ee1-3b131151a987",
   "metadata": {},
   "outputs": [],
   "source": [
    "pessoas[0].__dict__"
   ]
  },
  {
   "cell_type": "code",
   "execution_count": null,
   "id": "db560aab-abf9-4039-9235-5b42fdffe22e",
   "metadata": {},
   "outputs": [],
   "source": [
    "pessoas[0].__class__.__dict__"
   ]
  },
  {
   "cell_type": "code",
   "execution_count": null,
   "id": "1db7aaac-6bd5-4643-9f4c-77a2808f62cc",
   "metadata": {},
   "outputs": [],
   "source": [
    "pessoas[2].__dict__"
   ]
  },
  {
   "cell_type": "code",
   "execution_count": null,
   "id": "9e8a7630-529e-4aca-812b-1196b0bcabbf",
   "metadata": {},
   "outputs": [],
   "source": [
    "pessoas[2].__class__.__dict__"
   ]
  },
  {
   "cell_type": "code",
   "execution_count": null,
   "id": "90171134-beb3-46ab-a300-5ccc107f395d",
   "metadata": {},
   "outputs": [],
   "source": [
    "Pessoa.__dict__"
   ]
  },
  {
   "cell_type": "code",
   "execution_count": null,
   "id": "1d650468-8309-44df-9684-9a6ef80c1bf7",
   "metadata": {},
   "outputs": [],
   "source": [
    "class Calculadora:\n",
    "    def soma(self, a, b):\n",
    "        res = a + b\n",
    "        return res"
   ]
  },
  {
   "cell_type": "code",
   "execution_count": null,
   "id": "967e736b-5fe2-4484-af3d-bab46953046e",
   "metadata": {},
   "outputs": [],
   "source": [
    "calculadora = Calculadora()"
   ]
  },
  {
   "cell_type": "code",
   "execution_count": null,
   "id": "96d9e017-0684-4b51-963a-c28f402411e0",
   "metadata": {},
   "outputs": [],
   "source": [
    "calculadora.soma(2,3)"
   ]
  },
  {
   "cell_type": "code",
   "execution_count": null,
   "id": "275cc1be-466f-455f-a716-375cf79a74c7",
   "metadata": {},
   "outputs": [],
   "source": [
    "calculadora.__dict__"
   ]
  },
  {
   "cell_type": "code",
   "execution_count": null,
   "id": "1c16a18d-f29a-4b92-a773-549d1c112e0e",
   "metadata": {},
   "outputs": [],
   "source": [
    "calculadora.__class__.__dict__"
   ]
  },
  {
   "cell_type": "code",
   "execution_count": null,
   "id": "d54b8256-2dde-49c0-85a7-40a1bdc7845d",
   "metadata": {},
   "outputs": [],
   "source": []
  }
 ],
 "metadata": {
  "kernelspec": {
   "display_name": "Python 3",
   "language": "python",
   "name": "python3"
  },
  "language_info": {
   "codemirror_mode": {
    "name": "ipython",
    "version": 3
   },
   "file_extension": ".py",
   "mimetype": "text/x-python",
   "name": "python",
   "nbconvert_exporter": "python",
   "pygments_lexer": "ipython3",
   "version": "3.6.8"
  }
 },
 "nbformat": 4,
 "nbformat_minor": 5
}
