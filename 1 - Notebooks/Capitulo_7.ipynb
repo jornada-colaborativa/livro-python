## This document is part of "Jornada Python" book
### Cap_7_Pag_38

print("Meu primeiro programa em Python!")

### Cap_7_Pag_40
import click

@click.command()
@click.option("--count", default=3, help="Number of greetings.")
@click.option("--name", prompt="Your name", help="The person to greet.")
def hello(count, name):
   """Simple program that greets NAME for a total of COUNT times."""
   for _ in range(count):
       click.echo(f"Hello, {name}!")

if __name__ == '__main__':
   hello()