{
 "cells": [
  {
   "cell_type": "markdown",
   "metadata": {},
   "source": [
    "Formas de se escrever strings em Python"
   ]
  },
  {
   "cell_type": "code",
   "execution_count": null,
   "metadata": {},
   "outputs": [],
   "source": [
    ">>> # Aspas duplas:\n",
    ">>> \"Olá pessoal, essa é nossa primeira string com aspas duplas.\"\n",
    "\n",
    ">>> # Aspas simples:\n",
    ">>> 'Posso usar aspas simples também!'\n",
    "\n",
    ">>> # Tripla aspas simples:\n",
    ">>> ''' Texto\n",
    "...     de\n",
    "...     várias\n",
    "...     linhas\n",
    "... '''\n",
    "\n",
    ">>> # Tripla aspas duplas:\n",
    ">>> \"\"\" Texto\n",
    "...     de\n",
    "...     várias\n",
    "...     linhas\n",
    "... \"\"\"\n"
   ]
  },
  {
   "cell_type": "markdown",
   "metadata": {},
   "source": [
    "Atribuindo a variável"
   ]
  },
  {
   "cell_type": "code",
   "execution_count": null,
   "metadata": {},
   "outputs": [],
   "source": [
    "nome = \"Fulano de Tal\""
   ]
  },
  {
   "cell_type": "markdown",
   "metadata": {},
   "source": [
    "Representando aspas duplas"
   ]
  },
  {
   "cell_type": "code",
   "execution_count": null,
   "metadata": {},
   "outputs": [],
   "source": [
    ">>> \"Consigo escrever texto com \\\"aspas duplas\\\".\""
   ]
  },
  {
   "cell_type": "markdown",
   "metadata": {},
   "source": [
    "Substrings"
   ]
  },
  {
   "cell_type": "code",
   "execution_count": 2,
   "metadata": {},
   "outputs": [
    {
     "data": {
      "text/plain": [
       "'123456789'"
      ]
     },
     "execution_count": 2,
     "metadata": {},
     "output_type": "execute_result"
    }
   ],
   "source": [
    ">>> start = 10\n",
    ">>> \"abcdefghijklmnopqrstuvwxyz\"[start:]\n",
    ">>> end = 10\n",
    ">>> \"abcdefghijklmnopqrstuvwxyz\"[:end]\n",
    ">>> start = 5\n",
    ">>> end = 10\n",
    ">>> \"abcdefghijklmnopqrstuvwxyz\"[start:end]\n",
    ">>> step = 2\n",
    ">>> \"abcdefghijklmnopqrstuvwxyz\"[::step]\n",
    ">>> \"010203040506070809\"[1::2]\n",
    ">>> \"abcdefghijklmnopqrstuvwxyz\"[10]"
   ]
  },
  {
   "cell_type": "markdown",
   "metadata": {},
   "source": [
    "Formatando Strings"
   ]
  },
  {
   "cell_type": "code",
   "execution_count": null,
   "metadata": {},
   "outputs": [],
   "source": [
    ">>> \"Uma única substituição: %s!\" % \"Eureka\"\n",
    ">>> \"Múltiplas substituições: %s - %f - %d\" % (\"texto\", 1.1, 5)"
   ]
  },
  {
   "cell_type": "markdown",
   "metadata": {},
   "source": [
    "Função Format"
   ]
  },
  {
   "cell_type": "code",
   "execution_count": null,
   "metadata": {},
   "outputs": [],
   "source": [
    ">>> # Substitui o parâmetro {0} pelo primeiro parâmetro do format.\n",
    ">>> \"Colocando um número na string: {0}\".format(10)\n",
    ">>> \"Colocando números na string: {1}, {0}\".format(10, 20)\n",
    ">>> \"Colocando um número na string: {1}\".format(10)"
   ]
  },
  {
   "cell_type": "markdown",
   "metadata": {},
   "source": [
    "Formatação com F-string"
   ]
  },
  {
   "cell_type": "code",
   "execution_count": 3,
   "metadata": {},
   "outputs": [
    {
     "data": {
      "text/plain": [
       "'Olá, Amigo. Como você está?'"
      ]
     },
     "execution_count": 3,
     "metadata": {},
     "output_type": "execute_result"
    }
   ],
   "source": [
    ">>> nome_do_usuario = \"Amigo\"\n",
    ">>> # Desse modo a substituição será de acordo com as variáveis.\n",
    ">>> f\"Olá, {nome_do_usuario}. Como você está?\""
   ]
  },
  {
   "cell_type": "code",
   "execution_count": 4,
   "metadata": {},
   "outputs": [
    {
     "data": {
      "text/plain": [
       "'A soma de 5 + 5 = 10.'"
      ]
     },
     "execution_count": 4,
     "metadata": {},
     "output_type": "execute_result"
    }
   ],
   "source": [
    ">>> f\"A soma de 5 + 5 = {5+5}.\""
   ]
  },
  {
   "cell_type": "markdown",
   "metadata": {},
   "source": [
    "Grupo de strings"
   ]
  },
  {
   "cell_type": "code",
   "execution_count": 5,
   "metadata": {},
   "outputs": [
    {
     "data": {
      "text/plain": [
       "'!\"#$%&\\'()*+,-./:;<=>?@[\\\\]^_`{|}~'"
      ]
     },
     "execution_count": 5,
     "metadata": {},
     "output_type": "execute_result"
    }
   ],
   "source": [
    ">>> import string\n",
    ">>> string.ascii_letters  # Todas letras\n",
    ">>> string.digits  # Todos dígitos decimais\n",
    ">>> string.hexdigits  # Todos dígitos hexadecimais\n",
    ">>> string.punctuation  # Caracteres de pontuação\n"
   ]
  },
  {
   "cell_type": "markdown",
   "metadata": {},
   "source": [
    "Concatenar Strings"
   ]
  },
  {
   "cell_type": "code",
   "execution_count": null,
   "metadata": {},
   "outputs": [],
   "source": [
    ">>> \"Olá!\" + \" \" + \"Tudo\" + \" bem?\""
   ]
  },
  {
   "cell_type": "markdown",
   "metadata": {},
   "source": [
    "Funções Built-in"
   ]
  },
  {
   "cell_type": "code",
   "execution_count": null,
   "metadata": {},
   "outputs": [],
   "source": [
    ">>> #exemplo com variável\n",
    ">>> var = \"exemplo\"\n",
    ">>> var.upper()\n",
    ">>> #exemplo sem variável\n",
    ">>> \"exemplo\".upper()"
   ]
  },
  {
   "cell_type": "code",
   "execution_count": null,
   "metadata": {},
   "outputs": [],
   "source": [
    ">>> \"passar para letras maiúsculas\".upper()\n",
    ">>> \"PASSAR PARA LETRAS MINÚSCULAS\".lower()\n",
    ">>> \"primeira LETRA maiúscula\".capitalize()\n",
    ">>> \"vAmOs InVeRtEr\".swapcase()\n",
    ">>> \"     remover espaços antes e depois da frase    \".strip()\n",
    ">>> \"acrescentar espaços centralizando a frase\".center(50)\n",
    ">>> \"123\".zfill(7) # completa com zeros até dar o tamanho 7\n",
    "'0000123'\n",
    ">>> \"PRIMEIRA letra sEMPRE maiúscula\".title()\n",
    ">>> \"Quantos 'a's tem nessa frase?\".count(\"a\")\n",
    ">>> # Lembrando que a contagem em programação começa com zero.\n",
    ">>> \"Encontrar a primeir4 ocorrência de um v4lor.\".find(\"4\")\n",
    ">>> \"Não encontrado nada\".find(\"7\")"
   ]
  },
  {
   "cell_type": "code",
   "execution_count": 6,
   "metadata": {},
   "outputs": [
    {
     "name": "stdout",
     "output_type": "stream",
     "text": [
      "Não encontrado.\n"
     ]
    }
   ],
   "source": [
    "if \"string para ser pesquisada\".find(\"variável de pesquisa\") > -1:\n",
    "...     print(\"Encontrado.\")\n",
    "... else:\n",
    "...     print(\"Não encontrado.\")"
   ]
  },
  {
   "cell_type": "code",
   "execution_count": null,
   "metadata": {},
   "outputs": [],
   "source": [
    "Funções que retornam um boolean"
   ]
  },
  {
   "cell_type": "code",
   "execution_count": null,
   "metadata": {},
   "outputs": [],
   "source": [
    ">>> # se a string inicia com a substring 'inicio'.\n",
    ">>> \"início fim\".startswith(\"início\")\n",
    ">>> # se a string termina com a substring 'fim'.\n",
    ">>> \"início fim\".endswith(\"fim\")"
   ]
  }
 ],
 "metadata": {
  "kernelspec": {
   "display_name": "Python 3",
   "language": "python",
   "name": "python3"
  },
  "language_info": {
   "codemirror_mode": {
    "name": "ipython",
    "version": 3
   },
   "file_extension": ".py",
   "mimetype": "text/x-python",
   "name": "python",
   "nbconvert_exporter": "python",
   "pygments_lexer": "ipython3",
   "version": "3.8.5"
  }
 },
 "nbformat": 4,
 "nbformat_minor": 4
}
