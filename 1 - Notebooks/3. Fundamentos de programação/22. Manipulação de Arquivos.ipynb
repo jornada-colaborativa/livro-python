{
 "cells": [
  {
   "cell_type": "markdown",
   "id": "e900332c-88cc-458a-a4c9-a37f78eaaefb",
   "metadata": {},
   "source": [
    "Método builtin open"
   ]
  },
  {
   "cell_type": "code",
   "execution_count": null,
   "id": "123364d6-6524-4020-aff9-939e17d387a8",
   "metadata": {},
   "outputs": [],
   "source": [
    ">>> f = open(\"myfile.txt\", \"x\")\n",
    ">>> f = open(\"myfile.txt\", \"a\")\n",
    ">>> f = open(\"myfile.txt\", \"w+\")"
   ]
  },
  {
   "cell_type": "code",
   "execution_count": null,
   "id": "2a37bd4f-988c-4b1d-ac24-6dea22f0dc38",
   "metadata": {},
   "outputs": [],
   "source": [
    ">>> f.close()"
   ]
  },
  {
   "cell_type": "code",
   "execution_count": null,
   "id": "4755812d-bb46-48c6-a72c-26cf8745dac2",
   "metadata": {},
   "outputs": [],
   "source": [
    ">>> with open(\"myfile.txt\", \"w\") as f:\n",
    "...     f.write(\"Olá mundo\")"
   ]
  },
  {
   "cell_type": "code",
   "execution_count": null,
   "id": "935ccea9-a41b-4aa3-88b6-52f47ad7ab06",
   "metadata": {},
   "outputs": [],
   "source": [
    ">>> with open(\"myfile.txt\", \"w\") as f:\n",
    "...     f.writelines([\"Olá\", \"mundo!\"])"
   ]
  },
  {
   "cell_type": "code",
   "execution_count": null,
   "id": "4971a718-b9a8-4906-bfa3-ad14dec399f5",
   "metadata": {},
   "outputs": [],
   "source": [
    ">>> with open(\"myfile.txt\", \"a\") as f:\n",
    "...     f.writelines([\"\\nLivro\", \"Jornada\", \"Python\"])"
   ]
  },
  {
   "cell_type": "code",
   "execution_count": null,
   "id": "6793b460-f7dd-4a59-971e-d65163b5397f",
   "metadata": {},
   "outputs": [],
   "source": [
    ">>> with open(\"myfile.txt\", \"r\") as f:\n",
    "...     print(f.read())"
   ]
  },
  {
   "cell_type": "code",
   "execution_count": null,
   "id": "e2bef10c-a50d-49cb-b347-bd54b7fc5a00",
   "metadata": {},
   "outputs": [],
   "source": [
    ">>> with open(\"myfile.txt\", \"r\") as f:\n",
    "...     print(f.readlines())"
   ]
  },
  {
   "cell_type": "markdown",
   "id": "12103fed-6f9b-426a-925e-bb2f18791a95",
   "metadata": {},
   "source": [
    "Criando uma agenda"
   ]
  },
  {
   "cell_type": "code",
   "execution_count": null,
   "id": "a37775a1-69c9-465f-ab5f-d4e6bc1f7e50",
   "metadata": {},
   "outputs": [],
   "source": [
    "option = 2\n",
    "contacts = []\n",
    "while (option != 3):\n",
    "    print(\"\\nSeja bem vindo ao programa de cadastro de contatos!\")\n",
    "    print(\"\"\"\n",
    "    1 - Novo contato\n",
    "    2 - Listar contatos\n",
    "    3 - Sair\n",
    "    \"\"\")\n",
    "    option = int(input(\":\"))\n",
    "    if option == 1:\n",
    "        contacts.append(input(\"Informe o contato: \"))\n",
    "        print(\"Contato criado!\")\n",
    "    elif option == 2:\n",
    "        print(\"Listando contatos\")\n",
    "        for contact in contacts:\n",
    "            print(contact)\n",
    "    elif option != 3:\n",
    "        print(\"Opção inválida!\")"
   ]
  },
  {
   "cell_type": "code",
   "execution_count": null,
   "id": "459b9dce-6ea5-443a-853b-04afb642505b",
   "metadata": {},
   "outputs": [],
   "source": [
    "option = 2\n",
    "while (option != 3):\n",
    "    print(\"\\nSeja bem vindo ao programa de cadastro de contatos!\")\n",
    "    print(\"\"\"\n",
    "    1 - Novo contato\n",
    "    2 - Listar contatos\n",
    "    3 - Sair\n",
    "    \"\"\")\n",
    "    option = int(input(\":\"))\n",
    "    if option == 1:\n",
    "        name = input(\"Informe o contato: \")\n",
    "        with open(\"contacts.txt\", \"a\") as f:\n",
    "            f.write(f\"\\n{name}\")\n",
    "        print(\"Contato criado!\")\n",
    "    elif option == 2:\n",
    "        print(\"Listando contatos\")\n",
    "        with open(\"contacts.txt\", \"r\") as f:\n",
    "            for contact in f.readlines():\n",
    "                print(contact, end=\"\")\n",
    "    elif option != 3:\n",
    "        print(\"Opção inválida!\")"
   ]
  },
  {
   "cell_type": "code",
   "execution_count": null,
   "id": "31908dd4-3ef0-4f58-b625-58d9eab588a9",
   "metadata": {},
   "outputs": [],
   "source": [
    "option = 2\n",
    "while (option != 3):\n",
    "    print(\"\\nSeja bem vindo ao programa de cadastro de contatos!\")\n",
    "    print(\"\"\"\n",
    "    1 - Novo contato\n",
    "    2 - Listar contatos\n",
    "    3 - Sair\n",
    "    \"\"\")\n",
    "    option = int(input(\":\"))\n",
    "    if option == 1:\n",
    "        name = input(\"Informe o contato: \")\n",
    "        with open(\"contacts.txt\", \"a\") as f:\n",
    "            f.write(f\"\\n{name}\")\n",
    "        print(\"Contato criado!\")\n",
    "    elif option == 2:\n",
    "        print(\"Listando contatos\")\n",
    "        try:\n",
    "            with open(\"contacts.txt\", \"r\") as f:\n",
    "                for contact in f.readlines():\n",
    "                    print(contact, end=\"\")\n",
    "        except FileNotFoundError:\n",
    "            print(\"Lista de contatos vazia.\")\n",
    "    elif option != 3:\n",
    "        print(\"Opção inválida!\")"
   ]
  },
  {
   "cell_type": "code",
   "execution_count": null,
   "id": "42a683d0-25ac-4ffb-94ab-80bd016b3f4d",
   "metadata": {},
   "outputs": [],
   "source": []
  }
 ],
 "metadata": {
  "kernelspec": {
   "display_name": "Python 3",
   "language": "python",
   "name": "python3"
  },
  "language_info": {
   "codemirror_mode": {
    "name": "ipython",
    "version": 3
   },
   "file_extension": ".py",
   "mimetype": "text/x-python",
   "name": "python",
   "nbconvert_exporter": "python",
   "pygments_lexer": "ipython3",
   "version": "3.6.8"
  }
 },
 "nbformat": 4,
 "nbformat_minor": 5
}
