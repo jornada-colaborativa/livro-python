{
 "cells": [
  {
   "cell_type": "markdown",
   "metadata": {},
   "source": [
    "For"
   ]
  },
  {
   "cell_type": "code",
   "execution_count": null,
   "metadata": {},
   "outputs": [],
   "source": [
    ">>> for x in range(3):  # Definimos o critério do for\n",
    "...     print('Passou pelo número', x)"
   ]
  },
  {
   "cell_type": "markdown",
   "metadata": {},
   "source": [
    "While"
   ]
  },
  {
   "cell_type": "code",
   "execution_count": null,
   "metadata": {},
   "outputs": [],
   "source": [
    ">>> x = 0\n",
    ">>> while x < 3:\n",
    "...     print('Passou pelo número', x)\n",
    "...     x += 1"
   ]
  },
  {
   "cell_type": "code",
   "execution_count": null,
   "metadata": {},
   "outputs": [],
   "source": [
    ">>> while True:  # Critério infinitamente verdadeiro\n",
    "...     print('Loop infinito.')"
   ]
  },
  {
   "cell_type": "markdown",
   "metadata": {},
   "source": [
    "Iterando em Listas com for"
   ]
  },
  {
   "cell_type": "code",
   "execution_count": null,
   "metadata": {},
   "outputs": [],
   "source": [
    ">>> for letter in 'Python':\n",
    "...     print('Iteracao de texto: ',letter)"
   ]
  },
  {
   "cell_type": "code",
   "execution_count": null,
   "metadata": {},
   "outputs": [],
   "source": [
    ">>> nested_lists = [['a', 'b'], [1, 2], ['pera', 'uva']]\n",
    ">>> for inner_list in nested_lists:\n",
    "...     for item in inner_list:\n",
    "...         print('Iterando lista de listas: ', item)"
   ]
  },
  {
   "cell_type": "code",
   "execution_count": null,
   "metadata": {},
   "outputs": [],
   "source": [
    ">>> nested_lists = [['a', 'b'], [1, 2], ['pera', 'uva']]\n",
    ">>> for x,y in nested_lists:\n",
    "...     print('Primeira variável:', x, '; Segunda variável:', y)"
   ]
  },
  {
   "cell_type": "code",
   "execution_count": null,
   "metadata": {},
   "outputs": [],
   "source": [
    ">>> words = ['Quando', 'terminar', 'avisa?']\n",
    ">>> for word in words:\n",
    "...     print(word)\n",
    "... else:\n",
    "...     print('Aviso sim.')"
   ]
  },
  {
   "cell_type": "markdown",
   "metadata": {},
   "source": [
    "Controlando o fluxo de repetição com break, continue e pass"
   ]
  },
  {
   "cell_type": "code",
   "execution_count": null,
   "metadata": {},
   "outputs": [],
   "source": [
    ">>> for x in range(10):\n",
    "...     print('Quando for 3, será interrompido. x=', x)\n",
    "...     if x == 3: break"
   ]
  },
  {
   "cell_type": "code",
   "execution_count": null,
   "metadata": {},
   "outputs": [],
   "source": [
    ">>> for x in range(10):\n",
    "...     if x == 2: continue  # Verifique se 2 foi ignorado\n",
    "...     print('Se igual a 3, será interrompido. x=', x)\n",
    "...     if x == 3: break"
   ]
  },
  {
   "cell_type": "code",
   "execution_count": null,
   "metadata": {},
   "outputs": [],
   "source": [
    ">>> for x in range(10):\n",
    "...     if x == 2: pass  # O fluxo segue normalmente\n",
    "...     print('Se igual a 3, será interrompido. x=', x)\n",
    "...     if x == 3: break"
   ]
  },
  {
   "cell_type": "code",
   "execution_count": null,
   "metadata": {},
   "outputs": [],
   "source": [
    "Looping inline"
   ]
  },
  {
   "cell_type": "code",
   "execution_count": null,
   "metadata": {},
   "outputs": [],
   "source": [
    ">>> for x in range(3): print('Passou pelo número', x)"
   ]
  },
  {
   "cell_type": "code",
   "execution_count": null,
   "metadata": {},
   "outputs": [],
   "source": [
    ">>> while True: print('Loop infinito.')  # Ctrl+C interrompe a execução"
   ]
  },
  {
   "cell_type": "code",
   "execution_count": null,
   "metadata": {},
   "outputs": [],
   "source": [
    ">>> words = ['Temos', 'muitas', 'palavras', 'nesse', 'exemplo']\n",
    ">>> print([word for word in words if len(word) >= 6])"
   ]
  }
 ],
 "metadata": {
  "kernelspec": {
   "display_name": "Python 3",
   "language": "python",
   "name": "python3"
  },
  "language_info": {
   "codemirror_mode": {
    "name": "ipython",
    "version": 3
   },
   "file_extension": ".py",
   "mimetype": "text/x-python",
   "name": "python",
   "nbconvert_exporter": "python",
   "pygments_lexer": "ipython3",
   "version": "3.8.5"
  }
 },
 "nbformat": 4,
 "nbformat_minor": 4
}
