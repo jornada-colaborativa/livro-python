{
 "cells": [
  {
   "cell_type": "markdown",
   "id": "9a578656-df7f-4515-816c-8330678cf202",
   "metadata": {},
   "source": [
    "Docstrings"
   ]
  },
  {
   "cell_type": "code",
   "execution_count": null,
   "id": "b8a1264c-3797-4f9d-8b37-2d9b4a6bf9cf",
   "metadata": {},
   "outputs": [],
   "source": [
    "#má prática\n",
    "def soma(a, b):\n",
    "    \"\"\"Retorna a soma do a com b\"\"\"\"\n",
    "    return a + b"
   ]
  },
  {
   "cell_type": "code",
   "execution_count": null,
   "id": "31b25eda-b825-46c4-a8eb-bac360707707",
   "metadata": {},
   "outputs": [],
   "source": [
    "#boa prática\n",
    "def soma(a, b):\n",
    "    \"\"\"Retorna soma para `int` e `float`; concatena tipo `str`\"\"\"\"\n",
    "    return a + b"
   ]
  },
  {
   "cell_type": "code",
   "execution_count": null,
   "id": "b740893e-99a3-4e00-ab08-d5c395306aa9",
   "metadata": {},
   "outputs": [],
   "source": [
    ">>> print(soma.__doc__)"
   ]
  },
  {
   "cell_type": "code",
   "execution_count": null,
   "id": "a63f0456-fc8d-40f4-aef0-709aa1be2830",
   "metadata": {},
   "outputs": [],
   "source": [
    "def soma(a, b):\n",
    "    \"\"\"Verifica se `type(a) == type(b)`:\n",
    "    - Se verdadeiro retorna soma para tipos numéricos; concatena tipo `str`\n",
    "    - Retorna `None` caso contrário\n",
    "    \"\"\"\n",
    "    if type(a) == type(b):\n",
    "        return a + b\n",
    "    return None"
   ]
  },
  {
   "cell_type": "markdown",
   "id": "5246405d-d538-4d7f-8b1c-aef69f54c7a8",
   "metadata": {},
   "source": [
    "PyDoc"
   ]
  },
  {
   "cell_type": "code",
   "execution_count": null,
   "id": "7100c450-83ea-4846-b686-ece6a64a3ac7",
   "metadata": {},
   "outputs": [],
   "source": [
    "!python -m pydoc pandas"
   ]
  },
  {
   "cell_type": "markdown",
   "id": "9888b21f-b047-4033-a397-9163755b9dd9",
   "metadata": {},
   "source": [
    "Type Hinting"
   ]
  },
  {
   "cell_type": "code",
   "execution_count": null,
   "id": "41cb6436-2979-439b-bc55-4715640daba6",
   "metadata": {},
   "outputs": [],
   "source": [
    "def apresentacao(nome: str) -> str:\n",
    "    \"\"\"Retorna `Ola` + nome \"\"\"\n",
    "    return \"Olá\" + nome"
   ]
  },
  {
   "cell_type": "code",
   "execution_count": null,
   "id": "b286ec29-7a20-4ce8-94fa-63d09bd92534",
   "metadata": {},
   "outputs": [],
   "source": [
    ">>> import typing\n",
    ">>> print(typing.get_type_hints(apresentacao))"
   ]
  },
  {
   "cell_type": "code",
   "execution_count": null,
   "id": "3f74056d-5a8c-421a-8e77-ce6ad3457eb7",
   "metadata": {},
   "outputs": [],
   "source": [
    "from typing import List\n",
    "Vetor = List[float]\n",
    "def multiplica_vetor(num: float, vetor: Vetor) -> Vetor:\n",
    "    \"\"\"Multiplica um `num` em todos os elementos de um `Vetor`\"\"\"\n",
    "    return [num * elem for elem in vetor]"
   ]
  },
  {
   "cell_type": "code",
   "execution_count": null,
   "id": "a99a9318-bb86-4574-90a1-601e19a08600",
   "metadata": {},
   "outputs": [],
   "source": [
    ">>> import pandas as pd\n",
    ">>> PandasDataFrame = pd.DataFrame\n",
    ">>> def is_pandas_dataframe(dataframe: PandasDataFrame) -> bool:\n",
    "...     return type(dataframe) == PandasDataFrame"
   ]
  },
  {
   "cell_type": "markdown",
   "id": "3411d229-2c2d-4a08-82a5-751d78df3cdb",
   "metadata": {},
   "source": [
    "Estilos para Docstrings"
   ]
  },
  {
   "cell_type": "code",
   "execution_count": null,
   "id": "b4c7ced3-fcc6-4b9d-8898-85fb68477bc0",
   "metadata": {},
   "outputs": [],
   "source": [
    "from typing import Any\n",
    "def soma(a: Any, b: Any) -> Any:\n",
    "    \"\"\"Se type(a) == type(b) realiza a soma para tipos numéricos, \n",
    "    concatena para `str`\n",
    "    \n",
    "    :param a: int, float ou str\n",
    "    :param b: int, float ou str\n",
    "    \"\"\"\n",
    "    if type(a) == type(b):\n",
    "        return a+b\n",
    "    return None"
   ]
  },
  {
   "cell_type": "markdown",
   "id": "7f9b9fdb-d051-44e5-9292-fd5ad7855475",
   "metadata": {},
   "source": [
    "GoogleDoc"
   ]
  },
  {
   "cell_type": "code",
   "execution_count": null,
   "id": "6191d845-f046-488b-a8a7-8e86ece45c2c",
   "metadata": {},
   "outputs": [],
   "source": [
    "from typing import Any\n",
    "def soma(a: Any, b: Any) -> Any:\n",
    "    \"\"\"Se type(a) == type(b), realiza a soma para tipos numéricos, \n",
    "    concatena para `str`\n",
    "  \n",
    "    Args:\n",
    "    a (Any): int, float ou str\n",
    "    b (Any): int, float ou str\n",
    "    \"\"\"\n",
    "    if type(a) == type(b):\n",
    "        return a+b\n",
    "    return None"
   ]
  },
  {
   "cell_type": "markdown",
   "id": "bf7afec7-fe95-4aaf-9e2f-dbf2e08dc272",
   "metadata": {},
   "source": [
    "NumpyDoc"
   ]
  },
  {
   "cell_type": "code",
   "execution_count": null,
   "id": "f2e3ef6c-e85d-4392-9fd9-e352a765c004",
   "metadata": {},
   "outputs": [],
   "source": [
    "from typing import Any\n",
    "def soma(a: Any, b: Any) -> Any:\n",
    "    \"\"\"Se type(a) == type(b) realiza a soma para tipos numéricos,\n",
    "    concatena para `str`\n",
    "  \n",
    "    Parameters\n",
    "    ----------\n",
    "    a : Any\n",
    "        int, float ou str\n",
    "    b : Any\n",
    "        int, float ou str\n",
    "    \"\"\"\n",
    "    if type(a) == type(b):\n",
    "        return a+b\n",
    "    return None"
   ]
  },
  {
   "cell_type": "code",
   "execution_count": null,
   "id": "d1e852bd-c738-4e91-a2d7-8813f0912229",
   "metadata": {},
   "outputs": [],
   "source": []
  }
 ],
 "metadata": {
  "kernelspec": {
   "display_name": "Python 3",
   "language": "python",
   "name": "python3"
  },
  "language_info": {
   "codemirror_mode": {
    "name": "ipython",
    "version": 3
   },
   "file_extension": ".py",
   "mimetype": "text/x-python",
   "name": "python",
   "nbconvert_exporter": "python",
   "pygments_lexer": "ipython3",
   "version": "3.6.8"
  }
 },
 "nbformat": 4,
 "nbformat_minor": 5
}
