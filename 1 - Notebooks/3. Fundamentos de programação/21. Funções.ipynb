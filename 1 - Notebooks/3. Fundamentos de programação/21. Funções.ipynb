{
 "cells": [
  {
   "cell_type": "markdown",
   "id": "9cfa8296-87ca-4ccb-a10d-7ac61e1d6301",
   "metadata": {},
   "source": [
    "Criando uma função"
   ]
  },
  {
   "cell_type": "code",
   "execution_count": null,
   "id": "ca35a594-1633-47f4-aece-8063858b6465",
   "metadata": {},
   "outputs": [],
   "source": [
    ">>> def imprimir():\n",
    "...     print(\"Uma mensagem\")\n",
    ">>> imprimir()"
   ]
  },
  {
   "cell_type": "markdown",
   "id": "18092232-a4fd-44ac-bdc9-b0878cff9b02",
   "metadata": {},
   "source": [
    "Escopo de variáveis"
   ]
  },
  {
   "cell_type": "code",
   "execution_count": null,
   "id": "9b2e565f-76da-4619-8dc6-0326579f4082",
   "metadata": {},
   "outputs": [],
   "source": [
    ">>> mensagem = \"Uma mensagem\"\n",
    ">>> def imprimir():\n",
    "...     print(mensagem)\n",
    ">>> imprimir()"
   ]
  },
  {
   "cell_type": "code",
   "execution_count": null,
   "id": "b1e2353a-6b6a-4591-a020-b04d2130ea37",
   "metadata": {},
   "outputs": [],
   "source": [
    "del mensagem"
   ]
  },
  {
   "cell_type": "code",
   "execution_count": null,
   "id": "6fa9c8e4-cd6b-44aa-8184-f2da9e0c1c5f",
   "metadata": {},
   "outputs": [],
   "source": [
    ">>> def imprimir():\n",
    "...     mensagem = \"Outra mensagem\"\n",
    "...     print(mensagem)\n",
    ">>> imprimir()\n",
    ">>> print(mensagem)"
   ]
  },
  {
   "cell_type": "code",
   "execution_count": null,
   "id": "c7321d26-52d7-41d4-b285-d06f33f9db8e",
   "metadata": {},
   "outputs": [],
   "source": [
    ">>> mensagem = \"Variável global\"\n",
    ">>> def imprimir_nivel1():\n",
    "...     mensagem = \"Variável nível 1\"\n",
    "...     def imprimir_nivel2():\n",
    "...         mensagem = \"Variável nível 2\"\n",
    "...         def imprimir_nivel3():\n",
    "...             nonlocal mensagem\n",
    "...             mensagem = \"Variável nível 3\"\n",
    "...             print(mensagem)\n",
    "...         imprimir_nivel3()\n",
    "...         print(mensagem)\n",
    "...     imprimir_nivel2()\n",
    "...     print(mensagem)\n",
    ">>> imprimir_nivel1()\n",
    ">>> print(mensagem)"
   ]
  },
  {
   "cell_type": "markdown",
   "id": "e75561f4-81b9-4bbd-a1a0-18c2419039ee",
   "metadata": {},
   "source": [
    "Parâmetros e valores de retorno"
   ]
  },
  {
   "cell_type": "code",
   "execution_count": null,
   "id": "a88d7b39-3cf8-4721-b68b-0ef23850d204",
   "metadata": {},
   "outputs": [],
   "source": [
    ">>> def soma(a, b=4):\n",
    "...     res = a + b\n",
    "...     return res\n",
    ">>> soma(2, 3)"
   ]
  },
  {
   "cell_type": "code",
   "execution_count": null,
   "id": "7a1374db-b997-4bee-9f2a-82952fca03fb",
   "metadata": {},
   "outputs": [],
   "source": [
    ">>> soma(2)"
   ]
  },
  {
   "cell_type": "code",
   "execution_count": null,
   "id": "7f45eaf2-1647-4b9d-955d-f67d8ebaf685",
   "metadata": {},
   "outputs": [],
   "source": [
    ">>> def soma(pos1, pos2, /, pos_chave1, pos_chave2, *, chave1, chave2):\n",
    "...     res = pos1 + pos2 + pos_chave1 + pos_chave2 + chave1 + chave2\n",
    "...     return res"
   ]
  },
  {
   "cell_type": "code",
   "execution_count": null,
   "id": "8379d689-5c14-42c9-8125-2a487e1171a0",
   "metadata": {},
   "outputs": [],
   "source": [
    ">>> soma(1, 2, pos_chave1=3, pos_chave2=4, chave1=5, chave2=6)"
   ]
  },
  {
   "cell_type": "code",
   "execution_count": null,
   "id": "7f4514ef-8610-4f5a-9131-82515b52310b",
   "metadata": {},
   "outputs": [],
   "source": [
    ">>> soma(1, 2, 3, 4, chave1=5, chave2=6)"
   ]
  },
  {
   "cell_type": "code",
   "execution_count": null,
   "id": "a150fbe9-c1ce-4846-ac3f-e39facecdacd",
   "metadata": {},
   "outputs": [],
   "source": [
    ">>> def soma(lista_numeros):\n",
    "...     res = 0\n",
    "...     for numero in lista_numeros:\n",
    "...         res = res + numero\n",
    "...     return res\n",
    ">>> soma([2,4,6,8])"
   ]
  },
  {
   "cell_type": "markdown",
   "id": "5878af17-3cd5-4669-92c8-7fb70ea4d3a5",
   "metadata": {},
   "source": [
    "Parâmetros arbitrários"
   ]
  },
  {
   "cell_type": "code",
   "execution_count": null,
   "id": "b88d869e-c748-4ea4-80d3-e61f4c32a245",
   "metadata": {},
   "outputs": [],
   "source": [
    ">>> def soma(*lista_numeros):\n",
    "...     res = 0\n",
    "...     for numero in lista_numeros:\n",
    "...         res = res + numero\n",
    "...     return res\n",
    ">>> soma(2, 4, 6, 8)"
   ]
  },
  {
   "cell_type": "code",
   "execution_count": null,
   "id": "1dd76fe6-823c-4273-8359-fab046af4802",
   "metadata": {},
   "outputs": [],
   "source": [
    ">>> valores = [2, 4, 6, 8]\n",
    ">>> soma(*valores)"
   ]
  },
  {
   "cell_type": "markdown",
   "id": "44a563af-6aaa-4889-86a6-da089993a172",
   "metadata": {},
   "source": [
    "Lambda"
   ]
  },
  {
   "cell_type": "code",
   "execution_count": null,
   "id": "c4256a53-6b82-4f65-98e9-581a211c3a83",
   "metadata": {},
   "outputs": [],
   "source": [
    ">>> soma = lambda a,b: a+b"
   ]
  },
  {
   "cell_type": "markdown",
   "id": "cd046acf-137a-45a2-b08a-97f709919a44",
   "metadata": {},
   "source": [
    "Funções aninhadas"
   ]
  },
  {
   "cell_type": "code",
   "execution_count": null,
   "id": "1af75e16-174c-45c2-8530-82d0ae83e913",
   "metadata": {},
   "outputs": [],
   "source": [
    ">>> def indicadores(lista_numeros):\n",
    "...     def soma(lista_numeros):\n",
    "...         res = 0\n",
    "...         for numero in lista_numeros:\n",
    "...             res = res + numero\n",
    "...         return res\n",
    "...     def media(lista_numeros):\n",
    "...         quantidade = len(lista_numeros)\n",
    "...         res = soma(lista_numeros) / quantidade\n",
    "...         return res\n",
    "...     return soma(lista_numeros), media(lista_numeros)\n",
    ">>> indicadores([2,4,6,8])"
   ]
  },
  {
   "cell_type": "markdown",
   "id": "7936ed7b-c9f0-4c18-941d-50d0b30a6d45",
   "metadata": {},
   "source": [
    "Funções de primeira classe"
   ]
  },
  {
   "cell_type": "code",
   "execution_count": null,
   "id": "e6cf0a7f-1f76-46d8-8308-8ae4fe20b303",
   "metadata": {},
   "outputs": [],
   "source": [
    ">>> def calcula(func, valor):\n",
    "...     return func(valor)\n",
    ">>> def quadrado(valor):\n",
    "...     return valor ** 2\n",
    ">>> calcula(quadrado, 3)"
   ]
  },
  {
   "cell_type": "markdown",
   "id": "a7c5bbbb-7156-40a7-8893-021c932a448c",
   "metadata": {},
   "source": [
    "Decorators"
   ]
  },
  {
   "cell_type": "code",
   "execution_count": null,
   "id": "552cc114-7761-41df-83f2-9dad193ac57b",
   "metadata": {},
   "outputs": [],
   "source": [
    ">>> def calcula(f):\n",
    "...     def empacotador(*args, **kwargs):\n",
    "...         res = f(*args, **kwargs)\n",
    "...         res = f\"O resultado é {res}\"\n",
    "...         return res\n",
    "...     return empacotador\n",
    ">>> @calcula\n",
    "... def quadrado(valor):\n",
    "...     return valor ** 2\n",
    ">>> quadrado(3)"
   ]
  },
  {
   "cell_type": "markdown",
   "id": "8e0bd5c9-072d-4c74-b4b4-1f5882f6e526",
   "metadata": {},
   "source": [
    "Anotações e documentações em funções"
   ]
  },
  {
   "cell_type": "code",
   "execution_count": null,
   "id": "578ec805-bbce-4c86-a55a-dddf674f3af9",
   "metadata": {},
   "outputs": [],
   "source": [
    ">>> def soma(a: float, b: float) -> float:\n",
    "...     \"\"\"Retorna a soma de dois números.\"\"\"\n",
    "...     return a+b\n",
    ">>> print(soma.__annotations__)"
   ]
  },
  {
   "cell_type": "code",
   "execution_count": null,
   "id": "03a2b77f-e211-473a-b0c1-f3a45aa54b72",
   "metadata": {},
   "outputs": [],
   "source": [
    ">>> print(soma.__doc__)"
   ]
  },
  {
   "cell_type": "code",
   "execution_count": null,
   "id": "658c995a-82c1-4da5-ad50-e7a0b13eaa0d",
   "metadata": {},
   "outputs": [],
   "source": [
    ">>> help(soma)"
   ]
  },
  {
   "cell_type": "code",
   "execution_count": null,
   "id": "a82dee9b-6cec-453d-8b4c-a8484956de8f",
   "metadata": {},
   "outputs": [],
   "source": []
  }
 ],
 "metadata": {
  "kernelspec": {
   "display_name": "Python 3",
   "language": "python",
   "name": "python3"
  },
  "language_info": {
   "codemirror_mode": {
    "name": "ipython",
    "version": 3
   },
   "file_extension": ".py",
   "mimetype": "text/x-python",
   "name": "python",
   "nbconvert_exporter": "python",
   "pygments_lexer": "ipython3",
   "version": "3.6.8"
  }
 },
 "nbformat": 4,
 "nbformat_minor": 5
}
