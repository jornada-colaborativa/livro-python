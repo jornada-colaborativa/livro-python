{
 "cells": [
  {
   "cell_type": "code",
   "execution_count": 1,
   "id": "b31aa376-945b-4353-b68b-8b8eb6c2432f",
   "metadata": {},
   "outputs": [],
   "source": [
    ">>> numeros = list(range(1,10))\n",
    ">>> S = [ 2 * numero for numero in numeros if numero^2 > 3 ]"
   ]
  },
  {
   "cell_type": "code",
   "execution_count": 2,
   "id": "696e210b-b9f4-4db7-922b-f73edf6e5314",
   "metadata": {},
   "outputs": [
    {
     "data": {
      "text/plain": [
       "['L',\n",
       " 'i',\n",
       " 'v',\n",
       " 'r',\n",
       " 'o',\n",
       " ' ',\n",
       " 'J',\n",
       " 'o',\n",
       " 'r',\n",
       " 'n',\n",
       " 'a',\n",
       " 'd',\n",
       " 'a',\n",
       " ' ',\n",
       " 'P',\n",
       " 'y',\n",
       " 't',\n",
       " 'h',\n",
       " 'o',\n",
       " 'n']"
      ]
     },
     "execution_count": 2,
     "metadata": {},
     "output_type": "execute_result"
    }
   ],
   "source": [
    ">>> nome = 'Livro Jornada Python'\n",
    ">>> [ letra for letra in nome ]"
   ]
  },
  {
   "cell_type": "code",
   "execution_count": 3,
   "id": "0f627613-1460-4414-8200-b1bff71cc7c2",
   "metadata": {},
   "outputs": [
    {
     "data": {
      "text/plain": [
       "['L',\n",
       " 'i',\n",
       " 'v',\n",
       " 'r',\n",
       " 'o',\n",
       " 'J',\n",
       " 'o',\n",
       " 'r',\n",
       " 'n',\n",
       " 'a',\n",
       " 'd',\n",
       " 'a',\n",
       " 'P',\n",
       " 'y',\n",
       " 't',\n",
       " 'h',\n",
       " 'o',\n",
       " 'n']"
      ]
     },
     "execution_count": 3,
     "metadata": {},
     "output_type": "execute_result"
    }
   ],
   "source": [
    ">>> [ letra for letra in nome if letra != ' ']"
   ]
  },
  {
   "cell_type": "code",
   "execution_count": 4,
   "id": "e3d0c265-96c3-448e-bea5-b4a199be4e6c",
   "metadata": {},
   "outputs": [
    {
     "data": {
      "text/plain": [
       "['L',\n",
       " 'I',\n",
       " 'V',\n",
       " 'R',\n",
       " 'O',\n",
       " 'J',\n",
       " 'O',\n",
       " 'R',\n",
       " 'N',\n",
       " 'A',\n",
       " 'D',\n",
       " 'A',\n",
       " 'P',\n",
       " 'Y',\n",
       " 'T',\n",
       " 'H',\n",
       " 'O',\n",
       " 'N']"
      ]
     },
     "execution_count": 4,
     "metadata": {},
     "output_type": "execute_result"
    }
   ],
   "source": [
    ">>> [ letra.upper() for letra in nome if letra != ' ' ]"
   ]
  },
  {
   "cell_type": "code",
   "execution_count": 5,
   "id": "4db1edb6-162b-4ba9-87a7-7f61db8df043",
   "metadata": {},
   "outputs": [
    {
     "data": {
      "text/plain": [
       "['l',\n",
       " 'i',\n",
       " 'v',\n",
       " 'r',\n",
       " 'O',\n",
       " 'j',\n",
       " 'O',\n",
       " 'r',\n",
       " 'n',\n",
       " 'a',\n",
       " 'd',\n",
       " 'a',\n",
       " 'p',\n",
       " 'y',\n",
       " 't',\n",
       " 'h',\n",
       " 'O',\n",
       " 'n']"
      ]
     },
     "execution_count": 5,
     "metadata": {},
     "output_type": "execute_result"
    }
   ],
   "source": [
    ">>> [letra.upper() if letra == 'o' else letra.lower()\n",
    "...     for letra in nome if letra != ' '\n",
    "... ]"
   ]
  },
  {
   "cell_type": "code",
   "execution_count": 6,
   "id": "bc15161e-7008-4985-95c2-abbfac30da46",
   "metadata": {},
   "outputs": [],
   "source": [
    ">>> vendedores = ['Vend1', 'Vend2', 'Vend3', 'Vend4']\n",
    ">>> totalvendas = [1200, 2350, 980, 1890]"
   ]
  },
  {
   "cell_type": "code",
   "execution_count": 7,
   "id": "e78418c6-82f5-47e3-92cf-dcf8808b369d",
   "metadata": {},
   "outputs": [
    {
     "data": {
      "text/plain": [
       "<zip at 0x2ba949b8a688>"
      ]
     },
     "execution_count": 7,
     "metadata": {},
     "output_type": "execute_result"
    }
   ],
   "source": [
    ">>> zip(vendedores, totalvendas)"
   ]
  },
  {
   "cell_type": "code",
   "execution_count": 10,
   "id": "2d750d5e-8a5b-4cc3-90c8-35e4e3cf1980",
   "metadata": {},
   "outputs": [],
   "source": [
    ">>> vendas = zip(vendedores, totalvendas)\n",
    ">>> vendas = list(vendas)"
   ]
  },
  {
   "cell_type": "code",
   "execution_count": 11,
   "id": "08e4a870-f517-419d-a7d2-df36126af022",
   "metadata": {},
   "outputs": [
    {
     "data": {
      "text/plain": [
       "[('Vend4', 1890), ('Vend3', 980), ('Vend2', 2350), ('Vend1', 1200)]"
      ]
     },
     "execution_count": 11,
     "metadata": {},
     "output_type": "execute_result"
    }
   ],
   "source": [
    ">>> sorted(vendas, key=lambda x: x[0], reverse=True)"
   ]
  },
  {
   "cell_type": "code",
   "execution_count": 12,
   "id": "8b611313-4757-477b-af43-d69ef35c156d",
   "metadata": {},
   "outputs": [
    {
     "data": {
      "text/plain": [
       "['casa', 'cama', 'banho', 'longe', 'perto', 'joao', 'maria', 'jorge']"
      ]
     },
     "execution_count": 12,
     "metadata": {},
     "output_type": "execute_result"
    }
   ],
   "source": [
    ">>> lista_palavras = [\n",
    "...     [\"casa\", \"cama\", \"banho\"],\n",
    "...     [\"longe\", \"perto\"],\n",
    "...     [\"joao\", \"maria\", \"jorge\"]\n",
    "... ]\n",
    ">>> [ palavra for sublista in lista_palavras for palavra in sublista]"
   ]
  },
  {
   "cell_type": "code",
   "execution_count": 13,
   "id": "514ebe35-9883-4ea8-9293-74ada07fa97e",
   "metadata": {},
   "outputs": [
    {
     "data": {
      "text/plain": [
       "{1, 2, 3, 4, 5, 6, 7, 33}"
      ]
     },
     "execution_count": 13,
     "metadata": {},
     "output_type": "execute_result"
    }
   ],
   "source": [
    ">>> numeros = [1, 33, 2, 5, 3, 4, 6, 2, 3, 6, 7, 2]\n",
    ">>> {x for x in numeros}"
   ]
  },
  {
   "cell_type": "code",
   "execution_count": 14,
   "id": "09316182-f1f9-43bb-ba79-b706f0940f0b",
   "metadata": {},
   "outputs": [
    {
     "data": {
      "text/plain": [
       "{'Vend1': 1200, 'Vend2': 2350, 'Vend3': 980, 'Vend4': 1890}"
      ]
     },
     "execution_count": 14,
     "metadata": {},
     "output_type": "execute_result"
    }
   ],
   "source": [
    ">>> { ve: tv for ve, tv in zip(vendedores, totalvendas) }"
   ]
  },
  {
   "cell_type": "code",
   "execution_count": null,
   "id": "d5597bff-c457-4765-8481-d093386f0216",
   "metadata": {},
   "outputs": [],
   "source": []
  }
 ],
 "metadata": {
  "kernelspec": {
   "display_name": "Python 3",
   "language": "python",
   "name": "python3"
  },
  "language_info": {
   "codemirror_mode": {
    "name": "ipython",
    "version": 3
   },
   "file_extension": ".py",
   "mimetype": "text/x-python",
   "name": "python",
   "nbconvert_exporter": "python",
   "pygments_lexer": "ipython3",
   "version": "3.6.8"
  }
 },
 "nbformat": 4,
 "nbformat_minor": 5
}
