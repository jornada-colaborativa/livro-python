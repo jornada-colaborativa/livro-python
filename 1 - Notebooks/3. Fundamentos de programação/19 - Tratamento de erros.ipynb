{
 "cells": [
  {
   "cell_type": "markdown",
   "metadata": {},
   "source": [
    "ZeroDivisionError"
   ]
  },
  {
   "cell_type": "code",
   "execution_count": null,
   "metadata": {},
   "outputs": [],
   "source": [
    ">>> 1/0  # Divisão por zero"
   ]
  },
  {
   "cell_type": "markdown",
   "metadata": {},
   "source": [
    "KeyError"
   ]
  },
  {
   "cell_type": "code",
   "execution_count": null,
   "metadata": {},
   "outputs": [],
   "source": [
    ">>> meu_dicionario = {'um': 1}\n",
    ">>> meu_dicionario['um']\n",
    ">>> meu_dicionario.get('um')\n",
    ">>> meu_dicionario['dois']"
   ]
  },
  {
   "cell_type": "markdown",
   "metadata": {},
   "source": [
    "SyntaxError"
   ]
  },
  {
   "cell_type": "code",
   "execution_count": null,
   "metadata": {},
   "outputs": [],
   "source": [
    ">>> while True print('Olá Mundo')"
   ]
  },
  {
   "cell_type": "markdown",
   "metadata": {},
   "source": [
    "Capturando exceções"
   ]
  },
  {
   "cell_type": "markdown",
   "metadata": {},
   "source": [
    "KeyboardInterrupt"
   ]
  },
  {
   "cell_type": "code",
   "execution_count": 1,
   "metadata": {},
   "outputs": [],
   "source": [
    "def contador_infinito():\n",
    "   from time import sleep\n",
    "   i = 0\n",
    "   while True:\n",
    "       try:\n",
    "           print(i)\n",
    "           i += 1\n",
    "           sleep(i)\n",
    "       except KeyboardInterrupt:\n",
    "           continuar = input(\n",
    "               'Você apertou Ctrl-C. ' \\\n",
    "               'Aperte S para continuar. ' \\\n",
    "               'Aperte N para parar. '\n",
    "           )\n",
    "           if continuar == 'N':\n",
    "               break"
   ]
  },
  {
   "cell_type": "code",
   "execution_count": null,
   "metadata": {},
   "outputs": [
    {
     "name": "stdout",
     "output_type": "stream",
     "text": [
      "0\n",
      "1\n",
      "2\n",
      "3\n",
      "4\n",
      "5\n",
      "Você apertou Ctrl-C. Aperte S para continuar. Aperte N para parar. s\n",
      "6\n",
      "7\n",
      "8\n",
      "9\n",
      "10\n",
      "11\n",
      "12\n",
      "13\n",
      "14\n",
      "15\n",
      "16\n",
      "17\n",
      "18\n",
      "19\n",
      "20\n",
      "21\n",
      "22\n",
      "23\n",
      "24\n",
      "25\n",
      "26\n",
      "27\n"
     ]
    }
   ],
   "source": [
    ">>> contador_infinito()"
   ]
  },
  {
   "cell_type": "markdown",
   "metadata": {},
   "source": [
    "KeyError"
   ]
  },
  {
   "cell_type": "code",
   "execution_count": null,
   "metadata": {},
   "outputs": [],
   "source": [
    "def obter_inserir_chave_dicionario(dicionario, chave):\n",
    "    try:\n",
    "        return dicionario[chave]\n",
    "    except KeyError:\n",
    "        novo_valor = input(\n",
    "           f'A chave \"{chave}\" não existe. '\\\n",
    "           'Insira um valor para essa chave:\\n'\n",
    "        )\n",
    "        dicionario[chave] = novo_valor\n",
    "        return dicionario[chave]"
   ]
  },
  {
   "cell_type": "code",
   "execution_count": null,
   "metadata": {},
   "outputs": [],
   "source": [
    ">>> dicionario = {'um': 1, 'dois': 2}\n",
    ">>> obter_inserir_chave_dicionario(dicionario, 'dois')\n",
    ">>> obter_inserir_chave_dicionario(dicionario, 'tres')"
   ]
  },
  {
   "cell_type": "code",
   "execution_count": null,
   "metadata": {},
   "outputs": [],
   "source": [
    ">>> try:\n",
    "...     x = 1/0\n",
    "... except ZeroDivisionError as error:\n",
    "...     print(error)"
   ]
  },
  {
   "cell_type": "code",
   "execution_count": null,
   "metadata": {},
   "outputs": [],
   "source": [
    "def capturar_excecao(chave_divisao):\n",
    "    dicionario = {0: 'zero'}\n",
    "    try:\n",
    "        print(dicionario[chave_divisao])\n",
    "        print(1/chave_divisao)\n",
    "    except Exception as error:\n",
    "        print(f'Capturamos \"{error.__repr__()}\"')"
   ]
  },
  {
   "cell_type": "code",
   "execution_count": null,
   "metadata": {},
   "outputs": [],
   "source": [
    ">>> capturar_excecao(1)\n",
    ">>> capturar_exception(0)"
   ]
  },
  {
   "cell_type": "code",
   "execution_count": null,
   "metadata": {},
   "outputs": [],
   "source": [
    "def capturar_excecao_em_cadeia(chave_divisao):\n",
    "    dicionario = {0: 'zero', 'um': 1}\n",
    "    try:\n",
    "        print(dicionario[chave_divisao])\n",
    "        print(1/chave_divisao)\n",
    "    except ZeroDivisionError:\n",
    "        print('Exceção de divisão por zero!')\n",
    "    except KeyError:\n",
    "        print('Chave não encontrada no dicionário!')\n",
    "    except Exception:\n",
    "        print('Exceção desconhecida!')"
   ]
  },
  {
   "cell_type": "code",
   "execution_count": null,
   "metadata": {},
   "outputs": [],
   "source": [
    ">>> capturar_excecao_em_cadeia(0)\n",
    ">>> capturar_excecao_em_cadeia(1)\n",
    ">>> capturar_excecao_em_cadeia('um')"
   ]
  },
  {
   "cell_type": "markdown",
   "metadata": {},
   "source": [
    "Levantando exceções"
   ]
  },
  {
   "cell_type": "code",
   "execution_count": null,
   "metadata": {},
   "outputs": [],
   "source": [
    ">>> raise ValueError"
   ]
  },
  {
   "cell_type": "code",
   "execution_count": null,
   "metadata": {},
   "outputs": [],
   "source": [
    ">>> raise ValueError('Levantei uma exceção!')"
   ]
  },
  {
   "cell_type": "code",
   "execution_count": null,
   "metadata": {},
   "outputs": [],
   "source": [
    ">>> raise"
   ]
  },
  {
   "cell_type": "code",
   "execution_count": null,
   "metadata": {},
   "outputs": [],
   "source": [
    ">>> try:\n",
    "...     raise ValueError('Levantei uma exceção!')\n",
    "... except Exception:\n",
    "...     print('Utilizando raise...')\n",
    "...     raise"
   ]
  },
  {
   "cell_type": "markdown",
   "metadata": {},
   "source": [
    "Customizando excessões"
   ]
  },
  {
   "cell_type": "code",
   "execution_count": null,
   "metadata": {},
   "outputs": [],
   "source": [
    ">>> class MinhaPrimeiraExcecao(Exception):\n",
    "...     pass"
   ]
  },
  {
   "cell_type": "code",
   "execution_count": null,
   "metadata": {},
   "outputs": [],
   "source": [
    "def calcular(operador, numero1, numero2):\n",
    "    try:\n",
    "        if operador == '+':\n",
    "            return numero1 + numero2\n",
    "        elif operador == '-':\n",
    "            return numero1 - numero2\n",
    "        elif operador == '*':\n",
    "            return numero1 * numero2\n",
    "        elif operador == '/':\n",
    "            return numero1 / numero2\n",
    "        else:\n",
    "            raise MinhaPrimeiraExcecao(\n",
    "                f'Operador \"{operador}\" desconhecido!'\n",
    "            )\n",
    "    except MinhaPrimeiraExcecao as error:\n",
    "        print(f'{error}\\nLista de operadores válidos: +, -, *, /')\n",
    "    except ZeroDivisionError:\n",
    "        print('Ops! Você tentou fazer uma divisão por zero!')\n",
    "    except Exception as error:\n",
    "        print(f'Erro durante a operação: {error}')\n",
    "    finally:\n",
    "        print('Fim de execução')"
   ]
  },
  {
   "cell_type": "code",
   "execution_count": null,
   "metadata": {},
   "outputs": [],
   "source": [
    ">>> calcular('+', 1, 2)\n",
    ">>> calcular('k', 1, 2)\n",
    ">>> calcular('/', 1, 0)\n",
    ">>> calcular('-', 8, 'x')"
   ]
  },
  {
   "cell_type": "code",
   "execution_count": null,
   "metadata": {},
   "outputs": [],
   "source": [
    ">>> try:\n",
    "...     raise ValueError\n",
    "... except Exception:\n",
    "...     print(\n",
    "...         'Ocorreu uma exceção! '\\\n",
    "...         'Vamos tratá-la dividindo um número por zero!'\n",
    "...     )\n",
    "...     x = 1/0"
   ]
  },
  {
   "cell_type": "markdown",
   "metadata": {},
   "source": [
    "Classes Exception e BaseException"
   ]
  },
  {
   "cell_type": "code",
   "execution_count": null,
   "metadata": {},
   "outputs": [],
   "source": [
    ">>> def test_base_exception():\n",
    "...     try:\n",
    "...         for i in range(1,1000000000):\n",
    "...             pass     # Durante o loop, usuario aperta Ctrl-C\n",
    "...     except BaseException as error:\n",
    "...         print(\n",
    "...             'Código que não deveria executar quando '\\\n",
    "...             f'houvesse: {error.__repr__()}'\n",
    "...         )\n",
    "\n",
    ">>> test_base_exception()"
   ]
  },
  {
   "cell_type": "code",
   "execution_count": null,
   "metadata": {},
   "outputs": [],
   "source": [
    ">>> def test_exception():\n",
    "...     try:\n",
    "...         for i in range(1,1000000000):\n",
    "...             pass     # Durante o loop, usuário aperta Ctrl-C\n",
    "...     except Exception as error:\n",
    "...         print(\n",
    "...             'Código que não deveria executar quando '\\\n",
    "...             f'houvesse: {error.__repr__()}'\n",
    "...         )\n",
    "\n",
    ">>> test_exception()"
   ]
  }
 ],
 "metadata": {
  "kernelspec": {
   "display_name": "Python 3",
   "language": "python",
   "name": "python3"
  },
  "language_info": {
   "codemirror_mode": {
    "name": "ipython",
    "version": 3
   },
   "file_extension": ".py",
   "mimetype": "text/x-python",
   "name": "python",
   "nbconvert_exporter": "python",
   "pygments_lexer": "ipython3",
   "version": "3.8.5"
  }
 },
 "nbformat": 4,
 "nbformat_minor": 4
}
