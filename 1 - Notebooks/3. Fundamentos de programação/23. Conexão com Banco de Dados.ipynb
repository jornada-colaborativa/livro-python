{
 "cells": [
  {
   "cell_type": "code",
   "execution_count": null,
   "id": "e77de0a7-5a0e-4d6f-95c1-1f6f6a27c724",
   "metadata": {},
   "outputs": [],
   "source": [
    ">>> # import cx_Oracle as db_api  # Oracle\n",
    ">>> # import MySQLdb as db_api  # MySQL\n",
    ">>> import pyhive.hive as db_api  # Apache Hive\n",
    ">>> # import pyPgSQL.PgSQL as db_api  # PostgreSQL\n",
    ">>> # import sqlite as db_api  # SQLite"
   ]
  },
  {
   "cell_type": "code",
   "execution_count": null,
   "id": "308e2986-1475-4205-ae66-cafbe3ddd07c",
   "metadata": {},
   "outputs": [],
   "source": [
    ">>> from getpass import getpass\n",
    ">>> import os\n",
    ">>> import pyhive.hive as db_api\n",
    ">>> connection = db_api.connect(\n",
    "...     host=\"localhost\",\n",
    "...     port=10000,\n",
    "...     username=os.getenv(\"USER\"),\n",
    "...     password=getpass(\"Informe a senha: \"),\n",
    "...     database=\"universidade\",\n",
    "...     auth=\"CUSTOM\"\n",
    "... )"
   ]
  },
  {
   "cell_type": "code",
   "execution_count": null,
   "id": "28c03360-c552-4695-bf5d-2feacaa12a21",
   "metadata": {},
   "outputs": [],
   "source": [
    ">>> cursor = connection.cursor()\n",
    ">>> cursor.execute(\n",
    "...     \"SET hive.execution.engine=tez\"\n",
    "... )\n",
    ">>> cursor.execute(\n",
    "...     \"SET hive.vectorized.execution.reduce.groupby.enabled=false\"\n",
    "... )"
   ]
  },
  {
   "cell_type": "code",
   "execution_count": null,
   "id": "a2aa5fc0-6cfd-471d-a04d-95b878a64e85",
   "metadata": {},
   "outputs": [],
   "source": [
    ">>> import pandas as pd\n",
    ">>> sql_query = \"\"\"\n",
    "...     select matricula, nome, ramal \n",
    "...     from usuarios where matricula='007'\n",
    "... \"\"\"\n",
    ">>> cursor.execute(sql_query)\n",
    ">>> resultado = cursor.fetchall()\n",
    ">>> schema = [\n",
    "...     x[0].split('.')[1] if '.' in x[0] else x[0]\n",
    "...     for x in cursor.description\n",
    "... ]\n",
    ">>> df = pd.DataFrame.from_records(resultado, columns=schema)"
   ]
  },
  {
   "cell_type": "code",
   "execution_count": null,
   "id": "bfb56568-08b6-4f3c-a88b-e9c8295322d1",
   "metadata": {},
   "outputs": [],
   "source": [
    ">>> from getpass import getpass\n",
    ">>> import os\n",
    ">>> import pandas as pd\n",
    ">>> import pyhive.hive as db_api\n",
    ">>> connection = db_api.connect(\n",
    "...     host=\"localhost\",\n",
    "...     port=10000,\n",
    "...     username=os.getenv(\"USER\"),\n",
    "...     password=getpass(\"Informe a senha: \"),\n",
    "...     database=\"universidade\",\n",
    "...     auth=\"CUSTOM\"\n",
    "... )\n",
    ">>> cursor = connection.cursor()\n",
    ">>> cursor.execute(\n",
    "    \"SET hive.execution.engine=tez\"\n",
    ")\n",
    ">>> cursor.execute(\n",
    "...     \"SET hive.vectorized.execution.reduce.groupby.enabled=false\"\n",
    "... )\n",
    ">>> sql_query = \"\"\"\n",
    "...     select matricula, nome, ramal \n",
    "...     from usuarios where matricula='007'\n",
    "... \"\"\"\n",
    ">>> cursor.execute(sql_query)\n",
    ">>> resultado = cursor.fetchall()\n",
    ">>> cursor.close()\n",
    ">>> schema = [\n",
    "...     x[0].split('.')[1] if '.' in x[0] else x[0]\n",
    "...     for x in cursor.description\n",
    "... ]\n",
    ">>> df = pd.DataFrame.from_records(resultado, columns=schema)\n",
    ">>> connection.close()"
   ]
  },
  {
   "cell_type": "code",
   "execution_count": null,
   "id": "6a9c59e5-f4cf-4128-84a9-8b53ef3ad24a",
   "metadata": {},
   "outputs": [],
   "source": [
    ">>> sql_insert = \"\"\"\n",
    "...     insert into usuarios (matricula, nome, ramal)\n",
    "...     values (?,?,?)\n",
    "... \"\"\"\n",
    ">>> for (matricula, nome, ramal) in lista_de_usuarios:\n",
    "...     cursor.execute(sql_insert, (matricula, nome, ramal))\n",
    ">>> connection.commit()"
   ]
  }
 ],
 "metadata": {
  "kernelspec": {
   "display_name": "Python 3",
   "language": "python",
   "name": "python3"
  },
  "language_info": {
   "codemirror_mode": {
    "name": "ipython",
    "version": 3
   },
   "file_extension": ".py",
   "mimetype": "text/x-python",
   "name": "python",
   "nbconvert_exporter": "python",
   "pygments_lexer": "ipython3",
   "version": "3.6.8"
  }
 },
 "nbformat": 4,
 "nbformat_minor": 5
}
