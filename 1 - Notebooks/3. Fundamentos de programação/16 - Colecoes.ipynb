{
 "cells": [
  {
   "cell_type": "markdown",
   "metadata": {},
   "source": [
    "Listas"
   ]
  },
  {
   "cell_type": "code",
   "execution_count": null,
   "metadata": {},
   "outputs": [],
   "source": [
    ">>> ['Jornada Colaborativa']\n",
    ">>> list('Jornada Colaborativa')"
   ]
  },
  {
   "cell_type": "code",
   "execution_count": null,
   "metadata": {},
   "outputs": [],
   "source": [
    "sorted(lista, [key=None, reverse=False])"
   ]
  },
  {
   "cell_type": "code",
   "execution_count": null,
   "metadata": {},
   "outputs": [],
   "source": [
    ">>> lista = list('Jornada Colaborativa')\n",
    ">>> sorted(lista, key=str.upper, reverse=True)"
   ]
  },
  {
   "cell_type": "markdown",
   "metadata": {},
   "source": [
    "Tupla"
   ]
  },
  {
   "cell_type": "code",
   "execution_count": null,
   "metadata": {},
   "outputs": [],
   "source": [
    ">>> dicionario = {\"Jornada\": \"Colaborativa\"}\n",
    ">>> dicionario[\"Jornada\"]"
   ]
  },
  {
   "cell_type": "code",
   "execution_count": null,
   "metadata": {},
   "outputs": [],
   "source": [
    ">>> pessoa = dict(nome='Lucas', idade=2, peso=13)\n",
    ">>> pessoa2 = {'nome':'Lucas', 'idade':2, 'peso':13}\n",
    ">>> pessoa3 = dict([('nome','Lucas'),('idade',2),('peso',13)])\n",
    ">>> pessoa4 = dict({'nome':'Lucas', 'idade':2, 'peso':13})\n",
    ">>> pessoa == pessoa2 == pessoa3 == pessoa4"
   ]
  },
  {
   "cell_type": "code",
   "execution_count": null,
   "metadata": {},
   "outputs": [],
   "source": [
    ">>> dicionario = {\"nome\": \"Rodrigo\", \"idade\":30, \"peso\":95}\n",
    ">>> \"Rodrigo\" in dicionario.values()"
   ]
  },
  {
   "cell_type": "markdown",
   "metadata": {},
   "source": [
    "Set e fronzonset"
   ]
  },
  {
   "cell_type": "code",
   "execution_count": null,
   "metadata": {},
   "outputs": [],
   "source": [
    ">>> conjunto = set([2,1,4,3,2,1,3,3,2,1,3,4])\n",
    ">>> conjunto"
   ]
  },
  {
   "cell_type": "code",
   "execution_count": null,
   "metadata": {},
   "outputs": [],
   "source": [
    ">>> conjunto = {2,3,4,1,2,3,2,1,3}\n",
    ">>> conjunto"
   ]
  },
  {
   "cell_type": "code",
   "execution_count": null,
   "metadata": {},
   "outputs": [],
   "source": [
    ">>> conjunto1 = set([2, 5, 3, 4, 1])\n",
    ">>> conjunto2 = frozenset([3, 5, 1, 2, 4])\n",
    ">>> conjunto1 == conjunto2"
   ]
  }
 ],
 "metadata": {
  "kernelspec": {
   "display_name": "Python 3",
   "language": "python",
   "name": "python3"
  },
  "language_info": {
   "codemirror_mode": {
    "name": "ipython",
    "version": 3
   },
   "file_extension": ".py",
   "mimetype": "text/x-python",
   "name": "python",
   "nbconvert_exporter": "python",
   "pygments_lexer": "ipython3",
   "version": "3.8.5"
  }
 },
 "nbformat": 4,
 "nbformat_minor": 4
}
