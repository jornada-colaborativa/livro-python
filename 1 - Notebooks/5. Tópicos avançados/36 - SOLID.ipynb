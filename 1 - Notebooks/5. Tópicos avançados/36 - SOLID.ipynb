{
  "nbformat": 4,
  "nbformat_minor": 0,
  "metadata": {
    "kernelspec": {
      "display_name": "Python 3",
      "language": "python",
      "name": "python3"
    },
    "language_info": {
      "codemirror_mode": {
        "name": "ipython",
        "version": 3
      },
      "file_extension": ".py",
      "mimetype": "text/x-python",
      "name": "python",
      "nbconvert_exporter": "python",
      "pygments_lexer": "ipython3",
      "version": "3.8.5"
    },
    "colab": {
      "name": "36 - SOLID.ipynb",
      "provenance": []
    }
  },
  "cells": [
    {
      "cell_type": "markdown",
      "metadata": {
        "id": "PhEW1HXdzJ1Q"
      },
      "source": [
        "Responsabilidade Única"
      ]
    },
    {
      "cell_type": "code",
      "metadata": {
        "id": "TSnlzO5PzJ1b"
      },
      "source": [
        "class Animal:\n",
        "    def __init__(self, nome):\n",
        "        self.__nome = nome\n",
        "    def get_nome(self):\n",
        "        return self.__nome\n",
        "    def salvar(self):\n",
        "        # Salva o animal no banco de dados\n",
        "        pass"
      ],
      "execution_count": 2,
      "outputs": []
    },
    {
      "cell_type": "code",
      "metadata": {
        "id": "l5Dk-HX9zJ1g"
      },
      "source": [
        "class Animal:\n",
        "    def __init__(self, nome):\n",
        "        self.__nome = nome\n",
        "    def get_nome(self):\n",
        "        return self.__nome\n",
        "        \n",
        "class AnimalDAO:\n",
        "    def salvar(self, animal):\n",
        "        # Salva o animal no banco de dados\n",
        "        pass"
      ],
      "execution_count": 3,
      "outputs": []
    },
    {
      "cell_type": "markdown",
      "metadata": {
        "id": "7dR4Zf1SzJ1j"
      },
      "source": [
        "Aberto / Fechado"
      ]
    },
    {
      "cell_type": "code",
      "metadata": {
        "id": "PjUIDUmOzJ1l"
      },
      "source": [
        "class Animal:\n",
        "    def __init__(self, nome):\n",
        "        self.__nome = nome\n",
        "    def get_nome(self):\n",
        "        return self.__nome \n",
        "    def faz_som(self):\n",
        "        if self.__nome == \"Cachorro\":\n",
        "            print(\"Au Au\")    \n",
        "        elif self.__nome == \"Gato\":\n",
        "            print(\"Miau\")              "
      ],
      "execution_count": 4,
      "outputs": []
    },
    {
      "cell_type": "code",
      "metadata": {
        "id": "4SCnrqoqzJ1n"
      },
      "source": [
        "class Animal:\n",
        "    def __init__(self, nome):\n",
        "        self.__nome = nome\n",
        "    def get_nome(self):\n",
        "        return self.__nome \n",
        "    def faz_som(self):\n",
        "        pass\n",
        "\n",
        "class Cachorro(Animal):\n",
        "    def faz_som(self):\n",
        "            print(\"Au Au\")    \n",
        "\n",
        "class Gato(Animal):\n",
        "    def faz_som(self):\n",
        "        print(\"Miau\")    "
      ],
      "execution_count": 5,
      "outputs": []
    },
    {
      "cell_type": "markdown",
      "metadata": {
        "id": "tK7SW8MtzJ1r"
      },
      "source": [
        "Substituição de Liskov"
      ]
    },
    {
      "cell_type": "code",
      "metadata": {
        "id": "EVFaZs6fzJ1u"
      },
      "source": [
        "class Animal:\n",
        "    pass\n",
        "    \n",
        "class Cachorro(Animal):\n",
        "    def latir(self):\n",
        "        print(\"Au Au\")  \n",
        "\n",
        "class Gato(Animal):\n",
        "    def miar(self):\n",
        "        print(\"Miau\") \n",
        "\n",
        "class Dono:\n",
        "    def passear(cachorro: Cachorro):\n",
        "        cachorro.latir()    "
      ],
      "execution_count": 6,
      "outputs": []
    },
    {
      "cell_type": "code",
      "metadata": {
        "id": "AUVvC-xKzJ1x"
      },
      "source": [
        "class Animal:\n",
        "    def faz_som(self):\n",
        "        pass\n",
        "\n",
        "class Cachorro(Animal):\n",
        "    def faz_som(self):\n",
        "         self.__latir()    \n",
        "    def __latir(self):\n",
        "        print(\"Au Au\")    \n",
        "\n",
        "class Gato(Animal):\n",
        "    def faz_som(self):\n",
        "        self.__miar()    \n",
        "    def __miar(self):\n",
        "        print(\"Miau\")    \n",
        "\n",
        "class Dono:\n",
        "    def passear(self, animal: Animal):\n",
        "        animal.faz_som()    "
      ],
      "execution_count": 7,
      "outputs": []
    },
    {
      "cell_type": "markdown",
      "metadata": {
        "id": "Vz8hDeDvzJ1z"
      },
      "source": [
        "Segregação de Interfaces"
      ]
    },
    {
      "cell_type": "code",
      "metadata": {
        "id": "VELOTt_AzJ11"
      },
      "source": [
        "class ImpressoraFazTudo:\n",
        "    def imprime(self):\n",
        "        pass\n",
        "    def digitaliza(self):\n",
        "        pass\n",
        "    def envia_fax(self):\n",
        "        pass"
      ],
      "execution_count": 8,
      "outputs": []
    },
    {
      "cell_type": "code",
      "metadata": {
        "id": "fcygy_vkzJ13"
      },
      "source": [
        "class ImpressoraMultifuncional(ImpressoraFazTudo):\n",
        "    def imprime(self):\n",
        "        pass\n",
        "    def escaneia(self):\n",
        "        pass\n",
        "    def envia_fax(self):\n",
        "        pass"
      ],
      "execution_count": 9,
      "outputs": []
    },
    {
      "cell_type": "code",
      "metadata": {
        "id": "qhV065V3zJ14"
      },
      "source": [
        "class Impressora:\n",
        "    def imprime(self):\n",
        "        pass\n",
        "        \n",
        "class Digitalizadora:\n",
        "    def digitaliza(self):\n",
        "        pass\n",
        "        \n",
        "class Fax:\n",
        "    def envia_fax(self):\n",
        "        pass"
      ],
      "execution_count": 10,
      "outputs": []
    },
    {
      "cell_type": "code",
      "metadata": {
        "id": "6NLKdWmBzJ15"
      },
      "source": [
        "class ImpressoraMultifuncional(Impressora, Digitalizadora, Fax):\n",
        "    def imprime(self):\n",
        "        pass\n",
        "    def escaneia(self):\n",
        "        pass\n",
        "    def envia_fax(self):\n",
        "        pass\n",
        "\n",
        "# A classe ImpressoraPadrao pode utilizar somente o método que precisa:\n",
        "class ImpressoraPadrao(Impressora):\n",
        "    def imprime(self):\n",
        "        pass"
      ],
      "execution_count": 12,
      "outputs": []
    },
    {
      "cell_type": "markdown",
      "metadata": {
        "id": "XkIxifuYzJ16"
      },
      "source": [
        "Inversão de Dependências"
      ]
    },
    {
      "cell_type": "code",
      "metadata": {
        "id": "QlYHPqegzJ17"
      },
      "source": [
        "class Animal:\n",
        "    def faz_som(self):\n",
        "        pass\n",
        "\n",
        "class Cachorro(Animal):\n",
        "    def faz_som(self):\n",
        "        self.latir()    \n",
        "    def latir(self):\n",
        "        print(\"Au Au\")    \n",
        "\n",
        "class Gato(Animal):\n",
        "    def faz_som(self):\n",
        "        self.miar()    \n",
        "    def miar(self):\n",
        "        print(\"Miau\")"
      ],
      "execution_count": 13,
      "outputs": []
    },
    {
      "cell_type": "code",
      "metadata": {
        "id": "834eFOd3zJ19"
      },
      "source": [
        "class Dono: \n",
        "    def passear(self, cachorro: Cachorro): \n",
        "        cachorro.latir()     "
      ],
      "execution_count": 14,
      "outputs": []
    },
    {
      "cell_type": "code",
      "metadata": {
        "id": "vF_ikJ5M2C5V"
      },
      "source": [
        "class Dono: \n",
        "  def passear(self, animal: Animal): \n",
        "        animal.faz_som()     "
      ],
      "execution_count": 15,
      "outputs": []
    }
  ]
}
