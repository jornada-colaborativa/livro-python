{
 "cells": [
  {
   "cell_type": "markdown",
   "metadata": {},
   "source": [
    "Responsabilidade Única"
   ]
  },
  {
   "cell_type": "code",
   "execution_count": 1,
   "metadata": {},
   "outputs": [],
   "source": [
    ">>> class Quadrado:\n",
    "...     def __init__(self, lado=0):\n",
    "...         self.lado = lado\n",
    "...     def calcula_area(self):\n",
    "...         return self.lado ** 2\n",
    "...     def desenhar(self):\n",
    "...         # Desenha um quadrado\n",
    "...         pass"
   ]
  },
  {
   "cell_type": "code",
   "execution_count": null,
   "metadata": {},
   "outputs": [],
   "source": [
    ">>> class CalculaQuadrado:\n",
    "...     def __init__(self, comprimento_lado=0):\n",
    "...         self.comprimento_lado = comprimento_lado\n",
    "...     def calcula_area(self):\n",
    "...         return self.comprimento_lado * 2\n",
    ">>> class DesenhaQuadrado:\n",
    "...     def desenha(self):\n",
    "...         # Desenha um quadrado\n",
    "...         pass"
   ]
  },
  {
   "cell_type": "markdown",
   "metadata": {},
   "source": [
    "Aberto / Fechado"
   ]
  },
  {
   "cell_type": "code",
   "execution_count": null,
   "metadata": {},
   "outputs": [],
   "source": [
    ">>> class Quadrado(object):\n",
    "...     def __init__(self):\n",
    "...         self.tipo = \"Quadrado\"\n",
    "...         print(\"criado um Quadrado\")\n",
    ">>> class CalculaArea(object):\n",
    "...     def calcula(object):\n",
    "...         if self.tipo == 'Quadrado':\n",
    "...             print(\"código que calcula a área do quadrado\")"
   ]
  },
  {
   "cell_type": "code",
   "execution_count": null,
   "metadata": {},
   "outputs": [],
   "source": [
    ">>> class Quadrado(object):\n",
    "...     def __init__(self):\n",
    "...         self.tipo = \"Quadrado\"\n",
    "...         print(\"criado um Quadrado\")\n",
    ">>> class Circulo(object):\n",
    "...     def __init__(self):\n",
    "...         self.tipo = \"Circulo\"\n",
    "...         print(\"criado um Circulo\")\n",
    ">>> class CalculaArea(object):\n",
    "...     def calcula(object):\n",
    "...         if self.tipo == 'Quadrado':\n",
    "...             print(\"código que calcula a área do quadrado\")\n",
    "...         if self.tipo == 'Circulo'\n",
    "...             print(\"código que calcula a área do círculo\")"
   ]
  },
  {
   "cell_type": "code",
   "execution_count": null,
   "metadata": {},
   "outputs": [],
   "source": [
    ">>> class Formas():\n",
    "...     def calcula_area(self):\n",
    "...         pass\n",
    ">>> class Quadrado(Formas):\n",
    "...     def __init__(self):\n",
    "...         self.tipo = \"Quadrado\"\n",
    "...         print(\"criado um Quadrado\")\n",
    "...     def calcula_area(self):\n",
    "...         print(\"area do quadrado\")\n",
    ">>> class Circulo(Formas):\n",
    "...     def __init__(self):\n",
    "...         self.tipo = \"Circulo\"\n",
    "...         print(\"criado um Circulo\")\n",
    "...     def calcula_area(self):\n",
    "...         print(\"area do círculo\")"
   ]
  },
  {
   "cell_type": "markdown",
   "metadata": {},
   "source": [
    "Substituição de Liskov"
   ]
  },
  {
   "cell_type": "code",
   "execution_count": null,
   "metadata": {},
   "outputs": [],
   "source": [
    ">>> class Retangulo:\n",
    "...     def __init__(self, largura=0, altura=0):\n",
    "...         self.largura = largura\n",
    "...         self.altura = altura\n",
    "...     def calculate_area(self):\n",
    "...         return(self.largura * self.altura)\n",
    ">>> class Quadrado(Retangulo):\n",
    "...     def __init__(self, largura=0, altura=0):\n",
    "...         super(Quadrado, self).__init__(largura, altura)\n",
    "...         self.comprimento_largura = largura\n",
    "...         self.comprimento_altura = altura\n",
    "...     def calcula_area(self):\n",
    "...         return (self.comprimento_largura *\n",
    "...                 self.comprimento_altura)"
   ]
  },
  {
   "cell_type": "code",
   "execution_count": null,
   "metadata": {},
   "outputs": [],
   "source": [
    ">>> class Forma:\n",
    "...     listaParametros = []\n",
    "...     def __init__(self, listaParametros):\n",
    "...         self.listaParametros = listaParametros\n",
    "...     def calcula_area(self):  \n",
    "...         # Calcula area\n",
    "...         raise NotImplementedError\n",
    ">>> class Retangulo(Forma):\n",
    "...     def __init__(self, largura=0, altura=0):\n",
    "...         self.largura = largura\n",
    "...         self.altura = altur\n",
    "...     def calcula_area(self):\n",
    "...         return(self.largura * self.altura)\n",
    ">>> class Quadrado(Forma):\n",
    "...     def __init__(self, lado=0):\n",
    "...         self.lado = lado\n",
    "...     def calcula_area(self):\n",
    "...         return(self.lado ** 2)"
   ]
  },
  {
   "cell_type": "markdown",
   "metadata": {},
   "source": [
    "Segregação de Interfaces"
   ]
  },
  {
   "cell_type": "code",
   "execution_count": null,
   "metadata": {},
   "outputs": [],
   "source": [
    ">>> class Impressora:\n",
    "...     def imprime(self):\n",
    "...         pass\n",
    "...     def digitaliza(self):\n",
    "...         pass\n",
    "...     def envia_fax(self):\n",
    "...         pass"
   ]
  },
  {
   "cell_type": "code",
   "execution_count": null,
   "metadata": {},
   "outputs": [],
   "source": [
    ">>> class ImpressoraMultifuncional(Impressora):\n",
    "...     def imprime(self):\n",
    "...         pass\n",
    "...     def escaneia(self):\n",
    "...         pass\n",
    "...     def envia_fax(self):\n",
    "...         pass"
   ]
  },
  {
   "cell_type": "code",
   "execution_count": null,
   "metadata": {},
   "outputs": [],
   "source": [
    ">>> class Impressora:\n",
    "...     def imprime(self):\n",
    "...         pass\n",
    ">>> class Digitalizadora:\n",
    "...     def digitaliza(self):\n",
    "...         pass\n",
    ">>> class Fax:\n",
    "...     def envia_fax(self):\n",
    "...         pass"
   ]
  },
  {
   "cell_type": "code",
   "execution_count": null,
   "metadata": {},
   "outputs": [],
   "source": [
    ">>> class ImpressoraMultifuncional(Impressora, Digitalizadora, Fax):\n",
    "...     def imprime(self):\n",
    "...         pass\n",
    "...     def escaneia(self):\n",
    "...         pass\n",
    "...     def envia_fax(self):\n",
    "...          pass\n",
    ">>> # A classe ImpressoraPadrao pode utilizar somente o método que precisa:\n",
    ">>> class ImpressoraPadrao(Impressora):\n",
    "...     def imprime(self):\n",
    "...          pass"
   ]
  },
  {
   "cell_type": "markdown",
   "metadata": {},
   "source": [
    "Inversão de Dependências"
   ]
  },
  {
   "cell_type": "code",
   "execution_count": null,
   "metadata": {},
   "outputs": [],
   "source": [
    ">>> class Manager(object): \n",
    "...     def __init__(self): \n",
    "...          self.developers = [] \n",
    "...          self.designers = [] \n",
    "...          self.testers = [] \n",
    "...     def addDeveloper(self, dev): \n",
    "...          self.developers.append(dev) \n",
    "...     def addDesigners(self, design): \n",
    "...          self.designers.append(design) \n",
    "...     def addTesters(self, testers): \n",
    "...          self.testers.append(testers) \n",
    ">>> class Developer(object): \n",
    "...     def __init__(self): \n",
    "...          print (\"developer added\")\n",
    ">>> class Designer(object): \n",
    "...     def __init__(self): \n",
    "...          print (\"designer added\")  \n",
    ">>> class Testers(object): \n",
    "...     def __init__(self): \n",
    "...          print (\"tester added\")  \n",
    ">>> if __name__ == \"__main__\": \n",
    "...     a = Manager() \n",
    "...     a.addDeveloper(Developer()) \n",
    "...     a.addDesigners(Designer()) "
   ]
  },
  {
   "cell_type": "code",
   "execution_count": null,
   "metadata": {},
   "outputs": [],
   "source": [
    ">>> class Employee(object): \n",
    "...     def Work(): \n",
    "...          pass  \n",
    ">>> class Manager(): \n",
    "...     def __init__(self): \n",
    "...          self.employees=[]\n",
    "...     def addEmployee(self,a): \n",
    "...          self.employees.append(a) \n",
    ">>> class Developer(Employee): \n",
    "...     def __init__(self): \n",
    "...          print (\"developer added\")\n",
    "...     def Work(): \n",
    "...          print (\"turning coffee into code\")\n",
    ">>> class Designer(Employee): \n",
    "...     def __init__(self): \n",
    "...          print (\"designer added\")\n",
    "...     def Work(): \n",
    "...          print (\"turning lines to wireframes\")\n",
    ">>> class Testers(Employee): \n",
    "...     def __init__(self): \n",
    "...          print (\"tester added\")\n",
    "...     def Work(): \n",
    "...          print (\"testing everything out there\")\n",
    ">>> if __name__ == \"__main__\": \n",
    "...     a=Manager() \n",
    "...     a.addEmployee(Developer()) \n",
    "...     a.addEmployee(Designer())"
   ]
  }
 ],
 "metadata": {
  "kernelspec": {
   "display_name": "Python 3",
   "language": "python",
   "name": "python3"
  },
  "language_info": {
   "codemirror_mode": {
    "name": "ipython",
    "version": 3
   },
   "file_extension": ".py",
   "mimetype": "text/x-python",
   "name": "python",
   "nbconvert_exporter": "python",
   "pygments_lexer": "ipython3",
   "version": "3.8.5"
  }
 },
 "nbformat": 4,
 "nbformat_minor": 4
}
