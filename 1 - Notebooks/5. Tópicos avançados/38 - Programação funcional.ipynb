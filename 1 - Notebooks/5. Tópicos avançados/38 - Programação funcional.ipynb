{
 "cells": [
  {
   "cell_type": "markdown",
   "metadata": {},
   "source": [
    "Programação funcional"
   ]
  },
  {
   "cell_type": "code",
   "execution_count": null,
   "metadata": {},
   "outputs": [],
   "source": [
    ">>> idades = [18, 22, 42]\n",
    ">>> idades_formatadas = []\n",
    ">>> for idade in idades:\n",
    "...     idades_formatadas.append(f'{idade} anos.')\n",
    "...\n",
    ">>> idades_formatadas\n",
    "['18 anos.', '22 anos.', '42 anos.']"
   ]
  },
  {
   "cell_type": "code",
   "execution_count": null,
   "metadata": {},
   "outputs": [],
   "source": [
    ">>> idades = [18, 22, 42]\n",
    ">>> [f'{idade} anos.' for idade in idades]\n",
    "['18 anos.', '22 anos.', '42 anos.']"
   ]
  },
  {
   "cell_type": "code",
   "execution_count": null,
   "metadata": {},
   "outputs": [],
   "source": [
    ">>> idades = [18, 22, 42]\n",
    ">>> def formatando_idade(idade: int) -> str:\n",
    "...     return f'{idade} anos.'\n",
    ">>> list(map(formatando_idade, idades))\n",
    "['18 anos.', '22 anos.', '42 anos.']"
   ]
  },
  {
   "cell_type": "code",
   "execution_count": null,
   "metadata": {},
   "outputs": [],
   "source": [
    ">>> idades = [18, 22, 42]\n",
    ">>> formatando_idade = lambda idade: f'{idade} anos.'\n",
    ">>> list(map(formatando_idade, idades))\n",
    "['18 anos.', '22 anos.', '42 anos.']"
   ]
  },
  {
   "cell_type": "code",
   "execution_count": null,
   "metadata": {},
   "outputs": [],
   "source": [
    ">>> idades = [18, 22, 42]\n",
    ">>> list(map(lambda idade: f'{idade} anos.', idades))\n",
    "['18 anos.', '22 anos.', '42 anos.']"
   ]
  },
  {
   "cell_type": "code",
   "execution_count": null,
   "metadata": {},
   "outputs": [],
   "source": [
    ">>> idades = [18, 12, 22, 14, 42]\n",
    ">>> [idade for idade in idades if idade >= 18]\n",
    "[18, 22, 42]"
   ]
  },
  {
   "cell_type": "code",
   "execution_count": null,
   "metadata": {},
   "outputs": [],
   "source": [
    ">>> idades = [18, 12, 22, 14, 42]\n",
    ">>> list(filter(lambda idade: idade >= 18, idades))\n",
    "[18, 22, 42]"
   ]
  },
  {
   "cell_type": "code",
   "execution_count": null,
   "metadata": {},
   "outputs": [],
   "source": [
    ">>> from functools import reduce\n",
    ">>> iteracao = lambda acc, idade: (acc + [f'{idade} anos.']) \\\n",
    "...     if idade >= 18 else acc\n",
    ">>> idades = [18, 12, 22, 14, 42]\n",
    ">>> valores_iniciais = []\n",
    ">>> reduce(iteracao, idades, valores_iniciais)\n",
    "['18 anos.', '22 anos.', '42 anos.']"
   ]
  },
  {
   "cell_type": "code",
   "execution_count": null,
   "metadata": {},
   "outputs": [],
   "source": [
    ">>> fibonacci = lambda n: fibonacci(n - 1) + fibonacci(n - 2) if n > 2 else 1"
   ]
  },
  {
   "cell_type": "code",
   "execution_count": null,
   "metadata": {},
   "outputs": [],
   "source": [
    ">>> from functools import lru_cache\n",
    ">>> fibonacci = lru_cache()(\n",
    "...     lambda n: fibonacci(n - 1) + fibonacci(n - 2) if n > 2 else 1\n",
    "... )"
   ]
  },
  {
   "cell_type": "code",
   "execution_count": null,
   "metadata": {},
   "outputs": [],
   "source": [
    ">>> from pydash import _\n",
    ">>> numeros = [1, 2, 3, 4]\n",
    ">>> numeros_impares = _(numeros).without(2, 4).value()  # [1, 3]"
   ]
  },
  {
   "cell_type": "code",
   "execution_count": null,
   "metadata": {},
   "outputs": [],
   "source": [
    ">>> impar = lambda x: x % 2 == 0\n",
    ">>> numeros_impares = _(numeros).reject(impar).value()  # [1, 3]"
   ]
  },
  {
   "cell_type": "code",
   "execution_count": null,
   "metadata": {},
   "outputs": [],
   "source": [
    ">>> _(numeros).last().value()"
   ]
  },
  {
   "cell_type": "code",
   "execution_count": null,
   "metadata": {},
   "outputs": [],
   "source": [
    ">>> from pydash import _\n",
    ">>> usuarios = [\n",
    "...     dict(id=24, name='John Doe'),\n",
    "...     dict(id=42, name='Jane Doe'),\n",
    "...     dict(id=100, name='Lorem Ipsum'),\n",
    "... ]"
   ]
  },
  {
   "cell_type": "code",
   "execution_count": null,
   "metadata": {},
   "outputs": [],
   "source": [
    ">>> def get_user(id: int) -> dict:\n",
    "...     for usuario in usuarios:\n",
    "...         if usuario['id'] == id:\n",
    "...             return usuario\n",
    "...     return None\n",
    ">>> jane = get_user(id=42)  # {'id': 42, 'name': 'Jane Doe'}"
   ]
  },
  {
   "cell_type": "code",
   "execution_count": null,
   "metadata": {},
   "outputs": [],
   "source": [
    ">>> jane = _(usuarios).find(lambda usuario: usuario['id'] == 42).value()"
   ]
  },
  {
   "cell_type": "code",
   "execution_count": null,
   "metadata": {},
   "outputs": [],
   "source": [
    ">>> from pydash import _\n",
    ">>> recuperar_adultos = lambda usuarios: \\\n",
    "...     _(usuarios) \\\n",
    "...     .filter(lambda usuario: usuario['idade'] > 18) \\\n",
    "...     .map(lambda adulto: adulto['nome']) \\\n",
    "...     .join(', ') \\\n",
    "...     .ensure_starts_with('Adultos da lista: ') \\\n",
    "...     .value()"
   ]
  },
  {
   "cell_type": "code",
   "execution_count": null,
   "metadata": {},
   "outputs": [],
   "source": [
    ">>> meus_usuarios = [\n",
    "...     dict(nome='John Doe', idade=15),\n",
    "...     dict(nome='Jane Doe', idade=25),\n",
    "...     dict(nome='Lorem Ipsum', idade=99),\n",
    "... ]\n",
    ">>> print(recuperar_adultos(meus_usuarios))\n",
    "Adultos da lista: Jane Doe, Lorem Ipsum"
   ]
  }
 ],
 "metadata": {
  "kernelspec": {
   "display_name": "Python 3",
   "language": "python",
   "name": "python3"
  },
  "language_info": {
   "codemirror_mode": {
    "name": "ipython",
    "version": 3
   },
   "file_extension": ".py",
   "mimetype": "text/x-python",
   "name": "python",
   "nbconvert_exporter": "python",
   "pygments_lexer": "ipython3",
   "version": "3.8.5"
  }
 },
 "nbformat": 4,
 "nbformat_minor": 4
}
