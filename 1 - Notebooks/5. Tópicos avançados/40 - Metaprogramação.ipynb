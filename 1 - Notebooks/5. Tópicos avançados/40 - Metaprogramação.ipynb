{
 "cells": [
  {
   "cell_type": "code",
   "execution_count": null,
   "metadata": {},
   "outputs": [],
   "source": [
    ">>> from inspect import isclass\n",
    ">>> Pai = type('Pai', (object,), {})\n",
    ">>> isclass(Pai)\n",
    ">>> pai = Pai()\n",
    ">>> isclass(pai)\n",
    ">>> isclass(type)"
   ]
  },
  {
   "cell_type": "code",
   "execution_count": null,
   "metadata": {},
   "outputs": [],
   "source": [
    ">>> Pai = type('Pai', (object,), {'nome':''})\n",
    ">>> Pai.__dict__\n",
    ">>> pai = Pai()\n",
    ">>> pai.__dict__\n",
    "{}"
   ]
  },
  {
   "cell_type": "code",
   "execution_count": null,
   "metadata": {},
   "outputs": [],
   "source": [
    ">>> Pai = type('Pai', (object,), {'nome':''})\n",
    ">>> Pai.__dict__\n",
    "mappingproxy({'nome': '', '__module__': '__main__', '__dict__': <attribute '__dict__' of 'Pai' objects>, '__weakref__': <attribute '__weakref__' of 'Pai' objects>, '__doc__': None})\n",
    ">>> pai = Pai()\n",
    ">>> pai.__dict__"
   ]
  },
  {
   "cell_type": "code",
   "execution_count": null,
   "metadata": {},
   "outputs": [],
   "source": [
    ">>> Pai = type('Pai', (object,), {'nome':''})\n",
    ">>> pai = Pai('José')\n",
    ">>> def init(self, nome):\n",
    "...     self.nome = nome\n",
    ">>> Pai = type('Pai', (object,), {'__init__':init})\n",
    ">>> Pai.__dict__\n",
    "mappingproxy({'__init__': <function init at 0x0000028473098C10>, '__module__': '__main__', '__dict__': <attribute '__dict__' of 'Pai' objects>, '__weakref__': <attribute '__weakref__' of 'Pai' objects>, '__doc__': None})\n",
    ">>> pai = Pai('José')\n",
    ">>> pai.__dict__"
   ]
  },
  {
   "cell_type": "code",
   "execution_count": null,
   "metadata": {},
   "outputs": [],
   "source": [
    ">>> Pai = type('Pai', (object,), {})\n",
    ">>> def init(self, nome):\n",
    "...     self.nome = nome\n",
    ">>> Pai.__init__ = init\n",
    ">>> pai = Pai('José')\n",
    ">>> pai.__dict__"
   ]
  },
  {
   "cell_type": "code",
   "execution_count": null,
   "metadata": {},
   "outputs": [],
   "source": [
    ">>> from time import time\n",
    ">>> def func_decorator(func):\n",
    "...     def wrapper(*args, **kwargs):\n",
    "...         ini = time()\n",
    "...         res = func(*args, **kwargs)\n",
    "...         print(f\"Função {func.__qualname__} executada em {time() - ini}s\")\n",
    "...         return res\n",
    "...     return wrapper"
   ]
  },
  {
   "cell_type": "code",
   "execution_count": null,
   "metadata": {},
   "outputs": [],
   "source": [
    ">>> Pai = type('Pai', (object,), {})\n",
    ">>> @func_decorator\n",
    "... def init(self, nome):\n",
    "...     self.nome = nome\n",
    ">>> Pai.__init__ = init\n",
    ">>> pai = Pai(\"Roberto Pai\")"
   ]
  },
  {
   "cell_type": "code",
   "execution_count": null,
   "metadata": {},
   "outputs": [],
   "source": [
    ">>> class Filho(Pai):\n",
    "...     def __init__(self, nome):\n",
    "...         super().__init__(nome)\n",
    "...     def __str__(self):\n",
    "...         return f\"Meu nome é {self.nome}\"\n",
    ">>> filho = Filho(\"Roberto Filho\")\n",
    ">>> print(filho)"
   ]
  },
  {
   "cell_type": "code",
   "execution_count": null,
   "metadata": {},
   "outputs": [],
   "source": [
    ">>> def class_decorator(cls):\n",
    "...     for key, val in vars(cls).items():\n",
    "...         if callable(val):\n",
    "...             setattr(cls, key, func_decorator(val))\n",
    "...     return cls\n",
    ">>> @class_decorator\n",
    "... class Pai():\n",
    "...     def __init__(self, nome):\n",
    "...         self.nome = nome\n",
    ">>> class Filho(Pai):\n",
    "...     def __init__(self, nome):\n",
    "...         super().__init__(nome)\n",
    "...     def __str__(self):\n",
    "...         return f\"Meu nome é {self.nome}\"\n",
    ">>> pai = Pai(\"Roberto Pai\")\n",
    "Função Pai.__init__ executada em 0.0s\n",
    ">>> filho = Filho(\"Roberto Filho\")\n",
    "Função Pai.__init__ executada em 0.0s"
   ]
  },
  {
   "cell_type": "code",
   "execution_count": null,
   "metadata": {},
   "outputs": [],
   "source": [
    ">>> class Pessoa(type):\n",
    "...     def __new__(cls, cls_name, bases, cls_dict):\n",
    "...         obj = super().__new__(cls, cls_name, bases, cls_dict) \n",
    "...         obj = class_decorator(obj) \n",
    "...         return obj"
   ]
  },
  {
   "cell_type": "code",
   "execution_count": null,
   "metadata": {},
   "outputs": [],
   "source": [
    ">>> class Pai(metaclass=Pessoa):\n",
    "...     def __init__(self, nome):\n",
    "...         self.nome = nome\n",
    ">>> class Filho(Pai):\n",
    "...     def __init__(self, nome):\n",
    "...         super().__init__(nome)\n",
    "...     def __str__(self):\n",
    "...         return f\"Meu nome é {self.nome}\"\n",
    ">>> pai = Pai(\"Roberto Pai\")\n",
    ">>> filho = Filho(\"Roberto Filho\")\n",
    ">>> print(filho)"
   ]
  }
 ],
 "metadata": {
  "kernelspec": {
   "display_name": "Python 3",
   "language": "python",
   "name": "python3"
  },
  "language_info": {
   "codemirror_mode": {
    "name": "ipython",
    "version": 3
   },
   "file_extension": ".py",
   "mimetype": "text/x-python",
   "name": "python",
   "nbconvert_exporter": "python",
   "pygments_lexer": "ipython3",
   "version": "3.8.5"
  }
 },
 "nbformat": 4,
 "nbformat_minor": 4
}
