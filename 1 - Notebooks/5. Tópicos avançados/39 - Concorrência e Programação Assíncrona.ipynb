{
 "cells": [
  {
   "cell_type": "markdown",
   "metadata": {},
   "source": [
    "Concorrência e paralelismo"
   ]
  },
  {
   "cell_type": "code",
   "execution_count": null,
   "metadata": {},
   "outputs": [],
   "source": [
    ">>> import time\n",
    ">>> import random\n",
    ">>> from threading import Thread\n",
    ">>> class AvisarSistema(Thread):\n",
    "...     def __init__ (self, url_do_sistema):\n",
    "...         Thread.__init__(self)\n",
    "...         self.url_to_call = url_do_sistema\n",
    "...     def run(self):\n",
    "...         # define um valor aleatório entre 0.5 e 2.5\n",
    "...         sleep_time = random.uniform(0.5, 2.5)\n",
    "...         # suspende a thread pelo tempo definido (em segundos)\n",
    "...         time.sleep(sleep_time)\n",
    "...         print(f\">>> Calling {self.url_to_call}\")\n",
    ">>> a = AvisarSistema(\"Url do sistema A\")\n",
    ">>> a.start()\n",
    ">>> b = AvisarSistema(\"Url do sistema B\")\n",
    ">>> b.start()\n",
    ">>> c = AvisarSistema(\"Url do sistema C\")\n",
    ">>> c.start()"
   ]
  },
  {
   "cell_type": "markdown",
   "metadata": {},
   "source": [
    "GIL — Global Interpreter Lock"
   ]
  },
  {
   "cell_type": "code",
   "execution_count": 1,
   "metadata": {},
   "outputs": [],
   "source": [
    "import time\n",
    "import queue\n",
    "from multiprocessing import Process, Queue, current_process\n",
    "\n",
    "def processar_fila_de_pedidos(novos_pedidos, pedidos_processados):\n",
    "    '''\n",
    "    A função espera receber dois objetos do tipo Queue\n",
    "    '''\n",
    "    while True:\n",
    "        try:\n",
    "            '''\n",
    "            pega um pedido da fila, a função get_nowait() levantará\n",
    "            uma queue.Empty exception se a fila estiver vazia\n",
    "            '''\n",
    "            pedido = novos_pedidos.get_nowait()\n",
    "        except queue.Empty:\n",
    "            break\n",
    "        else:\n",
    "            # Processa o pedido e adiciona a fila de pedidos processados\n",
    "            print(pedido[1])\n",
    "            pedidos_processados.put(\n",
    "                f'Pedido número: {pedido[0]}, ' + \\\n",
    "                'foi processado por {current_process().name}'\n",
    "            )\n",
    "            time.sleep(.5)\n",
    "    return True\n",
    "\n",
    "def processar_pedidos():\n",
    "    quantidade_de_pedidos = 10\n",
    "    quantidade_de_processos = 4\n",
    "    novos_pedidos = Queue()\n",
    "    pedidos_processados = Queue()\n",
    "    processos = []\n",
    "    for i in range(quantidade_de_pedidos):\n",
    "        # para nosso exemplo, um pedido é uma tupla com id, descricao\n",
    "        pedido = (i, f\"Pedido de compra número: {i}\")\n",
    "        novos_pedidos.put(pedido)\n",
    "    # criando os processos\n",
    "    for w in range(quantidade_de_processos):\n",
    "        '''\n",
    "        O parametro TARGET recebe a funcão que será executada e o\n",
    "        parametro ARGS os paramentros da função passada no parametro\n",
    "        anterior.\n",
    "        '''\n",
    "        p = Process(\n",
    "            target=processar_fila_de_pedidos,\n",
    "            args=(novos_pedidos, pedidos_processados)\n",
    "        )\n",
    "        processos.append(p)\n",
    "        p.start()\n",
    "    # finalizando os processos\n",
    "    for p in processos:\n",
    "        p.join()\n",
    "    # imprime os resultados\n",
    "    while not pedidos_processados.empty():\n",
    "        print(pedidos_processados.get())\n",
    "    return True\n",
    "\n",
    "if __name__ == '__main__':\n",
    "    processar_pedidos()"
   ]
  },
  {
   "cell_type": "markdown",
   "metadata": {},
   "source": [
    "Futures e Objetos de espera (awaitable objects)"
   ]
  },
  {
   "cell_type": "code",
   "execution_count": null,
   "metadata": {},
   "outputs": [],
   "source": [
    ">>> import asyncio\n",
    ">>> # Executa uma atividade até ser cancelada\n",
    ">>> async def rotina_rapida():\n",
    "...     print(\"Executando rotina_rapida\")\n",
    "...     i = 1\n",
    "...     while True:\n",
    "...         print('.' * i)\n",
    "...         # Aguarda o retorno da função sleep(1).\n",
    "...         # Nesse momento o event loop entende\n",
    "...         # que a mudança de contexto pode acontecer.\n",
    "...         await asyncio.sleep(1)\n",
    "...         i += 1\n",
    ">>> # Executa uma atividade demorada\n",
    ">>> async def rotina_muito_lenta():\n",
    "...     print(\"Executando rotina_muito_lenta...\")\n",
    "...     # Aguarda o retorno da função sleep(10)\n",
    "...     # Nesse momento o event loop entende\n",
    "...     # que a mudança de contexto pode acontecer.\n",
    "...     await asyncio.sleep(10)\n",
    "...     print(\"rotina_muito_lenta finalizada!\")\n",
    ">>> # Executa as rotinas\n",
    ">>> async def executar_rotinas():\n",
    "...     # Cria a Task para controle da tarefa rápida\n",
    "...     tarefa_rapida = asyncio.ensure_future(rotina_rapida())\n",
    "...     # Dispara a execução da rotina muito lenta\n",
    "...     await rotina_muito_lenta()\n",
    "...     # Cancela a execução da tarefa rápida\n",
    "...     tarefa_rapida.cancel()\n",
    ">>> # Pega o loop de eventos\n",
    ">>> loop = asyncio.get_event_loop()\n",
    ">>> # Executa a rotina até finalizar todas as instruções\n",
    ">>> loop.run_until_complete(executar_rotinas())\n",
    ">>> # Encerra o loop de eventos\n",
    ">>> loop.close()"
   ]
  },
  {
   "cell_type": "markdown",
   "metadata": {},
   "source": [
    "Pontos de atenção na programação assíncrona"
   ]
  },
  {
   "cell_type": "code",
   "execution_count": null,
   "metadata": {},
   "outputs": [],
   "source": [
    ">>> async def get_content(url='http://www.Google.com'):\n",
    "...     response = requests.get(url)\n",
    "...     return response"
   ]
  },
  {
   "cell_type": "code",
   "execution_count": null,
   "metadata": {},
   "outputs": [],
   "source": [
    ">>> async def get_content(url='http://www.Google.com')\n",
    "...     response = await aiohttp.request('GET', url)\n",
    "...     return response"
   ]
  }
 ],
 "metadata": {
  "kernelspec": {
   "display_name": "Python 3",
   "language": "python",
   "name": "python3"
  },
  "language_info": {
   "codemirror_mode": {
    "name": "ipython",
    "version": 3
   },
   "file_extension": ".py",
   "mimetype": "text/x-python",
   "name": "python",
   "nbconvert_exporter": "python",
   "pygments_lexer": "ipython3",
   "version": "3.8.5"
  }
 },
 "nbformat": 4,
 "nbformat_minor": 4
}
