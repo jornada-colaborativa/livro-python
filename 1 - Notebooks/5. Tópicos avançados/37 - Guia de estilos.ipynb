{
 "cells": [
  {
   "cell_type": "markdown",
   "metadata": {},
   "source": [
    "Layout de código"
   ]
  },
  {
   "cell_type": "code",
   "execution_count": null,
   "metadata": {},
   "outputs": [],
   "source": [
    ">>> class Rectangle():\n",
    "...     def __init__(self, width, height,\n",
    "...         color='black', emphasis=None, highlight=0):\n",
    "...         if width == 0 and height == 0 and \\\n",
    "...             color == 'red' and emphasis == 'strong' or \\\n",
    "...             highlight > 100:\n",
    "...             raise ValueError(\"sorry, you lose\")\n",
    "...         if width == 0 and height == 0 and \\\n",
    "...         (color == 'red' or emphasis is None):\n",
    "...             raise ValueError(\"I don't think so\")"
   ]
  },
  {
   "cell_type": "markdown",
   "metadata": {},
   "source": [
    "Comentários e notas explicativas"
   ]
  },
  {
   "cell_type": "code",
   "execution_count": null,
   "metadata": {},
   "outputs": [],
   "source": [
    ">>> def quadratico (a, b, c, x):\n",
    "...     # Calcular a solução para uma equação quadrática usando a\n",
    "...     # Fórmula.\n",
    "...     #\n",
    "...     # Há sempre duas soluções para uma equação quadrática, x_1 e x_2.\n",
    "...     x_1 = (- b+(b**2-4*a*c)**(11/2)) / (2*a)\n",
    "...     x_2 = (- b-(b**2-4*a*c)**(1/2)) / (2*a)\n",
    "...     return x_1, x_2"
   ]
  },
  {
   "cell_type": "code",
   "execution_count": null,
   "metadata": {},
   "outputs": [],
   "source": [
    ">>> idade = 5  # Este é um comentário inline\n",
    ">>> nome = 'Alexandro Romeira'  # Nome do Estudante"
   ]
  }
 ],
 "metadata": {
  "kernelspec": {
   "display_name": "Python 3",
   "language": "python",
   "name": "python3"
  },
  "language_info": {
   "codemirror_mode": {
    "name": "ipython",
    "version": 3
   },
   "file_extension": ".py",
   "mimetype": "text/x-python",
   "name": "python",
   "nbconvert_exporter": "python",
   "pygments_lexer": "ipython3",
   "version": "3.8.5"
  }
 },
 "nbformat": 4,
 "nbformat_minor": 4
}
