{
 "cells": [
  {
   "cell_type": "markdown",
   "metadata": {},
   "source": [
    "Não use abreviações"
   ]
  },
  {
   "cell_type": "code",
   "execution_count": null,
   "metadata": {},
   "outputs": [],
   "source": [
    ">>> ct_n = len([1,2,3,4,5])  # ruim\n",
    ">>> quantidade_de_numeros = len([1,2,3,4,5])  # bom\n",
    ">>> nmdapsa = 'Josivaldo'  # horroroso\n",
    ">>> nome_da_pessoa = 'Josivaldo'  # bem melhor"
   ]
  },
  {
   "cell_type": "markdown",
   "metadata": {},
   "source": [
    "Utilize nomes descritivos"
   ]
  },
  {
   "cell_type": "code",
   "execution_count": null,
   "metadata": {},
   "outputs": [],
   "source": [
    ">>> # ruim\n",
    ">>> def ltTParaMl(x):\n",
    "...     return x * 1000\n",
    ">>> # bom\n",
    ">>> def transforma_litro_para_mililitro(valor_em_lt):\n",
    "...     return valor_em_lt * 1000"
   ]
  },
  {
   "cell_type": "code",
   "execution_count": null,
   "metadata": {},
   "outputs": [],
   "source": [
    ">>> # ruim\n",
    ">>> if soma > 1250:  # O que significa este número ?\n",
    "...     faca_algo()\n",
    ">>> # bom\n",
    ">>> MINIMO_NECESSARIO_PARA_DESCONTO = 1250\n",
    ">>> if soma > MINIMO_NECESSARIO_PARA_DESCONTO:\n",
    "...     faca_algo()\n",
    ">>> # ruim\n",
    ">>> if variavel in (1,15,99,120):\n",
    "...     raise Exception('Não aceito')\n",
    ">>> # bom\n",
    ">>> planos_nao_permitidos = (1,15,99,120)\n",
    ">>> if variavel in planos_nao_permitidos:\n",
    "...     raise Exception('Não aceito')"
   ]
  },
  {
   "cell_type": "code",
   "execution_count": null,
   "metadata": {},
   "outputs": [],
   "source": [
    ">>> class Pessoa():\n",
    "...     def falar(self):\n",
    "...         print('Oi')\n",
    ">>> # ruim\n",
    ">>> p1 = Pessoa()\n",
    ">>> p2 = Pessoa()\n",
    ">>> # bom\n",
    ">>> pai = Pessoa()\n",
    ">>> filho = Pessoa()"
   ]
  },
  {
   "cell_type": "markdown",
   "metadata": {},
   "source": [
    "Sempre pergunte o que você quer saber de forma clara"
   ]
  },
  {
   "cell_type": "code",
   "execution_count": null,
   "metadata": {},
   "outputs": [],
   "source": [
    ">>> #ruim\n",
    ">>> def lista_usuarios():\n",
    "...     if request not in ('POST','PUT','DELETE'):\n",
    "...     \t  return get_users_list()\n",
    "...     else:\n",
    "...     \t  return \"Method not allowed\"\n",
    ">>> #bom\n",
    ">>> def lista_usuarios():\n",
    "...     if request.method == 'GET':\n",
    "...     \t  return get_users_list()\n",
    "...     return \"Method not allowed\""
   ]
  },
  {
   "cell_type": "code",
   "execution_count": null,
   "metadata": {},
   "outputs": [],
   "source": [
    ">>> # ruim\n",
    ">>> nao_deve_processar = True\n",
    ">>> if not nao_deve_processar:\n",
    "...     # faz algo aqui\n",
    ">>> # bom\n",
    ">>> deve_processar = True\n",
    ">>> # ou\n",
    ">>> deve_processar = False\n",
    ">>> if deve_processar:\n",
    "...     # faz algo aqui\n",
    ">>> # ou\n",
    ">>> if not deve_processar:\n",
    "...     # faz algo aqui"
   ]
  },
  {
   "cell_type": "markdown",
   "metadata": {},
   "source": [
    "Utilize booleanos de forma implícita"
   ]
  },
  {
   "cell_type": "code",
   "execution_count": null,
   "metadata": {},
   "outputs": [],
   "source": [
    ">>> # ruim\n",
    ">>> def contem_letra(letra, nome):\n",
    "...     if letra in nome:\n",
    "...         return True\n",
    "...     else:\n",
    "...         return False\n",
    ">>> # bom\n",
    ">>> def contem_letra(letra, nome):\n",
    "...     return letra in nome\n",
    ">>> # ou\n",
    ">>> # ruim\n",
    ">>> if conta.numero in get_lista_de_contas_bloqueadas():\n",
    "...     conta.bloqueada = True\n",
    ">>> # bom\n",
    ">>> conta.bloqueada = (conta.numero in get_lista_de_contas_bloqueadas())"
   ]
  },
  {
   "cell_type": "markdown",
   "metadata": {},
   "source": [
    "Cuidado com a quantidade de parâmetros"
   ]
  },
  {
   "cell_type": "code",
   "execution_count": null,
   "metadata": {},
   "outputs": [],
   "source": [
    ">>> # ruim\n",
    ">>> def metodo_com_muitos_parametros(\n",
    "...     nome, idade, data_nascimento, salario, funcao\n",
    "... ):\n",
    "...     # faz algo aqui...\n",
    ">>> # bom\n",
    ">>> def metodo_com_muitos_parametros(dados_do_usuario):\n",
    "...     nome = dados_do_usuario.get('nome', None)\n",
    "...     # faz algo aqui..."
   ]
  },
  {
   "cell_type": "markdown",
   "metadata": {},
   "source": [
    "Comentários são vilões quando não são bem utilizados"
   ]
  },
  {
   "cell_type": "code",
   "execution_count": null,
   "metadata": {},
   "outputs": [],
   "source": [
    ">>> # ruim\n",
    ">>> # verifica se a venda entra na regra do desconto promocional\n",
    ">>> if venda.valor > 120 and venda.itens > 12:\n",
    "...     venda.desconto = 12\n",
    ">>> # bom\n",
    ">>> if venda.permite_desconto_promocional():\n",
    "...     venda.aplica_desconto_promocional()"
   ]
  },
  {
   "cell_type": "code",
   "execution_count": null,
   "metadata": {},
   "outputs": [],
   "source": [
    ">>> def soma(a,b):\n",
    "...     # retorna a soma de a com b \n",
    "...     return a + b"
   ]
  }
 ],
 "metadata": {
  "kernelspec": {
   "display_name": "Python 3",
   "language": "python",
   "name": "python3"
  },
  "language_info": {
   "codemirror_mode": {
    "name": "ipython",
    "version": 3
   },
   "file_extension": ".py",
   "mimetype": "text/x-python",
   "name": "python",
   "nbconvert_exporter": "python",
   "pygments_lexer": "ipython3",
   "version": "3.8.5"
  }
 },
 "nbformat": 4,
 "nbformat_minor": 4
}
