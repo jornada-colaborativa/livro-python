{
 "cells": [
  {
   "cell_type": "code",
   "execution_count": null,
   "id": "1eeb793e-0ef0-44a6-bbdf-519c95330ef0",
   "metadata": {},
   "outputs": [],
   "source": [
    ">>> from unittest.mock import Mock\n",
    ">>> mock = Mock()\n",
    ">>> mock.side_effect = [1, 2]\n",
    ">>> mock()"
   ]
  },
  {
   "cell_type": "code",
   "execution_count": null,
   "id": "ff9aab42-e3e3-428e-be03-1055160322f7",
   "metadata": {},
   "outputs": [],
   "source": [
    ">>> mock()"
   ]
  },
  {
   "cell_type": "code",
   "execution_count": null,
   "id": "cd28b894-49de-4ff1-a123-6713fdd5530f",
   "metadata": {},
   "outputs": [],
   "source": [
    ">>> mock.return_value = [1, 2]\n",
    ">>> mock()"
   ]
  },
  {
   "cell_type": "code",
   "execution_count": null,
   "id": "b880ecc3-0805-4021-8666-6fdf36bd8e29",
   "metadata": {},
   "outputs": [],
   "source": []
  }
 ],
 "metadata": {
  "kernelspec": {
   "display_name": "Python 3",
   "language": "python",
   "name": "python3"
  },
  "language_info": {
   "codemirror_mode": {
    "name": "ipython",
    "version": 3
   },
   "file_extension": ".py",
   "mimetype": "text/x-python",
   "name": "python",
   "nbconvert_exporter": "python",
   "pygments_lexer": "ipython3",
   "version": "3.6.8"
  }
 },
 "nbformat": 4,
 "nbformat_minor": 5
}
