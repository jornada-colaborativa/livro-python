{
 "cells": [
  {
   "cell_type": "code",
   "execution_count": null,
   "id": "7b058c36-896b-4214-bfa9-c128b467dd5e",
   "metadata": {},
   "outputs": [],
   "source": [
    ">>> from unittest.mock import Mock\n",
    ">>> import requests  \n",
    ">>> mock = Mock(spec=requests)\n",
    ">>> dir(requests)"
   ]
  },
  {
   "cell_type": "code",
   "execution_count": null,
   "id": "8560d389-2112-4c4c-9d55-51abac4e4fb1",
   "metadata": {},
   "outputs": [],
   "source": [
    ">>> set(dir(mock)) >= set(dir(requests)) "
   ]
  },
  {
   "cell_type": "code",
   "execution_count": null,
   "id": "b07e7693-1a5b-44f7-8c99-432883673943",
   "metadata": {},
   "outputs": [],
   "source": [
    ">>> set(dir(mock)) - set(dir(requests))"
   ]
  },
  {
   "cell_type": "code",
   "execution_count": null,
   "id": "addec33c-02a4-470a-a050-9077f623eb3e",
   "metadata": {},
   "outputs": [],
   "source": []
  }
 ],
 "metadata": {
  "kernelspec": {
   "display_name": "Python 3",
   "language": "python",
   "name": "python3"
  },
  "language_info": {
   "codemirror_mode": {
    "name": "ipython",
    "version": 3
   },
   "file_extension": ".py",
   "mimetype": "text/x-python",
   "name": "python",
   "nbconvert_exporter": "python",
   "pygments_lexer": "ipython3",
   "version": "3.6.8"
  }
 },
 "nbformat": 4,
 "nbformat_minor": 5
}
