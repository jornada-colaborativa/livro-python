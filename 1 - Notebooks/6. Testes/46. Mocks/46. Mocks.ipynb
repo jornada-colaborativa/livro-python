{
 "cells": [
  {
   "cell_type": "code",
   "execution_count": null,
   "id": "034856a3-4045-47a0-8dbe-8dcf77bcf03f",
   "metadata": {},
   "outputs": [],
   "source": [
    ">>> from unittest.mock import Mock\n",
    ">>> mock = Mock(return_value=3)\n",
    ">>> mock(2,3,4)"
   ]
  },
  {
   "cell_type": "code",
   "execution_count": null,
   "id": "c5079c77-0cbe-4576-b709-3df5fea51645",
   "metadata": {},
   "outputs": [],
   "source": [
    ">>> mock(\"Bom dia\")"
   ]
  },
  {
   "cell_type": "code",
   "execution_count": null,
   "id": "1150b00a-c537-4e61-b948-56f7f6a6293b",
   "metadata": {},
   "outputs": [],
   "source": [
    ">>> atributos = {\n",
    "...     'metodo.return_value':'valor arbitrário',\n",
    "...     'metodo_com_erro.side_effect':IndexError\n",
    "... } \n",
    ">>> mock.configure_mock(**atributos) \n",
    ">>> mock.metodo()"
   ]
  },
  {
   "cell_type": "code",
   "execution_count": null,
   "id": "00b3cb31-085d-4e2c-b0c8-4cadf5eaf442",
   "metadata": {},
   "outputs": [],
   "source": [
    ">>> mock.metodo_com_erro()"
   ]
  },
  {
   "cell_type": "code",
   "execution_count": null,
   "id": "6b12b85a-cd02-4a94-87ba-562239d19895",
   "metadata": {},
   "outputs": [],
   "source": []
  }
 ],
 "metadata": {
  "kernelspec": {
   "display_name": "Python 3",
   "language": "python",
   "name": "python3"
  },
  "language_info": {
   "codemirror_mode": {
    "name": "ipython",
    "version": 3
   },
   "file_extension": ".py",
   "mimetype": "text/x-python",
   "name": "python",
   "nbconvert_exporter": "python",
   "pygments_lexer": "ipython3",
   "version": "3.6.8"
  }
 },
 "nbformat": 4,
 "nbformat_minor": 5
}
