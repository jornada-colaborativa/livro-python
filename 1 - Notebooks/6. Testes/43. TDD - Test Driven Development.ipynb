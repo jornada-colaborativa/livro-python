{
 "cells": [
  {
   "cell_type": "code",
   "execution_count": null,
   "id": "9cbed8bc-75f1-45f6-8fba-9150f4d84400",
   "metadata": {},
   "outputs": [],
   "source": [
    ">>> def soma(a, b):\n",
    "...     return a+b+1\n",
    ">>> try:\n",
    "...     assert soma(2, 3) == 5, \"Resposta certa é 5\"\n",
    "... except AssertionError as err:\n",
    "...     print(err)"
   ]
  },
  {
   "cell_type": "code",
   "execution_count": null,
   "id": "82ee145b-0ac9-41e2-80d0-f90250ae2287",
   "metadata": {},
   "outputs": [],
   "source": [
    ">>> from functools import reduce\n",
    ">>> def soma(*args):\n",
    "...     return reduce(lambda a,b: a+b, args)\n",
    ">>> try:\n",
    "...     assert soma(2, 3) == 5, \"Resposta certa é 5\"\n",
    "...     assert soma(2, 3, 4) == 9, \"Resposta certa é 9\"\n",
    "... except AssertionError as err:\n",
    "...     print(err)"
   ]
  },
  {
   "cell_type": "code",
   "execution_count": null,
   "id": "be162533-f5de-4c63-aaed-db137f209383",
   "metadata": {},
   "outputs": [],
   "source": []
  }
 ],
 "metadata": {
  "kernelspec": {
   "display_name": "Python 3",
   "language": "python",
   "name": "python3"
  },
  "language_info": {
   "codemirror_mode": {
    "name": "ipython",
    "version": 3
   },
   "file_extension": ".py",
   "mimetype": "text/x-python",
   "name": "python",
   "nbconvert_exporter": "python",
   "pygments_lexer": "ipython3",
   "version": "3.6.8"
  }
 },
 "nbformat": 4,
 "nbformat_minor": 5
}
